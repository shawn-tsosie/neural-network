{
 "cells": [
  {
   "cell_type": "code",
   "execution_count": 1,
   "metadata": {},
   "outputs": [],
   "source": [
    "import numpy as np"
   ]
  },
  {
   "cell_type": "code",
   "execution_count": 37,
   "metadata": {},
   "outputs": [
    {
     "name": "stderr",
     "output_type": "stream",
     "text": [
      "100%|███████████████████████████████████████████| 10/10 [00:30<00:00,  3.00s/it]\n"
     ]
    }
   ],
   "source": [
    "import time\n",
    "\n",
    "from tqdm import tqdm\n",
    "\n",
    "for i in tqdm(range(10)):\n",
    "    time.sleep(3)"
   ]
  },
  {
   "cell_type": "code",
   "execution_count": 38,
   "metadata": {},
   "outputs": [
    {
     "name": "stderr",
     "output_type": "stream",
     "text": [
      "100%|███████████████████████████████████| 10000/10000 [00:05<00:00, 1862.30it/s]\n"
     ]
    }
   ],
   "source": [
    "for i in tqdm(range(10000)):\n",
    "    i ** i"
   ]
  },
  {
   "cell_type": "code",
   "execution_count": 44,
   "metadata": {},
   "outputs": [
    {
     "data": {
      "text/plain": [
       "54.00000000000001"
      ]
     },
     "execution_count": 44,
     "metadata": {},
     "output_type": "execute_result"
    }
   ],
   "source": [
    "np.linalg.det(np.matmul(x, x.T))"
   ]
  },
  {
   "cell_type": "code",
   "execution_count": 45,
   "metadata": {},
   "outputs": [
    {
     "data": {
      "text/plain": [
       "0.0"
      ]
     },
     "execution_count": 45,
     "metadata": {},
     "output_type": "execute_result"
    }
   ],
   "source": [
    "np.linalg.det(np.matmul(x.T, x))"
   ]
  },
  {
   "cell_type": "code",
   "execution_count": 46,
   "metadata": {},
   "outputs": [
    {
     "data": {
      "text/plain": [
       "(array([[-0.3863177 , -0.92236578],\n",
       "        [-0.92236578,  0.3863177 ]]),\n",
       " array([9.508032  , 0.77286964]),\n",
       " array([[-0.42866713, -0.56630692, -0.7039467 ],\n",
       "        [ 0.80596391,  0.11238241, -0.58119908],\n",
       "        [ 0.40824829, -0.81649658,  0.40824829]]))"
      ]
     },
     "execution_count": 46,
     "metadata": {},
     "output_type": "execute_result"
    }
   ],
   "source": [
    "np.linalg.svd(x)"
   ]
  },
  {
   "cell_type": "code",
   "execution_count": 47,
   "metadata": {},
   "outputs": [],
   "source": [
    "from numpy import matlib"
   ]
  },
  {
   "cell_type": "code",
   "execution_count": 48,
   "metadata": {},
   "outputs": [
    {
     "data": {
      "text/plain": [
       "matrix([[-0.28677209]])"
      ]
     },
     "execution_count": 48,
     "metadata": {},
     "output_type": "execute_result"
    }
   ],
   "source": [
    "np.matlib.randn(1)"
   ]
  },
  {
   "cell_type": "code",
   "execution_count": 49,
   "metadata": {},
   "outputs": [
    {
     "data": {
      "text/plain": [
       "matrix([[1., 0., 0.],\n",
       "        [0., 1., 0.],\n",
       "        [0., 0., 1.]])"
      ]
     },
     "execution_count": 49,
     "metadata": {},
     "output_type": "execute_result"
    }
   ],
   "source": [
    "matlib.identity(3)"
   ]
  },
  {
   "cell_type": "markdown",
   "metadata": {},
   "source": [
    "5 * matlib.identity(3)"
   ]
  },
  {
   "cell_type": "code",
   "execution_count": 50,
   "metadata": {},
   "outputs": [],
   "source": [
    "f1 = x.flat"
   ]
  },
  {
   "cell_type": "code",
   "execution_count": 51,
   "metadata": {},
   "outputs": [
    {
     "name": "stdout",
     "output_type": "stream",
     "text": [
      "1\n",
      "2\n",
      "3\n",
      "4\n",
      "5\n",
      "6\n"
     ]
    }
   ],
   "source": [
    "for i in f1:\n",
    "    print(i)"
   ]
  },
  {
   "cell_type": "code",
   "execution_count": 52,
   "metadata": {},
   "outputs": [],
   "source": [
    "f2 = x.flatten('C')"
   ]
  },
  {
   "cell_type": "code",
   "execution_count": 54,
   "metadata": {},
   "outputs": [
    {
     "data": {
      "text/plain": [
       "91"
      ]
     },
     "execution_count": 54,
     "metadata": {},
     "output_type": "execute_result"
    }
   ],
   "source": [
    "1 + 4 + 9 + 16 + 25 + 36"
   ]
  },
  {
   "cell_type": "code",
   "execution_count": 55,
   "metadata": {},
   "outputs": [
    {
     "data": {
      "text/plain": [
       "array([[ 1,  3,  6],\n",
       "       [ 4,  9, 15]], dtype=int32)"
      ]
     },
     "execution_count": 55,
     "metadata": {},
     "output_type": "execute_result"
    }
   ],
   "source": [
    "x.cumsum(1)"
   ]
  },
  {
   "cell_type": "code",
   "execution_count": 56,
   "metadata": {},
   "outputs": [
    {
     "data": {
      "text/plain": [
       "array([ 6, 15])"
      ]
     },
     "execution_count": 56,
     "metadata": {},
     "output_type": "execute_result"
    }
   ],
   "source": [
    "x.sum(1)"
   ]
  },
  {
   "cell_type": "code",
   "execution_count": 57,
   "metadata": {},
   "outputs": [
    {
     "data": {
      "text/plain": [
       "array([2., 5.])"
      ]
     },
     "execution_count": 57,
     "metadata": {},
     "output_type": "execute_result"
    }
   ],
   "source": [
    "x.mean(1)"
   ]
  },
  {
   "cell_type": "code",
   "execution_count": 58,
   "metadata": {},
   "outputs": [
    {
     "data": {
      "text/plain": [
       "array([0.81649658, 0.81649658])"
      ]
     },
     "execution_count": 58,
     "metadata": {},
     "output_type": "execute_result"
    }
   ],
   "source": [
    "x.std(1)"
   ]
  },
  {
   "cell_type": "code",
   "execution_count": 59,
   "metadata": {},
   "outputs": [],
   "source": [
    "W = np.array([[1, 2, 3], [4, 5, 6], [7, 8, 9]])"
   ]
  },
  {
   "cell_type": "code",
   "execution_count": 60,
   "metadata": {},
   "outputs": [
    {
     "data": {
      "text/plain": [
       "dtype('int32')"
      ]
     },
     "execution_count": 60,
     "metadata": {},
     "output_type": "execute_result"
    }
   ],
   "source": [
    "W.dtype"
   ]
  },
  {
   "cell_type": "code",
   "execution_count": 61,
   "metadata": {},
   "outputs": [
    {
     "data": {
      "text/plain": [
       "dtype('int32')"
      ]
     },
     "execution_count": 61,
     "metadata": {},
     "output_type": "execute_result"
    }
   ],
   "source": [
    "W.dtype"
   ]
  },
  {
   "cell_type": "code",
   "execution_count": 62,
   "metadata": {},
   "outputs": [
    {
     "data": {
      "text/plain": [
       "(2, 3)"
      ]
     },
     "execution_count": 62,
     "metadata": {},
     "output_type": "execute_result"
    }
   ],
   "source": [
    "x.shape"
   ]
  },
  {
   "cell_type": "code",
   "execution_count": 63,
   "metadata": {},
   "outputs": [
    {
     "data": {
      "text/plain": [
       "(3, 3)"
      ]
     },
     "execution_count": 63,
     "metadata": {},
     "output_type": "execute_result"
    }
   ],
   "source": [
    "W.shape"
   ]
  },
  {
   "cell_type": "code",
   "execution_count": 64,
   "metadata": {},
   "outputs": [
    {
     "data": {
      "text/plain": [
       "array([[ 14,  32],\n",
       "       [ 32,  77],\n",
       "       [ 50, 122]])"
      ]
     },
     "execution_count": 64,
     "metadata": {},
     "output_type": "execute_result"
    }
   ],
   "source": [
    "np.matmul(W, x.T)"
   ]
  },
  {
   "cell_type": "code",
   "execution_count": 65,
   "metadata": {},
   "outputs": [
    {
     "name": "stderr",
     "output_type": "stream",
     "text": [
      "Using TensorFlow backend.\n"
     ]
    }
   ],
   "source": [
    "import keras"
   ]
  },
  {
   "cell_type": "code",
   "execution_count": 66,
   "metadata": {},
   "outputs": [],
   "source": [
    "(x_train, y_train), (x_test, y_test) = keras.datasets.fashion_mnist.load_data()"
   ]
  },
  {
   "cell_type": "code",
   "execution_count": 67,
   "metadata": {},
   "outputs": [
    {
     "data": {
      "text/plain": [
       "(60000, 28, 28)"
      ]
     },
     "execution_count": 67,
     "metadata": {},
     "output_type": "execute_result"
    }
   ],
   "source": [
    "x_train.shape"
   ]
  },
  {
   "cell_type": "code",
   "execution_count": 68,
   "metadata": {},
   "outputs": [
    {
     "data": {
      "text/plain": [
       "(10000, 28, 28)"
      ]
     },
     "execution_count": 68,
     "metadata": {},
     "output_type": "execute_result"
    }
   ],
   "source": [
    "x_test.shape"
   ]
  },
  {
   "cell_type": "code",
   "execution_count": 69,
   "metadata": {},
   "outputs": [
    {
     "data": {
      "text/plain": [
       "(60000,)"
      ]
     },
     "execution_count": 69,
     "metadata": {},
     "output_type": "execute_result"
    }
   ],
   "source": [
    "y_train.shape"
   ]
  },
  {
   "cell_type": "code",
   "execution_count": 70,
   "metadata": {},
   "outputs": [
    {
     "data": {
      "text/plain": [
       "9"
      ]
     },
     "execution_count": 70,
     "metadata": {},
     "output_type": "execute_result"
    }
   ],
   "source": [
    "y_train[0]"
   ]
  },
  {
   "cell_type": "code",
   "execution_count": 71,
   "metadata": {},
   "outputs": [
    {
     "data": {
      "text/plain": [
       "(60000, 28, 28)"
      ]
     },
     "execution_count": 71,
     "metadata": {},
     "output_type": "execute_result"
    }
   ],
   "source": [
    "x_train.shape"
   ]
  },
  {
   "cell_type": "code",
   "execution_count": 72,
   "metadata": {},
   "outputs": [],
   "source": [
    "y = y_test[:10].copy()"
   ]
  },
  {
   "cell_type": "code",
   "execution_count": 73,
   "metadata": {},
   "outputs": [
    {
     "data": {
      "text/plain": [
       "array([9, 2, 1, 1, 6, 1, 4, 6, 5, 7], dtype=uint8)"
      ]
     },
     "execution_count": 73,
     "metadata": {},
     "output_type": "execute_result"
    }
   ],
   "source": [
    "y"
   ]
  },
  {
   "cell_type": "code",
   "execution_count": 74,
   "metadata": {},
   "outputs": [
    {
     "data": {
      "text/plain": [
       "array([2.197 , 0.6934, 0.    , 0.    , 1.792 , 0.    , 1.387 , 1.792 ,\n",
       "       1.609 , 1.946 ], dtype=float16)"
      ]
     },
     "execution_count": 74,
     "metadata": {},
     "output_type": "execute_result"
    }
   ],
   "source": [
    "np.log(y)"
   ]
  },
  {
   "cell_type": "code",
   "execution_count": 75,
   "metadata": {},
   "outputs": [],
   "source": [
    "p = y_test[11:21].copy()"
   ]
  },
  {
   "cell_type": "code",
   "execution_count": 76,
   "metadata": {},
   "outputs": [
    {
     "data": {
      "text/plain": [
       "array([5, 7, 3, 4, 1, 2, 4, 8, 0, 2], dtype=uint8)"
      ]
     },
     "execution_count": 76,
     "metadata": {},
     "output_type": "execute_result"
    }
   ],
   "source": [
    "p"
   ]
  },
  {
   "cell_type": "code",
   "execution_count": 77,
   "metadata": {},
   "outputs": [
    {
     "data": {
      "text/plain": [
       "array([10.984,  4.85 ,  0.   ,  0.   ,  1.792,  0.   ,  5.547, 14.336,\n",
       "        0.   ,  3.893], dtype=float16)"
      ]
     },
     "execution_count": 77,
     "metadata": {},
     "output_type": "execute_result"
    }
   ],
   "source": [
    "np.log(y) * p"
   ]
  },
  {
   "cell_type": "code",
   "execution_count": 78,
   "metadata": {},
   "outputs": [
    {
     "data": {
      "text/plain": [
       "10.985"
      ]
     },
     "execution_count": 78,
     "metadata": {},
     "output_type": "execute_result"
    }
   ],
   "source": [
    "2.197*5"
   ]
  },
  {
   "cell_type": "code",
   "execution_count": 79,
   "metadata": {},
   "outputs": [],
   "source": [
    "A = np.zeros(10)"
   ]
  },
  {
   "cell_type": "code",
   "execution_count": 80,
   "metadata": {},
   "outputs": [
    {
     "data": {
      "text/plain": [
       "array([0., 0., 0., 0., 0., 0., 0., 0., 0., 0.])"
      ]
     },
     "execution_count": 80,
     "metadata": {},
     "output_type": "execute_result"
    }
   ],
   "source": [
    "A"
   ]
  },
  {
   "cell_type": "code",
   "execution_count": 81,
   "metadata": {},
   "outputs": [
    {
     "data": {
      "text/plain": [
       "7"
      ]
     },
     "execution_count": 81,
     "metadata": {},
     "output_type": "execute_result"
    }
   ],
   "source": [
    "p[1]"
   ]
  },
  {
   "cell_type": "code",
   "execution_count": 82,
   "metadata": {},
   "outputs": [],
   "source": [
    "A[p[0]] = 1"
   ]
  },
  {
   "cell_type": "code",
   "execution_count": 83,
   "metadata": {},
   "outputs": [
    {
     "data": {
      "text/plain": [
       "array([0., 0., 0., 0., 0., 1., 0., 0., 0., 0.])"
      ]
     },
     "execution_count": 83,
     "metadata": {},
     "output_type": "execute_result"
    }
   ],
   "source": [
    "A"
   ]
  },
  {
   "cell_type": "code",
   "execution_count": 84,
   "metadata": {},
   "outputs": [],
   "source": [
    "A = np.zeros(10)"
   ]
  },
  {
   "cell_type": "code",
   "execution_count": 85,
   "metadata": {},
   "outputs": [],
   "source": [
    "A[p[0] - 1] = 1"
   ]
  },
  {
   "cell_type": "code",
   "execution_count": 86,
   "metadata": {},
   "outputs": [
    {
     "data": {
      "text/plain": [
       "array([0., 0., 0., 0., 1., 0., 0., 0., 0., 0.])"
      ]
     },
     "execution_count": 86,
     "metadata": {},
     "output_type": "execute_result"
    }
   ],
   "source": [
    "A"
   ]
  },
  {
   "cell_type": "code",
   "execution_count": 87,
   "metadata": {},
   "outputs": [
    {
     "data": {
      "text/plain": [
       "(10,)"
      ]
     },
     "execution_count": 87,
     "metadata": {},
     "output_type": "execute_result"
    }
   ],
   "source": [
    "A.shape"
   ]
  },
  {
   "cell_type": "code",
   "execution_count": 88,
   "metadata": {},
   "outputs": [
    {
     "data": {
      "text/plain": [
       "10"
      ]
     },
     "execution_count": 88,
     "metadata": {},
     "output_type": "execute_result"
    }
   ],
   "source": [
    "A.shape[0]"
   ]
  },
  {
   "cell_type": "code",
   "execution_count": 89,
   "metadata": {},
   "outputs": [
    {
     "data": {
      "text/plain": [
       "152"
      ]
     },
     "execution_count": 89,
     "metadata": {},
     "output_type": "execute_result"
    }
   ],
   "source": [
    "np.dot(y, p)"
   ]
  },
  {
   "cell_type": "code",
   "execution_count": 90,
   "metadata": {},
   "outputs": [
    {
     "data": {
      "text/plain": [
       "array([9, 2, 1, 1, 6, 1, 4, 6, 5, 7], dtype=uint8)"
      ]
     },
     "execution_count": 90,
     "metadata": {},
     "output_type": "execute_result"
    }
   ],
   "source": [
    "y"
   ]
  },
  {
   "cell_type": "code",
   "execution_count": 91,
   "metadata": {},
   "outputs": [
    {
     "data": {
      "text/plain": [
       "array([5, 7, 3, 4, 1, 2, 4, 8, 0, 2], dtype=uint8)"
      ]
     },
     "execution_count": 91,
     "metadata": {},
     "output_type": "execute_result"
    }
   ],
   "source": [
    "p"
   ]
  },
  {
   "cell_type": "code",
   "execution_count": 92,
   "metadata": {},
   "outputs": [
    {
     "data": {
      "text/plain": [
       "(10000, 28, 28)"
      ]
     },
     "execution_count": 92,
     "metadata": {},
     "output_type": "execute_result"
    }
   ],
   "source": [
    "x_test.shape"
   ]
  },
  {
   "cell_type": "code",
   "execution_count": 93,
   "metadata": {},
   "outputs": [
    {
     "data": {
      "text/plain": [
       "array([0, 0, 0, 0, 0, 0, 0, 0, 0, 0, 0, 0, 0, 0, 0, 0, 0, 0, 0, 0, 0, 0,\n",
       "       0, 0, 0, 0, 0, 0], dtype=uint8)"
      ]
     },
     "execution_count": 93,
     "metadata": {},
     "output_type": "execute_result"
    }
   ],
   "source": [
    "x_test[0,0]"
   ]
  },
  {
   "cell_type": "code",
   "execution_count": 94,
   "metadata": {},
   "outputs": [
    {
     "data": {
      "text/plain": [
       "28"
      ]
     },
     "execution_count": 94,
     "metadata": {},
     "output_type": "execute_result"
    }
   ],
   "source": [
    "x_test.shape[1]"
   ]
  },
  {
   "cell_type": "code",
   "execution_count": 95,
   "metadata": {},
   "outputs": [
    {
     "data": {
      "text/plain": [
       "(28, 28)"
      ]
     },
     "execution_count": 95,
     "metadata": {},
     "output_type": "execute_result"
    }
   ],
   "source": [
    "np.dot(x_test[1], x_test[0]).shape"
   ]
  },
  {
   "cell_type": "code",
   "execution_count": 96,
   "metadata": {},
   "outputs": [],
   "source": [
    "y = x_test[1].copy()"
   ]
  },
  {
   "cell_type": "code",
   "execution_count": 97,
   "metadata": {},
   "outputs": [
    {
     "data": {
      "text/plain": [
       "array([[  0,   0,   0,   0,   0,   0,   0,   0,   0,   0,  13,  67,   0,\n",
       "          0,   0,   0,  50,  38,   0,   0,   0,   0,   0,   0,   0,   0,\n",
       "          0,   0],\n",
       "       [  0,   0,   0,   0,   0,   0,   0,   8, 120, 209, 226, 247, 237,\n",
       "        255, 255, 255, 247, 238, 235, 172,  72,   0,   0,   0,   0,   0,\n",
       "          0,   0],\n",
       "       [  0,   0,   0,   0,   0,   0, 137, 239, 252, 243, 234, 229, 238,\n",
       "        244, 246, 240, 230, 232, 239, 248, 251, 194,   0,   0,   0,   0,\n",
       "          0,   0],\n",
       "       [  0,   0,   0,   0,   0, 102, 255, 231, 228, 227, 228, 233, 230,\n",
       "        230, 229, 228, 232, 232, 231, 227, 224, 252, 179,   0,   0,   0,\n",
       "          0,   0],\n",
       "       [  0,   0,   0,   0,   0, 233, 241, 229, 231, 255, 255, 238, 231,\n",
       "        227, 238, 246, 228, 230, 227, 234, 235, 229, 241,  20,   0,   0,\n",
       "          0,   0],\n",
       "       [  0,   0,   0,   0,   0, 248, 241, 231, 255, 149,  47, 252, 228,\n",
       "        255, 242, 216, 238, 232, 255, 228, 220, 234, 250,  54,   0,   0,\n",
       "          0,   0],\n",
       "       [  0,   0,   0,   0,   0, 255, 240, 232, 255,  15,   0, 255, 237,\n",
       "        191,   0,   0, 214, 255,  13, 123, 255, 234, 252, 114,   0,   0,\n",
       "          0,   0],\n",
       "       [  0,   0,   0,   0,   6, 255, 238, 239, 255, 177,   0, 255, 255,\n",
       "          0, 130, 116,  47,  65,  43,  37, 255, 236, 249, 162,   0,   0,\n",
       "          0,   0],\n",
       "       [  0,   0,   0,   0,  32, 255, 236, 245, 255, 204,   0, 255,  84,\n",
       "          0,  37,  28,  31,   0,  25,  13, 255, 236, 249, 199,   0,   0,\n",
       "          0,   0],\n",
       "       [  0,   0,   0,   0,  53, 255, 236, 250, 250, 231,   2, 255,  21,\n",
       "          0, 221, 255, 236,  54, 245, 198, 243, 238, 245, 223,   0,   0,\n",
       "          0,   0],\n",
       "       [  0,   0,   0,   0,  80, 255, 237, 250, 240, 255,   0,   0,  39,\n",
       "        157,   0,   0, 215,  94,  20, 126, 255, 237, 239, 250,   0,   0,\n",
       "          0,   0],\n",
       "       [  0,   0,   0,   0, 101, 255, 235, 253, 244, 243, 133, 138, 208,\n",
       "        255, 201, 214, 255, 230,   7, 174, 255, 240, 238, 255,   0,   0,\n",
       "          0,   0],\n",
       "       [  0,   0,   0,   0, 126, 255, 233, 255, 248, 233, 255, 255, 240,\n",
       "        232, 243, 243, 231, 251, 255, 255, 254, 243, 238, 255,   3,   0,\n",
       "          0,   0],\n",
       "       [  0,   0,   0,   0, 147, 255, 233, 249, 181, 243, 227, 224, 230,\n",
       "        234, 230, 230, 235, 228, 235, 222, 207, 255, 236, 255,  35,   0,\n",
       "          0,   0],\n",
       "       [  0,   0,   0,   0, 163, 255, 245, 221,  86, 255, 233, 233, 235,\n",
       "        236, 234, 234, 234, 232, 242, 231, 125, 255, 236, 255,  55,   0,\n",
       "          0,   0],\n",
       "       [  0,   0,   0,   0, 181, 254, 255, 200,  69, 255, 228, 232, 234,\n",
       "        235, 234, 234, 233, 235, 241, 237,  70, 255, 235, 246,  57,   0,\n",
       "          0,   0],\n",
       "       [  0,   0,   0,   0, 197, 247, 255, 188, 110, 255, 224, 233, 234,\n",
       "        234, 234, 234, 234, 234, 240, 253,  69, 255, 236, 248,  77,   0,\n",
       "          0,   0],\n",
       "       [  0,   0,   0,   0, 200, 246, 255, 149, 145, 255, 223, 235, 234,\n",
       "        235, 235, 235, 234, 237, 233, 255,  47, 255, 239, 249,  98,   0,\n",
       "          0,   0],\n",
       "       [  0,   0,   0,   0, 204, 243, 255, 111, 173, 255, 227, 235, 235,\n",
       "        236, 235, 235, 235, 239, 229, 255,  19, 227, 246, 249, 110,   0,\n",
       "          0,   0],\n",
       "       [  0,   0,   0,   0, 196, 240, 255, 109, 213, 250, 229, 235, 235,\n",
       "        236, 235, 237, 236, 237, 226, 255,  55, 203, 251, 245, 120,   0,\n",
       "          0,   0],\n",
       "       [  0,   0,   0,   0, 192, 243, 255, 114, 232, 240, 232, 235, 235,\n",
       "        236, 234, 237, 236, 235, 229, 255, 134, 171, 252, 244, 137,   0,\n",
       "          0,   0],\n",
       "       [  0,   0,   0,   0, 189, 251, 255, 154, 238, 233, 236, 234, 235,\n",
       "        236, 235, 238, 236, 235, 232, 255, 166, 125, 255, 243, 142,   0,\n",
       "          0,   0],\n",
       "       [  0,   0,   0,   0, 183, 252, 255, 171, 247, 232, 234, 234, 233,\n",
       "        233, 232, 234, 233, 234, 233, 240, 223, 128, 255, 242, 151,   0,\n",
       "          0,   0],\n",
       "       [  0,   0,   0,   0, 178, 243, 255,  57, 238, 241, 238, 238, 238,\n",
       "        237, 236, 237, 237, 240, 237, 254, 176,  52, 255, 239, 157,   0,\n",
       "          0,   0],\n",
       "       [  0,   0,   0,   0, 188, 240, 250,  62, 218, 255, 220, 222, 222,\n",
       "        222, 223, 223, 224, 222, 218, 255, 154,  32, 255, 236, 188,   0,\n",
       "          0,   0],\n",
       "       [  0,   0,   0,   0, 130, 245, 242,  24,   0,   0,   0,   0,   0,\n",
       "          0,   0,   0,   0,   0,   0,   0,   0,  34, 242, 244, 135,   0,\n",
       "          0,   0],\n",
       "       [  0,   0,   0,   0,  76, 255, 249,  22,   0,   0,   0,   0,   0,\n",
       "          0,   0,   0,   0,   0,   0,   0,   0,  39, 249, 255, 123,   0,\n",
       "          0,   0],\n",
       "       [  0,   0,   0,   0,  49, 205, 197,  11,   0,   4,   1,   2,   2,\n",
       "          2,   2,   2,   2,   2,   2,   3,   0,   3, 174, 189,  67,   0,\n",
       "          0,   0]], dtype=uint8)"
      ]
     },
     "execution_count": 97,
     "metadata": {},
     "output_type": "execute_result"
    }
   ],
   "source": [
    "y"
   ]
  },
  {
   "cell_type": "code",
   "execution_count": 98,
   "metadata": {},
   "outputs": [
    {
     "data": {
      "text/plain": [
       "(28, 28)"
      ]
     },
     "execution_count": 98,
     "metadata": {},
     "output_type": "execute_result"
    }
   ],
   "source": [
    "y.shape"
   ]
  },
  {
   "cell_type": "code",
   "execution_count": 99,
   "metadata": {},
   "outputs": [
    {
     "data": {
      "text/plain": [
       "array([[0, 0, 0],\n",
       "       [0, 0, 0],\n",
       "       [0, 0, 0]], dtype=uint8)"
      ]
     },
     "execution_count": 99,
     "metadata": {},
     "output_type": "execute_result"
    }
   ],
   "source": [
    "y[0:3, 0:3]"
   ]
  },
  {
   "cell_type": "code",
   "execution_count": 100,
   "metadata": {},
   "outputs": [
    {
     "data": {
      "text/plain": [
       "0"
      ]
     },
     "execution_count": 100,
     "metadata": {},
     "output_type": "execute_result"
    }
   ],
   "source": [
    "y[0,0]"
   ]
  },
  {
   "cell_type": "code",
   "execution_count": 101,
   "metadata": {},
   "outputs": [
    {
     "data": {
      "text/plain": [
       "0"
      ]
     },
     "execution_count": 101,
     "metadata": {},
     "output_type": "execute_result"
    }
   ],
   "source": [
    "y[1,1]"
   ]
  },
  {
   "cell_type": "code",
   "execution_count": 102,
   "metadata": {},
   "outputs": [
    {
     "data": {
      "text/plain": [
       "array([[252, 192, 160],\n",
       "       [ 20, 160, 254],\n",
       "       [  0, 117, 215]], dtype=uint8)"
      ]
     },
     "execution_count": 102,
     "metadata": {},
     "output_type": "execute_result"
    }
   ],
   "source": [
    "np.dot(x_test[0][10:13, 11:14], x_test[1][10:13, 11:14])"
   ]
  },
  {
   "cell_type": "code",
   "execution_count": 103,
   "metadata": {},
   "outputs": [
    {
     "data": {
      "text/plain": [
       "array([[[[0., 0.],\n",
       "         [0., 0.]],\n",
       "\n",
       "        [[0., 0.],\n",
       "         [0., 0.]]],\n",
       "\n",
       "\n",
       "       [[[0., 0.],\n",
       "         [0., 0.]],\n",
       "\n",
       "        [[0., 0.],\n",
       "         [0., 0.]]]])"
      ]
     },
     "execution_count": 103,
     "metadata": {},
     "output_type": "execute_result"
    }
   ],
   "source": [
    "np.zeros((2,2,2,2))"
   ]
  },
  {
   "cell_type": "code",
   "execution_count": 104,
   "metadata": {},
   "outputs": [
    {
     "data": {
      "text/plain": [
       "array([0., 0., 0., 0., 1., 0., 0., 0., 0., 0.])"
      ]
     },
     "execution_count": 104,
     "metadata": {},
     "output_type": "execute_result"
    }
   ],
   "source": [
    "A"
   ]
  },
  {
   "cell_type": "code",
   "execution_count": 105,
   "metadata": {},
   "outputs": [
    {
     "data": {
      "text/plain": [
       "(10,)"
      ]
     },
     "execution_count": 105,
     "metadata": {},
     "output_type": "execute_result"
    }
   ],
   "source": [
    "A.shape"
   ]
  },
  {
   "cell_type": "code",
   "execution_count": 106,
   "metadata": {},
   "outputs": [
    {
     "data": {
      "text/plain": [
       "array([[  0,   0,   0,   0,   0,   0,   0,   0,   0,   0,   0,   0,   0,\n",
       "          0,   0,   0,   0,   0,   0,   0,   0,   0,   0,   0,   0,   0,\n",
       "          0,   0],\n",
       "       [  0,   0,   0,   0,   0,   0,   0,   0,   0,   0,   0,   0,   0,\n",
       "          0,   0,   0,   0,   0,   0,   0,   0,   0,   0,   0,   0,   0,\n",
       "          0,   0],\n",
       "       [  0,   0,   0,   0,   0,   0,   0,   0,   0,   0,   0,   0,   0,\n",
       "          0,   0,   0,   0,   0,   0,   0,   0,   0,   0,   0,   0,   0,\n",
       "          0,   0],\n",
       "       [  0,   0,   0,   0,   0,   0,   0,   0,   0,   0,   0,   0,   1,\n",
       "          0,   0,  13,  73,   0,   0,   1,   4,   0,   0,   0,   0,   1,\n",
       "          1,   0],\n",
       "       [  0,   0,   0,   0,   0,   0,   0,   0,   0,   0,   0,   0,   3,\n",
       "          0,  36, 136, 127,  62,  54,   0,   0,   0,   1,   3,   4,   0,\n",
       "          0,   3],\n",
       "       [  0,   0,   0,   0,   0,   0,   0,   0,   0,   0,   0,   0,   6,\n",
       "          0, 102, 204, 176, 134, 144, 123,  23,   0,   0,   0,   0,  12,\n",
       "         10,   0],\n",
       "       [  0,   0,   0,   0,   0,   0,   0,   0,   0,   0,   0,   0,   0,\n",
       "          0, 155, 236, 207, 178, 107, 156, 161, 109,  64,  23,  77, 130,\n",
       "         72,  15],\n",
       "       [  0,   0,   0,   0,   0,   0,   0,   0,   0,   0,   0,   1,   0,\n",
       "         69, 207, 223, 218, 216, 216, 163, 127, 121, 122, 146, 141,  88,\n",
       "        172,  66],\n",
       "       [  0,   0,   0,   0,   0,   0,   0,   0,   0,   1,   1,   1,   0,\n",
       "        200, 232, 232, 233, 229, 223, 223, 215, 213, 164, 127, 123, 196,\n",
       "        229,   0],\n",
       "       [  0,   0,   0,   0,   0,   0,   0,   0,   0,   0,   0,   0,   0,\n",
       "        183, 225, 216, 223, 228, 235, 227, 224, 222, 224, 221, 223, 245,\n",
       "        173,   0],\n",
       "       [  0,   0,   0,   0,   0,   0,   0,   0,   0,   0,   0,   0,   0,\n",
       "        193, 228, 218, 213, 198, 180, 212, 210, 211, 213, 223, 220, 243,\n",
       "        202,   0],\n",
       "       [  0,   0,   0,   0,   0,   0,   0,   0,   0,   1,   3,   0,  12,\n",
       "        219, 220, 212, 218, 192, 169, 227, 208, 218, 224, 212, 226, 197,\n",
       "        209,  52],\n",
       "       [  0,   0,   0,   0,   0,   0,   0,   0,   0,   0,   6,   0,  99,\n",
       "        244, 222, 220, 218, 203, 198, 221, 215, 213, 222, 220, 245, 119,\n",
       "        167,  56],\n",
       "       [  0,   0,   0,   0,   0,   0,   0,   0,   0,   4,   0,   0,  55,\n",
       "        236, 228, 230, 228, 240, 232, 213, 218, 223, 234, 217, 217, 209,\n",
       "         92,   0],\n",
       "       [  0,   0,   1,   4,   6,   7,   2,   0,   0,   0,   0,   0, 237,\n",
       "        226, 217, 223, 222, 219, 222, 221, 216, 223, 229, 215, 218, 255,\n",
       "         77,   0],\n",
       "       [  0,   3,   0,   0,   0,   0,   0,   0,   0,  62, 145, 204, 228,\n",
       "        207, 213, 221, 218, 208, 211, 218, 224, 223, 219, 215, 224, 244,\n",
       "        159,   0],\n",
       "       [  0,   0,   0,   0,  18,  44,  82, 107, 189, 228, 220, 222, 217,\n",
       "        226, 200, 205, 211, 230, 224, 234, 176, 188, 250, 248, 233, 238,\n",
       "        215,   0],\n",
       "       [  0,  57, 187, 208, 224, 221, 224, 208, 204, 214, 208, 209, 200,\n",
       "        159, 245, 193, 206, 223, 255, 255, 221, 234, 221, 211, 220, 232,\n",
       "        246,   0],\n",
       "       [  3, 202, 228, 224, 221, 211, 211, 214, 205, 205, 205, 220, 240,\n",
       "         80, 150, 255, 229, 221, 188, 154, 191, 210, 204, 209, 222, 228,\n",
       "        225,   0],\n",
       "       [ 98, 233, 198, 210, 222, 229, 229, 234, 249, 220, 194, 215, 217,\n",
       "        241,  65,  73, 106, 117, 168, 219, 221, 215, 217, 223, 223, 224,\n",
       "        229,  29],\n",
       "       [ 75, 204, 212, 204, 193, 205, 211, 225, 216, 185, 197, 206, 198,\n",
       "        213, 240, 195, 227, 245, 239, 223, 218, 212, 209, 222, 220, 221,\n",
       "        230,  67],\n",
       "       [ 48, 203, 183, 194, 213, 197, 185, 190, 194, 192, 202, 214, 219,\n",
       "        221, 220, 236, 225, 216, 199, 206, 186, 181, 177, 172, 181, 205,\n",
       "        206, 115],\n",
       "       [  0, 122, 219, 193, 179, 171, 183, 196, 204, 210, 213, 207, 211,\n",
       "        210, 200, 196, 194, 191, 195, 191, 198, 192, 176, 156, 167, 177,\n",
       "        210,  92],\n",
       "       [  0,   0,  74, 189, 212, 191, 175, 172, 175, 181, 185, 188, 189,\n",
       "        188, 193, 198, 204, 209, 210, 210, 211, 188, 188, 194, 192, 216,\n",
       "        170,   0],\n",
       "       [  2,   0,   0,   0,  66, 200, 222, 237, 239, 242, 246, 243, 244,\n",
       "        221, 220, 193, 191, 179, 182, 182, 181, 176, 166, 168,  99,  58,\n",
       "          0,   0],\n",
       "       [  0,   0,   0,   0,   0,   0,   0,  40,  61,  44,  72,  41,  35,\n",
       "          0,   0,   0,   0,   0,   0,   0,   0,   0,   0,   0,   0,   0,\n",
       "          0,   0],\n",
       "       [  0,   0,   0,   0,   0,   0,   0,   0,   0,   0,   0,   0,   0,\n",
       "          0,   0,   0,   0,   0,   0,   0,   0,   0,   0,   0,   0,   0,\n",
       "          0,   0],\n",
       "       [  0,   0,   0,   0,   0,   0,   0,   0,   0,   0,   0,   0,   0,\n",
       "          0,   0,   0,   0,   0,   0,   0,   0,   0,   0,   0,   0,   0,\n",
       "          0,   0]], dtype=uint8)"
      ]
     },
     "execution_count": 106,
     "metadata": {},
     "output_type": "execute_result"
    }
   ],
   "source": [
    "x_train[0]"
   ]
  },
  {
   "cell_type": "code",
   "execution_count": 107,
   "metadata": {},
   "outputs": [],
   "source": [
    "y = x_train[0].copy()"
   ]
  },
  {
   "cell_type": "code",
   "execution_count": 108,
   "metadata": {},
   "outputs": [
    {
     "data": {
      "text/plain": [
       "(28, 28)"
      ]
     },
     "execution_count": 108,
     "metadata": {},
     "output_type": "execute_result"
    }
   ],
   "source": [
    "y.shape"
   ]
  },
  {
   "cell_type": "code",
   "execution_count": 109,
   "metadata": {},
   "outputs": [
    {
     "data": {
      "text/plain": [
       "array([[0.        , 0.        , 0.        , 0.        , 0.        ,\n",
       "        0.        , 0.        , 0.        , 0.        , 0.        ,\n",
       "        0.        , 0.        , 0.        , 0.        , 0.        ,\n",
       "        0.        , 0.        , 0.        , 0.        , 0.        ,\n",
       "        0.        , 0.        , 0.        , 0.        , 0.        ,\n",
       "        0.        , 0.        , 0.        ],\n",
       "       [0.        , 0.        , 0.        , 0.        , 0.        ,\n",
       "        0.        , 0.        , 0.        , 0.        , 0.        ,\n",
       "        0.        , 0.        , 0.        , 0.        , 0.        ,\n",
       "        0.        , 0.        , 0.        , 0.        , 0.        ,\n",
       "        0.        , 0.        , 0.        , 0.        , 0.        ,\n",
       "        0.        , 0.        , 0.        ],\n",
       "       [0.        , 0.        , 0.        , 0.        , 0.        ,\n",
       "        0.        , 0.        , 0.        , 0.        , 0.        ,\n",
       "        0.        , 0.        , 0.        , 0.        , 0.        ,\n",
       "        0.        , 0.        , 0.        , 0.        , 0.        ,\n",
       "        0.        , 0.        , 0.        , 0.        , 0.        ,\n",
       "        0.        , 0.        , 0.        ],\n",
       "       [0.        , 0.        , 0.        , 0.        , 0.        ,\n",
       "        0.        , 0.        , 0.        , 0.        , 0.        ,\n",
       "        0.        , 0.        , 0.00392157, 0.        , 0.        ,\n",
       "        0.05098039, 0.28627451, 0.        , 0.        , 0.00392157,\n",
       "        0.01568627, 0.        , 0.        , 0.        , 0.        ,\n",
       "        0.00392157, 0.00392157, 0.        ],\n",
       "       [0.        , 0.        , 0.        , 0.        , 0.        ,\n",
       "        0.        , 0.        , 0.        , 0.        , 0.        ,\n",
       "        0.        , 0.        , 0.01176471, 0.        , 0.14117647,\n",
       "        0.53333333, 0.49803922, 0.24313725, 0.21176471, 0.        ,\n",
       "        0.        , 0.        , 0.00392157, 0.01176471, 0.01568627,\n",
       "        0.        , 0.        , 0.01176471],\n",
       "       [0.        , 0.        , 0.        , 0.        , 0.        ,\n",
       "        0.        , 0.        , 0.        , 0.        , 0.        ,\n",
       "        0.        , 0.        , 0.02352941, 0.        , 0.4       ,\n",
       "        0.8       , 0.69019608, 0.5254902 , 0.56470588, 0.48235294,\n",
       "        0.09019608, 0.        , 0.        , 0.        , 0.        ,\n",
       "        0.04705882, 0.03921569, 0.        ],\n",
       "       [0.        , 0.        , 0.        , 0.        , 0.        ,\n",
       "        0.        , 0.        , 0.        , 0.        , 0.        ,\n",
       "        0.        , 0.        , 0.        , 0.        , 0.60784314,\n",
       "        0.9254902 , 0.81176471, 0.69803922, 0.41960784, 0.61176471,\n",
       "        0.63137255, 0.42745098, 0.25098039, 0.09019608, 0.30196078,\n",
       "        0.50980392, 0.28235294, 0.05882353],\n",
       "       [0.        , 0.        , 0.        , 0.        , 0.        ,\n",
       "        0.        , 0.        , 0.        , 0.        , 0.        ,\n",
       "        0.        , 0.00392157, 0.        , 0.27058824, 0.81176471,\n",
       "        0.8745098 , 0.85490196, 0.84705882, 0.84705882, 0.63921569,\n",
       "        0.49803922, 0.4745098 , 0.47843137, 0.57254902, 0.55294118,\n",
       "        0.34509804, 0.6745098 , 0.25882353],\n",
       "       [0.        , 0.        , 0.        , 0.        , 0.        ,\n",
       "        0.        , 0.        , 0.        , 0.        , 0.00392157,\n",
       "        0.00392157, 0.00392157, 0.        , 0.78431373, 0.90980392,\n",
       "        0.90980392, 0.91372549, 0.89803922, 0.8745098 , 0.8745098 ,\n",
       "        0.84313725, 0.83529412, 0.64313725, 0.49803922, 0.48235294,\n",
       "        0.76862745, 0.89803922, 0.        ],\n",
       "       [0.        , 0.        , 0.        , 0.        , 0.        ,\n",
       "        0.        , 0.        , 0.        , 0.        , 0.        ,\n",
       "        0.        , 0.        , 0.        , 0.71764706, 0.88235294,\n",
       "        0.84705882, 0.8745098 , 0.89411765, 0.92156863, 0.89019608,\n",
       "        0.87843137, 0.87058824, 0.87843137, 0.86666667, 0.8745098 ,\n",
       "        0.96078431, 0.67843137, 0.        ],\n",
       "       [0.        , 0.        , 0.        , 0.        , 0.        ,\n",
       "        0.        , 0.        , 0.        , 0.        , 0.        ,\n",
       "        0.        , 0.        , 0.        , 0.75686275, 0.89411765,\n",
       "        0.85490196, 0.83529412, 0.77647059, 0.70588235, 0.83137255,\n",
       "        0.82352941, 0.82745098, 0.83529412, 0.8745098 , 0.8627451 ,\n",
       "        0.95294118, 0.79215686, 0.        ],\n",
       "       [0.        , 0.        , 0.        , 0.        , 0.        ,\n",
       "        0.        , 0.        , 0.        , 0.        , 0.00392157,\n",
       "        0.01176471, 0.        , 0.04705882, 0.85882353, 0.8627451 ,\n",
       "        0.83137255, 0.85490196, 0.75294118, 0.6627451 , 0.89019608,\n",
       "        0.81568627, 0.85490196, 0.87843137, 0.83137255, 0.88627451,\n",
       "        0.77254902, 0.81960784, 0.20392157],\n",
       "       [0.        , 0.        , 0.        , 0.        , 0.        ,\n",
       "        0.        , 0.        , 0.        , 0.        , 0.        ,\n",
       "        0.02352941, 0.        , 0.38823529, 0.95686275, 0.87058824,\n",
       "        0.8627451 , 0.85490196, 0.79607843, 0.77647059, 0.86666667,\n",
       "        0.84313725, 0.83529412, 0.87058824, 0.8627451 , 0.96078431,\n",
       "        0.46666667, 0.65490196, 0.21960784],\n",
       "       [0.        , 0.        , 0.        , 0.        , 0.        ,\n",
       "        0.        , 0.        , 0.        , 0.        , 0.01568627,\n",
       "        0.        , 0.        , 0.21568627, 0.9254902 , 0.89411765,\n",
       "        0.90196078, 0.89411765, 0.94117647, 0.90980392, 0.83529412,\n",
       "        0.85490196, 0.8745098 , 0.91764706, 0.85098039, 0.85098039,\n",
       "        0.81960784, 0.36078431, 0.        ],\n",
       "       [0.        , 0.        , 0.00392157, 0.01568627, 0.02352941,\n",
       "        0.02745098, 0.00784314, 0.        , 0.        , 0.        ,\n",
       "        0.        , 0.        , 0.92941176, 0.88627451, 0.85098039,\n",
       "        0.8745098 , 0.87058824, 0.85882353, 0.87058824, 0.86666667,\n",
       "        0.84705882, 0.8745098 , 0.89803922, 0.84313725, 0.85490196,\n",
       "        1.        , 0.30196078, 0.        ],\n",
       "       [0.        , 0.01176471, 0.        , 0.        , 0.        ,\n",
       "        0.        , 0.        , 0.        , 0.        , 0.24313725,\n",
       "        0.56862745, 0.8       , 0.89411765, 0.81176471, 0.83529412,\n",
       "        0.86666667, 0.85490196, 0.81568627, 0.82745098, 0.85490196,\n",
       "        0.87843137, 0.8745098 , 0.85882353, 0.84313725, 0.87843137,\n",
       "        0.95686275, 0.62352941, 0.        ],\n",
       "       [0.        , 0.        , 0.        , 0.        , 0.07058824,\n",
       "        0.17254902, 0.32156863, 0.41960784, 0.74117647, 0.89411765,\n",
       "        0.8627451 , 0.87058824, 0.85098039, 0.88627451, 0.78431373,\n",
       "        0.80392157, 0.82745098, 0.90196078, 0.87843137, 0.91764706,\n",
       "        0.69019608, 0.7372549 , 0.98039216, 0.97254902, 0.91372549,\n",
       "        0.93333333, 0.84313725, 0.        ],\n",
       "       [0.        , 0.22352941, 0.73333333, 0.81568627, 0.87843137,\n",
       "        0.86666667, 0.87843137, 0.81568627, 0.8       , 0.83921569,\n",
       "        0.81568627, 0.81960784, 0.78431373, 0.62352941, 0.96078431,\n",
       "        0.75686275, 0.80784314, 0.8745098 , 1.        , 1.        ,\n",
       "        0.86666667, 0.91764706, 0.86666667, 0.82745098, 0.8627451 ,\n",
       "        0.90980392, 0.96470588, 0.        ],\n",
       "       [0.01176471, 0.79215686, 0.89411765, 0.87843137, 0.86666667,\n",
       "        0.82745098, 0.82745098, 0.83921569, 0.80392157, 0.80392157,\n",
       "        0.80392157, 0.8627451 , 0.94117647, 0.31372549, 0.58823529,\n",
       "        1.        , 0.89803922, 0.86666667, 0.7372549 , 0.60392157,\n",
       "        0.74901961, 0.82352941, 0.8       , 0.81960784, 0.87058824,\n",
       "        0.89411765, 0.88235294, 0.        ],\n",
       "       [0.38431373, 0.91372549, 0.77647059, 0.82352941, 0.87058824,\n",
       "        0.89803922, 0.89803922, 0.91764706, 0.97647059, 0.8627451 ,\n",
       "        0.76078431, 0.84313725, 0.85098039, 0.94509804, 0.25490196,\n",
       "        0.28627451, 0.41568627, 0.45882353, 0.65882353, 0.85882353,\n",
       "        0.86666667, 0.84313725, 0.85098039, 0.8745098 , 0.8745098 ,\n",
       "        0.87843137, 0.89803922, 0.11372549],\n",
       "       [0.29411765, 0.8       , 0.83137255, 0.8       , 0.75686275,\n",
       "        0.80392157, 0.82745098, 0.88235294, 0.84705882, 0.7254902 ,\n",
       "        0.77254902, 0.80784314, 0.77647059, 0.83529412, 0.94117647,\n",
       "        0.76470588, 0.89019608, 0.96078431, 0.9372549 , 0.8745098 ,\n",
       "        0.85490196, 0.83137255, 0.81960784, 0.87058824, 0.8627451 ,\n",
       "        0.86666667, 0.90196078, 0.2627451 ],\n",
       "       [0.18823529, 0.79607843, 0.71764706, 0.76078431, 0.83529412,\n",
       "        0.77254902, 0.7254902 , 0.74509804, 0.76078431, 0.75294118,\n",
       "        0.79215686, 0.83921569, 0.85882353, 0.86666667, 0.8627451 ,\n",
       "        0.9254902 , 0.88235294, 0.84705882, 0.78039216, 0.80784314,\n",
       "        0.72941176, 0.70980392, 0.69411765, 0.6745098 , 0.70980392,\n",
       "        0.80392157, 0.80784314, 0.45098039],\n",
       "       [0.        , 0.47843137, 0.85882353, 0.75686275, 0.70196078,\n",
       "        0.67058824, 0.71764706, 0.76862745, 0.8       , 0.82352941,\n",
       "        0.83529412, 0.81176471, 0.82745098, 0.82352941, 0.78431373,\n",
       "        0.76862745, 0.76078431, 0.74901961, 0.76470588, 0.74901961,\n",
       "        0.77647059, 0.75294118, 0.69019608, 0.61176471, 0.65490196,\n",
       "        0.69411765, 0.82352941, 0.36078431],\n",
       "       [0.        , 0.        , 0.29019608, 0.74117647, 0.83137255,\n",
       "        0.74901961, 0.68627451, 0.6745098 , 0.68627451, 0.70980392,\n",
       "        0.7254902 , 0.7372549 , 0.74117647, 0.7372549 , 0.75686275,\n",
       "        0.77647059, 0.8       , 0.81960784, 0.82352941, 0.82352941,\n",
       "        0.82745098, 0.7372549 , 0.7372549 , 0.76078431, 0.75294118,\n",
       "        0.84705882, 0.66666667, 0.        ],\n",
       "       [0.00784314, 0.        , 0.        , 0.        , 0.25882353,\n",
       "        0.78431373, 0.87058824, 0.92941176, 0.9372549 , 0.94901961,\n",
       "        0.96470588, 0.95294118, 0.95686275, 0.86666667, 0.8627451 ,\n",
       "        0.75686275, 0.74901961, 0.70196078, 0.71372549, 0.71372549,\n",
       "        0.70980392, 0.69019608, 0.65098039, 0.65882353, 0.38823529,\n",
       "        0.22745098, 0.        , 0.        ],\n",
       "       [0.        , 0.        , 0.        , 0.        , 0.        ,\n",
       "        0.        , 0.        , 0.15686275, 0.23921569, 0.17254902,\n",
       "        0.28235294, 0.16078431, 0.1372549 , 0.        , 0.        ,\n",
       "        0.        , 0.        , 0.        , 0.        , 0.        ,\n",
       "        0.        , 0.        , 0.        , 0.        , 0.        ,\n",
       "        0.        , 0.        , 0.        ],\n",
       "       [0.        , 0.        , 0.        , 0.        , 0.        ,\n",
       "        0.        , 0.        , 0.        , 0.        , 0.        ,\n",
       "        0.        , 0.        , 0.        , 0.        , 0.        ,\n",
       "        0.        , 0.        , 0.        , 0.        , 0.        ,\n",
       "        0.        , 0.        , 0.        , 0.        , 0.        ,\n",
       "        0.        , 0.        , 0.        ],\n",
       "       [0.        , 0.        , 0.        , 0.        , 0.        ,\n",
       "        0.        , 0.        , 0.        , 0.        , 0.        ,\n",
       "        0.        , 0.        , 0.        , 0.        , 0.        ,\n",
       "        0.        , 0.        , 0.        , 0.        , 0.        ,\n",
       "        0.        , 0.        , 0.        , 0.        , 0.        ,\n",
       "        0.        , 0.        , 0.        ]])"
      ]
     },
     "execution_count": 109,
     "metadata": {},
     "output_type": "execute_result"
    }
   ],
   "source": [
    "y / 255."
   ]
  },
  {
   "cell_type": "code",
   "execution_count": 110,
   "metadata": {},
   "outputs": [
    {
     "data": {
      "text/plain": [
       "97.25382653061224"
      ]
     },
     "execution_count": 110,
     "metadata": {},
     "output_type": "execute_result"
    }
   ],
   "source": [
    "np.mean(y)"
   ]
  },
  {
   "cell_type": "code",
   "execution_count": 111,
   "metadata": {},
   "outputs": [
    {
     "data": {
      "text/plain": [
       "101.79234620324726"
      ]
     },
     "execution_count": 111,
     "metadata": {},
     "output_type": "execute_result"
    }
   ],
   "source": [
    "np.std(y)"
   ]
  },
  {
   "cell_type": "code",
   "execution_count": 112,
   "metadata": {},
   "outputs": [],
   "source": [
    "z = (y - np.mean(y))/np.std(y)"
   ]
  },
  {
   "cell_type": "code",
   "execution_count": 113,
   "metadata": {},
   "outputs": [
    {
     "data": {
      "text/plain": [
       "array([[-0.95541394, -0.95541394, -0.95541394, -0.95541394, -0.95541394,\n",
       "        -0.95541394, -0.95541394, -0.95541394, -0.95541394, -0.95541394,\n",
       "        -0.95541394, -0.95541394, -0.95541394, -0.95541394, -0.95541394,\n",
       "        -0.95541394, -0.95541394, -0.95541394, -0.95541394, -0.95541394,\n",
       "        -0.95541394, -0.95541394, -0.95541394, -0.95541394, -0.95541394,\n",
       "        -0.95541394, -0.95541394, -0.95541394],\n",
       "       [-0.95541394, -0.95541394, -0.95541394, -0.95541394, -0.95541394,\n",
       "        -0.95541394, -0.95541394, -0.95541394, -0.95541394, -0.95541394,\n",
       "        -0.95541394, -0.95541394, -0.95541394, -0.95541394, -0.95541394,\n",
       "        -0.95541394, -0.95541394, -0.95541394, -0.95541394, -0.95541394,\n",
       "        -0.95541394, -0.95541394, -0.95541394, -0.95541394, -0.95541394,\n",
       "        -0.95541394, -0.95541394, -0.95541394],\n",
       "       [-0.95541394, -0.95541394, -0.95541394, -0.95541394, -0.95541394,\n",
       "        -0.95541394, -0.95541394, -0.95541394, -0.95541394, -0.95541394,\n",
       "        -0.95541394, -0.95541394, -0.95541394, -0.95541394, -0.95541394,\n",
       "        -0.95541394, -0.95541394, -0.95541394, -0.95541394, -0.95541394,\n",
       "        -0.95541394, -0.95541394, -0.95541394, -0.95541394, -0.95541394,\n",
       "        -0.95541394, -0.95541394, -0.95541394],\n",
       "       [-0.95541394, -0.95541394, -0.95541394, -0.95541394, -0.95541394,\n",
       "        -0.95541394, -0.95541394, -0.95541394, -0.95541394, -0.95541394,\n",
       "        -0.95541394, -0.95541394, -0.94559002, -0.95541394, -0.95541394,\n",
       "        -0.82770296, -0.23826768, -0.95541394, -0.95541394, -0.94559002,\n",
       "        -0.91611825, -0.95541394, -0.95541394, -0.95541394, -0.95541394,\n",
       "        -0.94559002, -0.94559002, -0.95541394],\n",
       "       [-0.95541394, -0.95541394, -0.95541394, -0.95541394, -0.95541394,\n",
       "        -0.95541394, -0.95541394, -0.95541394, -0.95541394, -0.95541394,\n",
       "        -0.95541394, -0.95541394, -0.92594218, -0.95541394, -0.60175277,\n",
       "         0.38063936,  0.29222407, -0.34633082, -0.42492219, -0.95541394,\n",
       "        -0.95541394, -0.95541394, -0.94559002, -0.92594218, -0.91611825,\n",
       "        -0.95541394, -0.95541394, -0.92594218],\n",
       "       [-0.95541394, -0.95541394, -0.95541394, -0.95541394, -0.95541394,\n",
       "        -0.95541394, -0.95541394, -0.95541394, -0.95541394, -0.95541394,\n",
       "        -0.95541394, -0.95541394, -0.89647041, -0.95541394,  0.04662603,\n",
       "         1.04866601,  0.77359621,  0.36099152,  0.45923073,  0.25292838,\n",
       "        -0.72946375, -0.95541394, -0.95541394, -0.95541394, -0.95541394,\n",
       "        -0.83752688, -0.85717473, -0.95541394],\n",
       "       [-0.95541394, -0.95541394, -0.95541394, -0.95541394, -0.95541394,\n",
       "        -0.95541394, -0.95541394, -0.95541394, -0.95541394, -0.95541394,\n",
       "        -0.95541394, -0.95541394, -0.95541394, -0.95541394,  0.56729386,\n",
       "         1.36303149,  1.07813777,  0.79324405,  0.09574564,  0.57711779,\n",
       "         0.62623739,  0.11539348, -0.32668298, -0.72946375, -0.198972  ,\n",
       "         0.32169583, -0.2480916 , -0.80805512],\n",
       "       [-0.95541394, -0.95541394, -0.95541394, -0.95541394, -0.95541394,\n",
       "        -0.95541394, -0.95541394, -0.95541394, -0.95541394, -0.95541394,\n",
       "        -0.95541394, -0.94559002, -0.95541394, -0.27756337,  1.07813777,\n",
       "         1.23532051,  1.18620091,  1.16655307,  1.16655307,  0.64588524,\n",
       "         0.29222407,  0.23328054,  0.24310446,  0.47887857,  0.42975897,\n",
       "        -0.09090886,  0.73430053, -0.30703513],\n",
       "       [-0.95541394, -0.95541394, -0.95541394, -0.95541394, -0.95541394,\n",
       "        -0.95541394, -0.95541394, -0.95541394, -0.95541394, -0.94559002,\n",
       "        -0.94559002, -0.94559002, -0.95541394,  1.00937032,  1.32373581,\n",
       "         1.32373581,  1.33355973,  1.29426404,  1.23532051,  1.23532051,\n",
       "         1.15672914,  1.1370813 ,  0.65570916,  0.29222407,  0.25292838,\n",
       "         0.97007464,  1.29426404, -0.95541394],\n",
       "       [-0.95541394, -0.95541394, -0.95541394, -0.95541394, -0.95541394,\n",
       "        -0.95541394, -0.95541394, -0.95541394, -0.95541394, -0.95541394,\n",
       "        -0.95541394, -0.95541394, -0.95541394,  0.84236366,  1.25496836,\n",
       "         1.16655307,  1.23532051,  1.28444012,  1.35320757,  1.2746162 ,\n",
       "         1.24514444,  1.22549659,  1.24514444,  1.21567267,  1.23532051,\n",
       "         1.45144678,  0.74412445, -0.95541394],\n",
       "       [-0.95541394, -0.95541394, -0.95541394, -0.95541394, -0.95541394,\n",
       "        -0.95541394, -0.95541394, -0.95541394, -0.95541394, -0.95541394,\n",
       "        -0.95541394, -0.95541394, -0.95541394,  0.94060287,  1.28444012,\n",
       "         1.18620091,  1.1370813 ,  0.98972248,  0.8128919 ,  1.12725738,\n",
       "         1.10760954,  1.11743346,  1.1370813 ,  1.23532051,  1.20584875,\n",
       "         1.43179894,  1.02901817, -0.95541394],\n",
       "       [-0.95541394, -0.95541394, -0.95541394, -0.95541394, -0.95541394,\n",
       "        -0.95541394, -0.95541394, -0.95541394, -0.95541394, -0.94559002,\n",
       "        -0.92594218, -0.95541394, -0.83752688,  1.19602483,  1.20584875,\n",
       "         1.12725738,  1.18620091,  0.93077895,  0.70482876,  1.2746162 ,\n",
       "         1.08796169,  1.18620091,  1.24514444,  1.12725738,  1.26479228,\n",
       "         0.97989856,  1.09778562, -0.44457003],\n",
       "       [-0.95541394, -0.95541394, -0.95541394, -0.95541394, -0.95541394,\n",
       "        -0.95541394, -0.95541394, -0.95541394, -0.95541394, -0.95541394,\n",
       "        -0.89647041, -0.95541394,  0.01715427,  1.44162286,  1.22549659,\n",
       "         1.20584875,  1.18620091,  1.03884209,  0.98972248,  1.21567267,\n",
       "         1.15672914,  1.1370813 ,  1.22549659,  1.20584875,  1.45144678,\n",
       "         0.2136327 ,  0.68518092, -0.40527435],\n",
       "       [-0.95541394, -0.95541394, -0.95541394, -0.95541394, -0.95541394,\n",
       "        -0.95541394, -0.95541394, -0.95541394, -0.95541394, -0.91611825,\n",
       "        -0.95541394, -0.95541394, -0.41509827,  1.36303149,  1.28444012,\n",
       "         1.30408796,  1.28444012,  1.40232718,  1.32373581,  1.1370813 ,\n",
       "         1.18620091,  1.23532051,  1.34338365,  1.17637699,  1.17637699,\n",
       "         1.09778562, -0.05161318, -0.95541394],\n",
       "       [-0.95541394, -0.95541394, -0.94559002, -0.91611825, -0.89647041,\n",
       "        -0.88664649, -0.9357661 , -0.95541394, -0.95541394, -0.95541394,\n",
       "        -0.95541394, -0.95541394,  1.37285541,  1.26479228,  1.17637699,\n",
       "         1.23532051,  1.22549659,  1.19602483,  1.22549659,  1.21567267,\n",
       "         1.16655307,  1.23532051,  1.29426404,  1.15672914,  1.18620091,\n",
       "         1.549686  , -0.198972  , -0.95541394],\n",
       "       [-0.95541394, -0.92594218, -0.95541394, -0.95541394, -0.95541394,\n",
       "        -0.95541394, -0.95541394, -0.95541394, -0.95541394, -0.34633082,\n",
       "         0.46905465,  1.04866601,  1.28444012,  1.07813777,  1.1370813 ,\n",
       "         1.21567267,  1.18620091,  1.08796169,  1.11743346,  1.18620091,\n",
       "         1.24514444,  1.23532051,  1.19602483,  1.15672914,  1.24514444,\n",
       "         1.44162286,  0.60658955, -0.95541394],\n",
       "       [-0.95541394, -0.95541394, -0.95541394, -0.95541394, -0.77858336,\n",
       "        -0.5231614 , -0.14985239,  0.09574564,  0.90130719,  1.28444012,\n",
       "         1.20584875,  1.22549659,  1.17637699,  1.26479228,  1.00937032,\n",
       "         1.05848993,  1.11743346,  1.30408796,  1.24514444,  1.34338365,\n",
       "         0.77359621,  0.89148327,  1.50056639,  1.48091855,  1.33355973,\n",
       "         1.38267933,  1.15672914, -0.95541394],\n",
       "       [-0.95541394, -0.39545042,  0.88165935,  1.08796169,  1.24514444,\n",
       "         1.21567267,  1.24514444,  1.08796169,  1.04866601,  1.14690522,\n",
       "         1.08796169,  1.09778562,  1.00937032,  0.60658955,  1.45144678,\n",
       "         0.94060287,  1.06831385,  1.23532051,  1.549686  ,  1.549686  ,\n",
       "         1.21567267,  1.34338365,  1.21567267,  1.11743346,  1.20584875,\n",
       "         1.32373581,  1.4612707 , -0.95541394],\n",
       "       [-0.92594218,  1.02901817,  1.28444012,  1.24514444,  1.21567267,\n",
       "         1.11743346,  1.11743346,  1.14690522,  1.05848993,  1.05848993,\n",
       "         1.05848993,  1.20584875,  1.40232718, -0.16950023,  0.51817426,\n",
       "         1.549686  ,  1.29426404,  1.21567267,  0.89148327,  0.55746994,\n",
       "         0.92095503,  1.10760954,  1.04866601,  1.09778562,  1.22549659,\n",
       "         1.28444012,  1.25496836, -0.95541394],\n",
       "       [ 0.00733035,  1.33355973,  0.98972248,  1.10760954,  1.22549659,\n",
       "         1.29426404,  1.29426404,  1.34338365,  1.49074247,  1.20584875,\n",
       "         0.9504268 ,  1.15672914,  1.17637699,  1.4121511 , -0.31685905,\n",
       "        -0.23826768,  0.08592172,  0.19398485,  0.69500484,  1.19602483,\n",
       "         1.21567267,  1.15672914,  1.17637699,  1.23532051,  1.23532051,\n",
       "         1.24514444,  1.29426404, -0.67052022],\n",
       "       [-0.21861984,  1.04866601,  1.12725738,  1.04866601,  0.94060287,\n",
       "         1.05848993,  1.11743346,  1.25496836,  1.16655307,  0.8620115 ,\n",
       "         0.97989856,  1.06831385,  0.98972248,  1.1370813 ,  1.40232718,\n",
       "         0.96025072,  1.2746162 ,  1.45144678,  1.39250326,  1.23532051,\n",
       "         1.18620091,  1.12725738,  1.09778562,  1.22549659,  1.20584875,\n",
       "         1.21567267,  1.30408796, -0.29721121],\n",
       "       [-0.48386572,  1.03884209,  0.84236366,  0.9504268 ,  1.1370813 ,\n",
       "         0.97989856,  0.8620115 ,  0.91113111,  0.9504268 ,  0.93077895,\n",
       "         1.02901817,  1.14690522,  1.19602483,  1.21567267,  1.20584875,\n",
       "         1.36303149,  1.25496836,  1.16655307,  0.9995464 ,  1.06831385,\n",
       "         0.87183543,  0.82271582,  0.78342013,  0.73430053,  0.82271582,\n",
       "         1.05848993,  1.06831385,  0.17433701],\n",
       "       [-0.95541394,  0.24310446,  1.19602483,  0.94060287,  0.80306798,\n",
       "         0.72447661,  0.84236366,  0.97007464,  1.04866601,  1.10760954,\n",
       "         1.1370813 ,  1.07813777,  1.11743346,  1.10760954,  1.00937032,\n",
       "         0.97007464,  0.9504268 ,  0.92095503,  0.96025072,  0.92095503,\n",
       "         0.98972248,  0.93077895,  0.77359621,  0.57711779,  0.68518092,\n",
       "         0.78342013,  1.10760954, -0.05161318],\n",
       "       [-0.95541394, -0.95541394, -0.22844376,  0.90130719,  1.12725738,\n",
       "         0.92095503,  0.76377229,  0.73430053,  0.76377229,  0.82271582,\n",
       "         0.8620115 ,  0.89148327,  0.90130719,  0.89148327,  0.94060287,\n",
       "         0.98972248,  1.04866601,  1.09778562,  1.10760954,  1.10760954,\n",
       "         1.11743346,  0.89148327,  0.89148327,  0.9504268 ,  0.93077895,\n",
       "         1.16655307,  0.71465268, -0.95541394],\n",
       "       [-0.9357661 , -0.95541394, -0.95541394, -0.95541394, -0.30703513,\n",
       "         1.00937032,  1.22549659,  1.37285541,  1.39250326,  1.42197502,\n",
       "         1.4612707 ,  1.43179894,  1.44162286,  1.21567267,  1.20584875,\n",
       "         0.94060287,  0.92095503,  0.80306798,  0.83253974,  0.83253974,\n",
       "         0.82271582,  0.77359621,  0.675357  ,  0.69500484,  0.01715427,\n",
       "        -0.3856265 , -0.95541394, -0.95541394],\n",
       "       [-0.95541394, -0.95541394, -0.95541394, -0.95541394, -0.95541394,\n",
       "        -0.95541394, -0.95541394, -0.56245709, -0.35615474, -0.5231614 ,\n",
       "        -0.2480916 , -0.55263317, -0.61157669, -0.95541394, -0.95541394,\n",
       "        -0.95541394, -0.95541394, -0.95541394, -0.95541394, -0.95541394,\n",
       "        -0.95541394, -0.95541394, -0.95541394, -0.95541394, -0.95541394,\n",
       "        -0.95541394, -0.95541394, -0.95541394],\n",
       "       [-0.95541394, -0.95541394, -0.95541394, -0.95541394, -0.95541394,\n",
       "        -0.95541394, -0.95541394, -0.95541394, -0.95541394, -0.95541394,\n",
       "        -0.95541394, -0.95541394, -0.95541394, -0.95541394, -0.95541394,\n",
       "        -0.95541394, -0.95541394, -0.95541394, -0.95541394, -0.95541394,\n",
       "        -0.95541394, -0.95541394, -0.95541394, -0.95541394, -0.95541394,\n",
       "        -0.95541394, -0.95541394, -0.95541394],\n",
       "       [-0.95541394, -0.95541394, -0.95541394, -0.95541394, -0.95541394,\n",
       "        -0.95541394, -0.95541394, -0.95541394, -0.95541394, -0.95541394,\n",
       "        -0.95541394, -0.95541394, -0.95541394, -0.95541394, -0.95541394,\n",
       "        -0.95541394, -0.95541394, -0.95541394, -0.95541394, -0.95541394,\n",
       "        -0.95541394, -0.95541394, -0.95541394, -0.95541394, -0.95541394,\n",
       "        -0.95541394, -0.95541394, -0.95541394]])"
      ]
     },
     "execution_count": 113,
     "metadata": {},
     "output_type": "execute_result"
    }
   ],
   "source": [
    "z"
   ]
  },
  {
   "cell_type": "code",
   "execution_count": 114,
   "metadata": {},
   "outputs": [
    {
     "data": {
      "text/plain": [
       "7.250436079184695e-17"
      ]
     },
     "execution_count": 114,
     "metadata": {},
     "output_type": "execute_result"
    }
   ],
   "source": [
    "np.mean(z)"
   ]
  },
  {
   "cell_type": "code",
   "execution_count": 115,
   "metadata": {},
   "outputs": [
    {
     "data": {
      "text/plain": [
       "0.9999999999999999"
      ]
     },
     "execution_count": 115,
     "metadata": {},
     "output_type": "execute_result"
    }
   ],
   "source": [
    "np.std(z)"
   ]
  },
  {
   "cell_type": "code",
   "execution_count": 116,
   "metadata": {},
   "outputs": [
    {
     "data": {
      "text/plain": [
       "(28, 28)"
      ]
     },
     "execution_count": 116,
     "metadata": {},
     "output_type": "execute_result"
    }
   ],
   "source": [
    "z.shape"
   ]
  },
  {
   "cell_type": "code",
   "execution_count": 117,
   "metadata": {},
   "outputs": [
    {
     "data": {
      "text/plain": [
       "array([[9.97996037e-312, 9.97995257e-312, 9.12815796e-001,\n",
       "        9.12815796e-001, 9.12815796e-001, 9.12815796e-001,\n",
       "        9.12815796e-001, 9.12815796e-001, 9.12815796e-001,\n",
       "        9.12815796e-001, 9.12815796e-001, 9.12815796e-001,\n",
       "        9.12815796e-001, 9.12815796e-001, 9.12815796e-001,\n",
       "        9.12815796e-001, 9.12815796e-001, 9.12815796e-001,\n",
       "        9.12815796e-001, 9.12815796e-001, 9.12815796e-001,\n",
       "        9.12815796e-001, 9.12815796e-001, 9.12815796e-001,\n",
       "        9.12815796e-001, 9.12815796e-001, 9.12815796e-001,\n",
       "        9.12815796e-001],\n",
       "       [9.12815796e-001, 9.12815796e-001, 9.12815796e-001,\n",
       "        9.12815796e-001, 9.12815796e-001, 9.12815796e-001,\n",
       "        9.12815796e-001, 9.12815796e-001, 9.12815796e-001,\n",
       "        9.12815796e-001, 9.12815796e-001, 9.12815796e-001,\n",
       "        9.12815796e-001, 9.12815796e-001, 9.12815796e-001,\n",
       "        9.12815796e-001, 9.12815796e-001, 9.12815796e-001,\n",
       "        9.12815796e-001, 9.12815796e-001, 9.12815796e-001,\n",
       "        9.12815796e-001, 9.12815796e-001, 9.12815796e-001,\n",
       "        9.12815796e-001, 9.12815796e-001, 9.12815796e-001,\n",
       "        9.12815796e-001],\n",
       "       [9.12815796e-001, 9.12815796e-001, 9.12815796e-001,\n",
       "        9.12815796e-001, 9.12815796e-001, 9.12815796e-001,\n",
       "        9.12815796e-001, 9.12815796e-001, 9.12815796e-001,\n",
       "        9.12815796e-001, 9.12815796e-001, 9.12815796e-001,\n",
       "        9.12815796e-001, 9.12815796e-001, 9.12815796e-001,\n",
       "        9.12815796e-001, 9.12815796e-001, 9.12815796e-001,\n",
       "        9.12815796e-001, 9.12815796e-001, 9.12815796e-001,\n",
       "        9.12815796e-001, 9.12815796e-001, 9.12815796e-001,\n",
       "        9.12815796e-001, 9.12815796e-001, 9.12815796e-001,\n",
       "        9.12815796e-001],\n",
       "       [9.12815796e-001, 9.12815796e-001, 9.12815796e-001,\n",
       "        9.12815796e-001, 9.12815796e-001, 9.12815796e-001,\n",
       "        9.12815796e-001, 9.12815796e-001, 9.12815796e-001,\n",
       "        9.12815796e-001, 9.12815796e-001, 9.12815796e-001,\n",
       "        8.94140483e-001, 9.12815796e-001, 9.12815796e-001,\n",
       "        6.85092194e-001, 5.67714890e-002, 9.12815796e-001,\n",
       "        9.12815796e-001, 8.94140483e-001, 8.39272656e-001,\n",
       "        9.12815796e-001, 9.12815796e-001, 9.12815796e-001,\n",
       "        9.12815796e-001, 8.94140483e-001, 8.94140483e-001,\n",
       "        9.12815796e-001],\n",
       "       [9.12815796e-001, 9.12815796e-001, 9.12815796e-001,\n",
       "        9.12815796e-001, 9.12815796e-001, 9.12815796e-001,\n",
       "        9.12815796e-001, 9.12815796e-001, 9.12815796e-001,\n",
       "        9.12815796e-001, 9.12815796e-001, 9.12815796e-001,\n",
       "        8.57368913e-001, 9.12815796e-001, 3.62106399e-001,\n",
       "        1.44886322e-001, 8.53949057e-002, 1.19945036e-001,\n",
       "        1.80558866e-001, 9.12815796e-001, 9.12815796e-001,\n",
       "        9.12815796e-001, 8.94140483e-001, 8.57368913e-001,\n",
       "        8.39272656e-001, 9.12815796e-001, 9.12815796e-001,\n",
       "        8.57368913e-001],\n",
       "       [9.12815796e-001, 9.12815796e-001, 9.12815796e-001,\n",
       "        9.12815796e-001, 9.12815796e-001, 9.12815796e-001,\n",
       "        9.12815796e-001, 9.12815796e-001, 9.12815796e-001,\n",
       "        9.12815796e-001, 9.12815796e-001, 9.12815796e-001,\n",
       "        8.03659199e-001, 9.12815796e-001, 2.17398711e-003,\n",
       "        1.09970040e+000, 5.98451100e-001, 1.30314875e-001,\n",
       "        2.10892864e-001, 6.39727666e-002, 5.32117362e-001,\n",
       "        9.12815796e-001, 9.12815796e-001, 9.12815796e-001,\n",
       "        9.12815796e-001, 7.01451281e-001, 7.34748512e-001,\n",
       "        9.12815796e-001],\n",
       "       [9.12815796e-001, 9.12815796e-001, 9.12815796e-001,\n",
       "        9.12815796e-001, 9.12815796e-001, 9.12815796e-001,\n",
       "        9.12815796e-001, 9.12815796e-001, 9.12815796e-001,\n",
       "        9.12815796e-001, 9.12815796e-001, 9.12815796e-001,\n",
       "        9.12815796e-001, 9.12815796e-001, 3.21822329e-001,\n",
       "        1.85785485e+000, 1.16238106e+000, 6.29236131e-001,\n",
       "        9.16722783e-003, 3.33064939e-001, 3.92173272e-001,\n",
       "        1.33156561e-002, 1.06721766e-001, 5.32117362e-001,\n",
       "        3.95898561e-002, 1.03488208e-001, 6.15494444e-002,\n",
       "        6.52953077e-001],\n",
       "       [9.12815796e-001, 9.12815796e-001, 9.12815796e-001,\n",
       "        9.12815796e-001, 9.12815796e-001, 9.12815796e-001,\n",
       "        9.12815796e-001, 9.12815796e-001, 9.12815796e-001,\n",
       "        9.12815796e-001, 9.12815796e-001, 8.94140483e-001,\n",
       "        9.12815796e-001, 7.70414237e-002, 1.16238106e+000,\n",
       "        1.52601677e+000, 1.40707259e+000, 1.36084605e+000,\n",
       "        1.36084605e+000, 4.17167737e-001, 8.53949057e-002,\n",
       "        5.44198102e-002, 5.90997790e-002, 2.29324687e-001,\n",
       "        1.84692769e-001, 8.26442151e-003, 5.39197264e-001,\n",
       "        9.42705727e-002],\n",
       "       [9.12815796e-001, 9.12815796e-001, 9.12815796e-001,\n",
       "        9.12815796e-001, 9.12815796e-001, 9.12815796e-001,\n",
       "        9.12815796e-001, 9.12815796e-001, 9.12815796e-001,\n",
       "        8.94140483e-001, 8.94140483e-001, 8.94140483e-001,\n",
       "        9.12815796e-001, 1.01882845e+000, 1.75227648e+000,\n",
       "        1.75227648e+000, 1.77838155e+000, 1.67511941e+000,\n",
       "        1.52601677e+000, 1.52601677e+000, 1.33802231e+000,\n",
       "        1.29295389e+000, 4.29954498e-001, 8.53949057e-002,\n",
       "        6.39727666e-002, 9.41044805e-001, 1.67511941e+000,\n",
       "        9.12815796e-001],\n",
       "       [9.12815796e-001, 9.12815796e-001, 9.12815796e-001,\n",
       "        9.12815796e-001, 9.12815796e-001, 9.12815796e-001,\n",
       "        9.12815796e-001, 9.12815796e-001, 9.12815796e-001,\n",
       "        9.12815796e-001, 9.12815796e-001, 9.12815796e-001,\n",
       "        9.12815796e-001, 7.09576538e-001, 1.57494558e+000,\n",
       "        1.36084605e+000, 1.52601677e+000, 1.64978642e+000,\n",
       "        1.83117073e+000, 1.62464646e+000, 1.55038467e+000,\n",
       "        1.50184190e+000, 1.55038467e+000, 1.47786004e+000,\n",
       "        1.52601677e+000, 2.10669776e+000, 5.53721195e-001,\n",
       "        9.12815796e-001],\n",
       "       [9.12815796e-001, 9.12815796e-001, 9.12815796e-001,\n",
       "        9.12815796e-001, 9.12815796e-001, 9.12815796e-001,\n",
       "        9.12815796e-001, 9.12815796e-001, 9.12815796e-001,\n",
       "        9.12815796e-001, 9.12815796e-001, 9.12815796e-001,\n",
       "        9.12815796e-001, 8.84733768e-001, 1.64978642e+000,\n",
       "        1.40707259e+000, 1.29295389e+000, 9.79550590e-001,\n",
       "        6.60793237e-001, 1.27070920e+000, 1.22679889e+000,\n",
       "        1.24865753e+000, 1.29295389e+000, 1.52601677e+000,\n",
       "        1.45407121e+000, 2.05004821e+000, 1.05887839e+000,\n",
       "        9.12815796e-001],\n",
       "       [9.12815796e-001, 9.12815796e-001, 9.12815796e-001,\n",
       "        9.12815796e-001, 9.12815796e-001, 9.12815796e-001,\n",
       "        9.12815796e-001, 9.12815796e-001, 9.12815796e-001,\n",
       "        8.94140483e-001, 8.57368913e-001, 9.12815796e-001,\n",
       "        7.01451281e-001, 1.43047539e+000, 1.45407121e+000,\n",
       "        1.27070920e+000, 1.40707259e+000, 8.66349460e-001,\n",
       "        4.96783585e-001, 1.62464646e+000, 1.18366065e+000,\n",
       "        1.40707259e+000, 1.55038467e+000, 1.27070920e+000,\n",
       "        1.59969951e+000, 9.60201188e-001, 1.20513326e+000,\n",
       "        1.97642513e-001],\n",
       "       [9.12815796e-001, 9.12815796e-001, 9.12815796e-001,\n",
       "        9.12815796e-001, 9.12815796e-001, 9.12815796e-001,\n",
       "        9.12815796e-001, 9.12815796e-001, 9.12815796e-001,\n",
       "        9.12815796e-001, 8.03659199e-001, 9.12815796e-001,\n",
       "        2.94269006e-004, 2.07827648e+000, 1.50184190e+000,\n",
       "        1.45407121e+000, 1.40707259e+000, 1.07919288e+000,\n",
       "        9.79550590e-001, 1.47786004e+000, 1.33802231e+000,\n",
       "        1.29295389e+000, 1.50184190e+000, 1.45407121e+000,\n",
       "        2.10669776e+000, 4.56389293e-002, 4.69472894e-001,\n",
       "        1.64247295e-001],\n",
       "       [9.12815796e-001, 9.12815796e-001, 9.12815796e-001,\n",
       "        9.12815796e-001, 9.12815796e-001, 9.12815796e-001,\n",
       "        9.12815796e-001, 9.12815796e-001, 9.12815796e-001,\n",
       "        8.39272656e-001, 9.12815796e-001, 9.12815796e-001,\n",
       "        1.72306571e-001, 1.85785485e+000, 1.64978642e+000,\n",
       "        1.70064542e+000, 1.64978642e+000, 1.96652151e+000,\n",
       "        1.75227648e+000, 1.29295389e+000, 1.40707259e+000,\n",
       "        1.52601677e+000, 1.80467963e+000, 1.38386281e+000,\n",
       "        1.38386281e+000, 1.20513326e+000, 2.66392019e-003,\n",
       "        9.12815796e-001],\n",
       "       [9.12815796e-001, 9.12815796e-001, 8.94140483e-001,\n",
       "        8.39272656e-001, 8.03659199e-001, 7.86141999e-001,\n",
       "        8.75658189e-001, 9.12815796e-001, 9.12815796e-001,\n",
       "        9.12815796e-001, 9.12815796e-001, 9.12815796e-001,\n",
       "        1.88473198e+000, 1.59969951e+000, 1.38386281e+000,\n",
       "        1.52601677e+000, 1.50184190e+000, 1.43047539e+000,\n",
       "        1.50184190e+000, 1.47786004e+000, 1.36084605e+000,\n",
       "        1.52601677e+000, 1.67511941e+000, 1.33802231e+000,\n",
       "        1.40707259e+000, 2.40152669e+000, 3.95898561e-002,\n",
       "        9.12815796e-001],\n",
       "       [9.12815796e-001, 8.57368913e-001, 9.12815796e-001,\n",
       "        9.12815796e-001, 9.12815796e-001, 9.12815796e-001,\n",
       "        9.12815796e-001, 9.12815796e-001, 9.12815796e-001,\n",
       "        1.19945036e-001, 2.20012266e-001, 1.09970040e+000,\n",
       "        1.64978642e+000, 1.16238106e+000, 1.29295389e+000,\n",
       "        1.47786004e+000, 1.40707259e+000, 1.18366065e+000,\n",
       "        1.24865753e+000, 1.40707259e+000, 1.55038467e+000,\n",
       "        1.52601677e+000, 1.43047539e+000, 1.33802231e+000,\n",
       "        1.55038467e+000, 2.07827648e+000, 3.67950882e-001,\n",
       "        9.12815796e-001],\n",
       "       [9.12815796e-001, 9.12815796e-001, 9.12815796e-001,\n",
       "        9.12815796e-001, 6.06192042e-001, 2.73697852e-001,\n",
       "        2.24557393e-002, 9.16722783e-003, 8.12354650e-001,\n",
       "        1.64978642e+000, 1.45407121e+000, 1.50184190e+000,\n",
       "        1.38386281e+000, 1.59969951e+000, 1.01882845e+000,\n",
       "        1.12040093e+000, 1.24865753e+000, 1.70064542e+000,\n",
       "        1.55038467e+000, 1.80467963e+000, 5.98451100e-001,\n",
       "        7.94742417e-001, 2.25169949e+000, 2.19311974e+000,\n",
       "        1.77838155e+000, 1.91180214e+000, 1.33802231e+000,\n",
       "        9.12815796e-001],\n",
       "       [9.12815796e-001, 1.56381038e-001, 7.77323204e-001,\n",
       "        1.18366065e+000, 1.55038467e+000, 1.47786004e+000,\n",
       "        1.55038467e+000, 1.18366065e+000, 1.09970040e+000,\n",
       "        1.31539159e+000, 1.18366065e+000, 1.20513326e+000,\n",
       "        1.01882845e+000, 3.67950882e-001, 2.10669776e+000,\n",
       "        8.84733768e-001, 1.14129449e+000, 1.52601677e+000,\n",
       "        2.40152669e+000, 2.40152669e+000, 1.47786004e+000,\n",
       "        1.80467963e+000, 1.47786004e+000, 1.24865753e+000,\n",
       "        1.45407121e+000, 1.75227648e+000, 2.13531207e+000,\n",
       "        9.12815796e-001],\n",
       "       [8.57368913e-001, 1.05887839e+000, 1.64978642e+000,\n",
       "        1.55038467e+000, 1.47786004e+000, 1.24865753e+000,\n",
       "        1.24865753e+000, 1.31539159e+000, 1.12040093e+000,\n",
       "        1.12040093e+000, 1.12040093e+000, 1.45407121e+000,\n",
       "        1.96652151e+000, 2.87303294e-002, 2.68504562e-001,\n",
       "        2.40152669e+000, 1.67511941e+000, 1.47786004e+000,\n",
       "        7.94742417e-001, 3.10772738e-001, 8.48158171e-001,\n",
       "        1.22679889e+000, 1.09970040e+000, 1.20513326e+000,\n",
       "        1.50184190e+000, 1.64978642e+000, 1.57494558e+000,\n",
       "        9.12815796e-001],\n",
       "       [5.37340231e-005, 1.77838155e+000, 9.79550590e-001,\n",
       "        1.22679889e+000, 1.50184190e+000, 1.67511941e+000,\n",
       "        1.67511941e+000, 1.80467963e+000, 2.22231311e+000,\n",
       "        1.45407121e+000, 9.03311095e-001, 1.33802231e+000,\n",
       "        1.38386281e+000, 1.99417072e+000, 1.00399660e-001,\n",
       "        5.67714890e-002, 7.38254197e-003, 3.76301238e-002,\n",
       "        4.83031730e-001, 1.43047539e+000, 1.47786004e+000,\n",
       "        1.33802231e+000, 1.38386281e+000, 1.52601677e+000,\n",
       "        1.52601677e+000, 1.55038467e+000, 1.67511941e+000,\n",
       "        4.49597368e-001],\n",
       "       [4.77946348e-002, 1.09970040e+000, 1.27070920e+000,\n",
       "        1.09970040e+000, 8.84733768e-001, 1.12040093e+000,\n",
       "        1.24865753e+000, 1.57494558e+000, 1.36084605e+000,\n",
       "        7.43063833e-001, 9.60201188e-001, 1.14129449e+000,\n",
       "        9.79550590e-001, 1.29295389e+000, 1.96652151e+000,\n",
       "        9.22081440e-001, 1.62464646e+000, 2.10669776e+000,\n",
       "        1.93906532e+000, 1.52601677e+000, 1.40707259e+000,\n",
       "        1.27070920e+000, 1.20513326e+000, 1.50184190e+000,\n",
       "        1.45407121e+000, 1.47786004e+000, 1.70064542e+000,\n",
       "        8.83345042e-002],\n",
       "       [2.34126032e-001, 1.07919288e+000, 7.09576538e-001,\n",
       "        9.03311095e-001, 1.29295389e+000, 9.60201188e-001,\n",
       "        7.43063833e-001, 8.30159901e-001, 9.03311095e-001,\n",
       "        8.66349460e-001, 1.05887839e+000, 1.31539159e+000,\n",
       "        1.43047539e+000, 1.47786004e+000, 1.45407121e+000,\n",
       "        1.85785485e+000, 1.57494558e+000, 1.36084605e+000,\n",
       "        9.99093011e-001, 1.14129449e+000, 7.60097009e-001,\n",
       "        6.76861319e-001, 6.13747106e-001, 5.39197264e-001,\n",
       "        6.76861319e-001, 1.12040093e+000, 1.14129449e+000,\n",
       "        3.03933937e-002],\n",
       "       [9.12815796e-001, 5.90997790e-002, 1.43047539e+000,\n",
       "        8.84733768e-001, 6.44918175e-001, 5.24866352e-001,\n",
       "        7.09576538e-001, 9.41044805e-001, 1.09970040e+000,\n",
       "        1.22679889e+000, 1.29295389e+000, 1.16238106e+000,\n",
       "        1.24865753e+000, 1.22679889e+000, 1.01882845e+000,\n",
       "        9.41044805e-001, 9.03311095e-001, 8.48158171e-001,\n",
       "        9.22081440e-001, 8.48158171e-001, 9.79550590e-001,\n",
       "        8.66349460e-001, 5.98451100e-001, 3.33064939e-001,\n",
       "        4.69472894e-001, 6.13747106e-001, 1.22679889e+000,\n",
       "        2.66392019e-003],\n",
       "       [9.12815796e-001, 9.12815796e-001, 5.21865525e-002,\n",
       "        8.12354650e-001, 1.27070920e+000, 8.48158171e-001,\n",
       "        5.83348113e-001, 5.39197264e-001, 5.83348113e-001,\n",
       "        6.76861319e-001, 7.43063833e-001, 7.94742417e-001,\n",
       "        8.12354650e-001, 7.94742417e-001, 8.84733768e-001,\n",
       "        9.79550590e-001, 1.09970040e+000, 1.20513326e+000,\n",
       "        1.22679889e+000, 1.22679889e+000, 1.24865753e+000,\n",
       "        7.94742417e-001, 7.94742417e-001, 9.03311095e-001,\n",
       "        8.66349460e-001, 1.36084605e+000, 5.10728459e-001,\n",
       "        9.12815796e-001],\n",
       "       [8.75658189e-001, 9.12815796e-001, 9.12815796e-001,\n",
       "        9.12815796e-001, 9.42705727e-002, 1.01882845e+000,\n",
       "        1.50184190e+000, 1.88473198e+000, 1.93906532e+000,\n",
       "        2.02201296e+000, 2.13531207e+000, 2.05004821e+000,\n",
       "        2.07827648e+000, 1.47786004e+000, 1.45407121e+000,\n",
       "        8.84733768e-001, 8.48158171e-001, 6.44918175e-001,\n",
       "        6.93122419e-001, 6.93122419e-001, 6.76861319e-001,\n",
       "        5.98451100e-001, 4.56107076e-001, 4.83031730e-001,\n",
       "        2.94269006e-004, 1.48707800e-001, 9.12815796e-001,\n",
       "        9.12815796e-001],\n",
       "       [9.12815796e-001, 9.12815796e-001, 9.12815796e-001,\n",
       "        9.12815796e-001, 9.12815796e-001, 9.12815796e-001,\n",
       "        9.12815796e-001, 3.16357975e-001, 1.26846198e-001,\n",
       "        2.73697852e-001, 6.15494444e-002, 3.05403416e-001,\n",
       "        3.74026052e-001, 9.12815796e-001, 9.12815796e-001,\n",
       "        9.12815796e-001, 9.12815796e-001, 9.12815796e-001,\n",
       "        9.12815796e-001, 9.12815796e-001, 9.12815796e-001,\n",
       "        9.12815796e-001, 9.12815796e-001, 9.12815796e-001,\n",
       "        9.12815796e-001, 9.12815796e-001, 9.12815796e-001,\n",
       "        9.12815796e-001],\n",
       "       [9.12815796e-001, 9.12815796e-001, 9.12815796e-001,\n",
       "        9.12815796e-001, 9.12815796e-001, 9.12815796e-001,\n",
       "        9.12815796e-001, 9.12815796e-001, 9.12815796e-001,\n",
       "        9.12815796e-001, 9.12815796e-001, 9.12815796e-001,\n",
       "        9.12815796e-001, 9.12815796e-001, 9.12815796e-001,\n",
       "        9.12815796e-001, 9.12815796e-001, 9.12815796e-001,\n",
       "        9.12815796e-001, 9.12815796e-001, 9.12815796e-001,\n",
       "        9.12815796e-001, 9.12815796e-001, 9.12815796e-001,\n",
       "        9.12815796e-001, 9.12815796e-001, 9.12815796e-001,\n",
       "        9.12815796e-001],\n",
       "       [9.12815796e-001, 9.12815796e-001, 9.12815796e-001,\n",
       "        9.12815796e-001, 9.12815796e-001, 9.12815796e-001,\n",
       "        9.12815796e-001, 9.12815796e-001, 9.12815796e-001,\n",
       "        9.12815796e-001, 9.12815796e-001, 9.12815796e-001,\n",
       "        9.12815796e-001, 9.12815796e-001, 9.12815796e-001,\n",
       "        9.12815796e-001, 9.12815796e-001, 9.12815796e-001,\n",
       "        9.12815796e-001, 9.12815796e-001, 9.12815796e-001,\n",
       "        9.12815796e-001, 9.12815796e-001, 9.12815796e-001,\n",
       "        9.12815796e-001, 9.12815796e-001, 9.12815796e-001,\n",
       "        9.12815796e-001]])"
      ]
     },
     "execution_count": 117,
     "metadata": {},
     "output_type": "execute_result"
    }
   ],
   "source": [
    "np.empty(z.shape)"
   ]
  },
  {
   "cell_type": "code",
   "execution_count": 118,
   "metadata": {},
   "outputs": [],
   "source": [
    "def normalization(X):\n",
    "    A = np.empty(X.shape)\n",
    "    A = (X - np.mean(X)) / np.std(X)\n",
    "    return(A)"
   ]
  },
  {
   "cell_type": "code",
   "execution_count": 119,
   "metadata": {},
   "outputs": [
    {
     "data": {
      "text/plain": [
       "array([[-1.0452985 , -1.0452985 , -1.0452985 , -1.0452985 , -1.0452985 ,\n",
       "        -1.0452985 , -1.0452985 , -0.91570685,  0.62761187,  1.3109133 ,\n",
       "         0.20349375, -1.0452985 , -1.0452985 , -1.0452985 , -1.0452985 ,\n",
       "        -1.0452985 , -1.0452985 , -1.0452985 , -0.04390849,  1.13419741,\n",
       "         0.2741801 , -1.0452985 , -1.0452985 , -1.0452985 , -1.0452985 ,\n",
       "        -1.0452985 , -1.0452985 , -1.0452985 ],\n",
       "       [-1.0452985 , -1.0452985 , -1.0452985 , -1.0452985 , -1.0452985 ,\n",
       "        -1.0452985 ,  0.74542246,  1.47584812,  1.5111913 ,  1.24022694,\n",
       "         1.73503142,  1.49941024,  1.15775953,  0.71007929,  0.54514446,\n",
       "         0.75720352,  1.44050494,  1.5111913 ,  1.67612612,  1.36981859,\n",
       "         1.5111913 ,  1.16954059, -0.6447425 , -1.0452985 , -1.0452985 ,\n",
       "        -1.0452985 , -1.0452985 , -1.0452985 ],\n",
       "       [-1.0452985 , -1.0452985 , -1.0452985 , -1.0452985 , -1.0452985 ,\n",
       "        -0.26774861,  1.13419741,  0.91035729,  1.07529212,  1.08707317,\n",
       "         1.19310271,  1.44050494,  1.55831553,  1.27557012,  0.67473611,\n",
       "         1.28735118,  1.38159965,  1.20488376,  0.93391941,  1.19310271,\n",
       "         0.98104364,  1.16954059,  1.01638682, -1.0452985 , -1.0452985 ,\n",
       "        -1.0452985 , -1.0452985 , -1.0452985 ],\n",
       "       [-1.0452985 , -1.0452985 , -1.0452985 , -1.0452985 , -1.0452985 ,\n",
       "         0.54514446,  0.75720352,  0.83967094,  1.01638682,  1.07529212,\n",
       "         0.95748153,  1.14597847,  1.15775953,  1.19310271,  1.16954059,\n",
       "         1.19310271,  1.15775953,  1.00460576,  1.252008  ,  1.13419741,\n",
       "         1.00460576,  0.851452  ,  1.01638682, -0.35021602, -1.0452985 ,\n",
       "        -1.0452985 , -1.0452985 , -1.0452985 ],\n",
       "       [-1.0452985 , -1.0452985 , -1.0452985 , -1.0452985 , -1.0452985 ,\n",
       "         0.851452  ,  0.68651717,  0.83967094,  0.95748153,  1.05173   ,\n",
       "         1.03994894,  1.07529212,  0.93391941,  0.9928247 ,  1.00460576,\n",
       "         0.96926258,  1.13419741,  1.12241635,  1.13419741,  0.98104364,\n",
       "         0.96926258,  0.88679517,  1.00460576,  0.36842858, -1.0452985 ,\n",
       "        -1.0452985 , -1.0452985 , -1.0452985 ],\n",
       "       [-1.0452985 , -1.0452985 , -1.0452985 , -1.0452985 , -1.02173638,\n",
       "         1.01638682,  0.67473611,  0.66295505,  0.93391941,  1.05173   ,\n",
       "         1.08707317,  1.13419741,  1.07529212,  1.12241635,  1.05173   ,\n",
       "         1.06351106,  1.15775953,  1.20488376,  1.22844588,  1.19310271,\n",
       "         1.08707317,  0.96926258,  0.98104364,  0.81610882, -1.0452985 ,\n",
       "        -1.0452985 , -1.0452985 , -1.0452985 ],\n",
       "       [-1.0452985 , -1.0452985 , -1.0452985 , -1.0452985 , -0.63296144,\n",
       "         1.03994894,  0.78076564,  0.60404976,  0.73364141,  0.98104364,\n",
       "         1.20488376,  1.15775953,  1.14597847,  1.15775953,  1.14597847,\n",
       "         1.15775953,  1.09885423,  1.20488376,  1.24022694,  1.16954059,\n",
       "         1.07529212,  0.851452  ,  0.851452  ,  1.13419741, -1.0452985 ,\n",
       "        -1.0452985 , -1.0452985 , -1.0452985 ],\n",
       "       [-1.0452985 , -1.0452985 , -1.0452985 , -1.0452985 , -0.35021602,\n",
       "         0.95748153,  0.75720352,  0.61583082,  0.36842858,  0.76898458,\n",
       "         0.83967094,  0.851452  ,  0.98104364,  0.93391941,  0.91035729,\n",
       "         0.851452  ,  0.89857623,  0.98104364,  0.95748153,  0.88679517,\n",
       "         0.5922687 ,  0.71007929,  0.86323305,  0.91035729, -0.79789626,\n",
       "        -1.0452985 , -1.0452985 , -1.0452985 ],\n",
       "       [-1.0452985 , -1.0452985 , -1.0452985 , -1.0452985 , -0.11459484,\n",
       "         0.66295505,  0.83967094,  1.47584812,  0.40377175,  0.46267705,\n",
       "         0.75720352,  0.83967094,  0.88679517,  0.81610882,  0.80432776,\n",
       "         0.76898458,  0.78076564,  0.95748153,  0.89857623,  0.61583082,\n",
       "         1.252008  ,  1.22844588,  0.74542246,  0.91035729, -0.3266539 ,\n",
       "        -1.0452985 , -1.0452985 , -1.0452985 ],\n",
       "       [-1.0452985 , -1.0452985 , -1.0452985 , -1.0452985 ,  0.1328074 ,\n",
       "         0.80432776,  1.60543977,  1.84106095,  1.01638682,  0.28596116,\n",
       "         1.00460576,  0.81610882,  0.81610882,  0.83967094,  0.78076564,\n",
       "         0.83967094,  0.88679517,  1.05173   ,  1.16954059,  0.54514446,\n",
       "         1.13419741,  1.78215565,  1.32269435,  0.98104364,  0.22705587,\n",
       "        -1.0452985 , -1.0452985 , -1.0452985 ],\n",
       "       [-1.0452985 , -1.0452985 , -1.0452985 , -1.0452985 , -1.0452985 ,\n",
       "        -0.68008567,  1.00460576, -0.71542885,  0.43911493,  0.75720352,\n",
       "         0.91035729,  0.74542246,  0.81610882,  0.81610882,  0.83967094,\n",
       "         0.851452  ,  0.80432776,  0.93391941,  1.20488376,  1.16954059,\n",
       "        -0.83323944,  0.50980128,  0.82788988, -0.96283109, -1.0452985 ,\n",
       "        -1.0452985 , -1.0452985 , -1.0452985 ],\n",
       "       [-1.0452985 , -1.0452985 , -1.0452985 , -1.0452985 , -1.0452985 ,\n",
       "        -1.0452985 , -1.0452985 , -1.0452985 , -0.07925166,  1.15775953,\n",
       "         0.82788988,  0.75720352,  0.80432776,  0.81610882,  0.86323305,\n",
       "         0.88679517,  0.88679517,  0.76898458,  1.15775953,  1.19310271,\n",
       "        -1.0452985 , -1.0452985 , -1.0452985 , -1.0452985 , -1.0452985 ,\n",
       "        -1.0452985 , -1.0452985 , -1.0452985 ],\n",
       "       [-1.0452985 , -1.0452985 , -1.0452985 , -1.0452985 , -1.03351744,\n",
       "        -1.00995532, -0.98639321, -1.0452985 , -0.60939932,  1.01638682,\n",
       "         0.81610882,  0.78076564,  0.86323305,  0.81610882,  0.83967094,\n",
       "         0.86323305,  0.89857623,  0.75720352,  1.03994894,  1.36981859,\n",
       "        -1.0452985 , -1.0452985 , -1.00995532, -1.00995532, -1.0452985 ,\n",
       "        -1.0452985 , -1.0452985 , -1.0452985 ],\n",
       "       [-1.0452985 , -1.0452985 , -1.0452985 , -1.0452985 , -1.0452985 ,\n",
       "        -1.0452985 , -1.03351744, -1.0452985 , -0.75077203,  1.01638682,\n",
       "         0.74542246,  0.83967094,  0.81610882,  0.851452  ,  0.83967094,\n",
       "         0.88679517,  0.88679517,  0.851452  ,  0.91035729,  1.3109133 ,\n",
       "        -1.0452985 , -1.0452985 , -1.03351744, -1.0452985 , -1.0452985 ,\n",
       "        -1.0452985 , -1.0452985 , -1.0452985 ],\n",
       "       [-1.0452985 , -1.0452985 , -1.0452985 , -1.0452985 , -1.0452985 ,\n",
       "        -1.0452985 , -0.99817427, -1.0452985 , -0.69186673,  0.96926258,\n",
       "         0.68651717,  0.88679517,  0.78076564,  0.89857623,  0.851452  ,\n",
       "         0.89857623,  0.86323305,  0.95748153,  0.88679517,  0.86323305,\n",
       "        -1.0452985 , -1.0452985 , -1.02173638, -1.0452985 , -1.0452985 ,\n",
       "        -1.0452985 , -1.0452985 , -1.0452985 ],\n",
       "       [-1.0452985 , -1.0452985 , -1.0452985 , -1.0452985 , -1.0452985 ,\n",
       "        -1.0452985 , -0.99817427, -1.0452985 , -0.37377814,  0.91035729,\n",
       "         0.78076564,  0.88679517,  0.91035729,  0.851452  ,  0.851452  ,\n",
       "         0.88679517,  0.92213835,  0.89857623,  0.89857623,  0.86323305,\n",
       "        -0.71542885, -1.0452985 , -1.00995532, -1.0452985 , -1.0452985 ,\n",
       "        -1.0452985 , -1.0452985 , -1.0452985 ],\n",
       "       [-1.0452985 , -1.0452985 , -1.0452985 , -1.0452985 , -1.0452985 ,\n",
       "        -1.0452985 , -1.00995532, -1.0452985 ,  0.29774222,  0.851452  ,\n",
       "         0.851452  ,  0.91035729,  0.82788988,  0.93391941,  0.851452  ,\n",
       "         0.851452  ,  0.98104364,  0.86323305,  0.89857623,  0.96926258,\n",
       "        -0.45624555, -1.0452985 , -0.98639321, -1.0452985 , -1.0452985 ,\n",
       "        -1.0452985 , -1.0452985 , -1.0452985 ],\n",
       "       [-1.0452985 , -1.0452985 , -1.0452985 , -1.0452985 , -1.0452985 ,\n",
       "        -1.0452985 , -1.03351744, -1.0452985 ,  0.71007929,  0.80432776,\n",
       "         0.92213835,  0.98104364,  0.82788988,  0.98104364,  0.88679517,\n",
       "         0.851452  ,  0.98104364,  0.95748153,  0.83967094,  0.96926258,\n",
       "         0.00321575, -1.0452985 , -0.99817427, -1.0452985 , -1.0452985 ,\n",
       "        -1.0452985 , -1.0452985 , -1.0452985 ],\n",
       "       [-1.0452985 , -1.0452985 , -1.0452985 , -1.0452985 , -1.0452985 ,\n",
       "        -1.02173638, -1.0452985 , -0.99817427,  0.96926258,  0.88679517,\n",
       "         0.91035729,  0.9928247 ,  0.82788988,  1.06351106,  0.91035729,\n",
       "         0.83967094,  1.00460576,  0.92213835,  0.86323305,  0.91035729,\n",
       "         0.46267705, -1.0452985 , -1.02173638, -1.0452985 , -1.0452985 ,\n",
       "        -1.0452985 , -1.0452985 , -1.0452985 ],\n",
       "       [-1.0452985 , -1.0452985 , -1.0452985 , -1.0452985 , -1.0452985 ,\n",
       "        -1.00995532, -1.0452985 , -0.83323944,  0.74542246,  0.9928247 ,\n",
       "         0.83967094,  1.06351106,  0.76898458,  1.08707317,  0.91035729,\n",
       "         0.88679517,  1.01638682,  0.95748153,  0.91035729,  0.95748153,\n",
       "         0.88679517, -1.0452985 , -1.0452985 , -1.03351744, -1.0452985 ,\n",
       "        -1.0452985 , -1.0452985 , -1.0452985 ],\n",
       "       [-1.0452985 , -1.0452985 , -1.0452985 , -1.0452985 , -1.0452985 ,\n",
       "        -0.99817427, -1.0452985 , -0.49158873,  0.89857623,  0.98104364,\n",
       "         0.92213835,  1.13419741,  0.75720352,  1.15775953,  0.9928247 ,\n",
       "         0.89857623,  1.00460576,  1.06351106,  0.91035729,  0.91035729,\n",
       "         0.81610882, -0.98639321, -1.0452985 , -1.00995532, -1.0452985 ,\n",
       "        -1.0452985 , -1.0452985 , -1.0452985 ],\n",
       "       [-1.0452985 , -1.0452985 , -1.0452985 , -1.0452985 , -1.0452985 ,\n",
       "        -0.99817427, -1.0452985 , -0.02034637,  1.07529212,  0.86323305,\n",
       "         1.06351106,  1.06351106,  0.80432776,  1.20488376,  1.09885423,\n",
       "         0.89857623,  0.93391941,  1.19310271,  0.9928247 ,  0.89857623,\n",
       "         0.91035729, -0.80967732, -1.0452985 , -0.99817427, -1.0452985 ,\n",
       "        -1.0452985 , -1.0452985 , -1.0452985 ],\n",
       "       [-1.0452985 , -1.0452985 , -1.0452985 , -1.0452985 , -1.0452985 ,\n",
       "        -0.99817427, -1.0452985 ,  0.19171269,  1.15775953,  0.80432776,\n",
       "         1.24022694,  1.01638682,  0.851452  ,  1.19310271,  1.12241635,\n",
       "         0.95748153,  0.81610882,  1.36981859,  1.03994894,  0.93391941,\n",
       "         0.96926258, -0.52693191, -1.0452985 , -0.99817427, -1.0452985 ,\n",
       "        -1.0452985 , -1.0452985 , -1.0452985 ],\n",
       "       [-1.0452985 , -1.0452985 , -1.0452985 , -1.0452985 , -1.0452985 ,\n",
       "        -0.98639321, -1.0452985 ,  0.58048764,  1.08707317,  0.81610882,\n",
       "         1.36981859,  0.83967094,  0.92213835,  1.19310271,  1.28735118,\n",
       "         0.92213835,  0.74542246,  1.52297236,  1.14597847,  0.95748153,\n",
       "         0.98104364, -0.37377814, -1.0452985 , -0.98639321, -1.0452985 ,\n",
       "        -1.0452985 , -1.0452985 , -1.0452985 ],\n",
       "       [-1.0452985 , -1.0452985 , -1.0452985 , -1.0452985 , -1.0452985 ,\n",
       "        -0.98639321, -1.0452985 ,  0.54514446,  1.00460576,  0.92213835,\n",
       "         1.29913224,  0.78076564,  0.91035729,  1.32269435,  1.53475342,\n",
       "         0.89857623,  0.81610882,  1.52297236,  1.16954059,  0.92213835,\n",
       "         1.01638682, -0.3855592 , -1.0452985 , -0.96283109, -1.0452985 ,\n",
       "        -1.0452985 , -1.0452985 , -1.0452985 ],\n",
       "       [-1.0452985 , -1.0452985 , -1.0452985 , -1.0452985 , -1.0452985 ,\n",
       "        -0.98639321, -1.0452985 ,  0.47445811,  0.96926258,  0.98104364,\n",
       "         1.03994894,  0.75720352,  0.82788988,  1.38159965,  1.49941024,\n",
       "         0.69829823,  0.80432776,  1.38159965,  1.19310271,  0.89857623,\n",
       "         1.01638682, -0.47980767, -1.0452985 , -0.98639321, -1.0452985 ,\n",
       "        -1.0452985 , -1.0452985 , -1.0452985 ],\n",
       "       [-1.0452985 , -1.0452985 , -1.0452985 , -1.0452985 , -1.0452985 ,\n",
       "        -0.98639321, -1.0452985 ,  0.92213835,  1.15775953,  1.09885423,\n",
       "         1.28735118,  1.24022694,  1.3109133 ,  1.61722083,  1.78215565,\n",
       "         1.12241635,  1.38159965,  1.95887154,  1.27557012,  1.05173   ,\n",
       "         1.06351106, -0.55049402, -1.0452985 , -0.98639321, -1.0452985 ,\n",
       "        -1.0452985 , -1.0452985 , -1.0452985 ],\n",
       "       [-1.0452985 , -1.0452985 , -1.0452985 , -1.0452985 , -1.0452985 ,\n",
       "        -1.00995532, -1.0452985 ,  0.30952328,  0.54514446,  0.28596116,\n",
       "         0.20349375, -0.04390849, -0.07925166,  0.22705587,  0.52158234,\n",
       "        -0.06747061,  0.01499681,  0.38020964,  0.36842858,  0.25061799,\n",
       "         0.81610882, -0.83323944, -1.0452985 , -1.00995532, -1.0452985 ,\n",
       "        -1.0452985 , -1.0452985 , -1.0452985 ]])"
      ]
     },
     "execution_count": 119,
     "metadata": {},
     "output_type": "execute_result"
    }
   ],
   "source": [
    "normalization(x_train[10])"
   ]
  },
  {
   "cell_type": "code",
   "execution_count": 120,
   "metadata": {},
   "outputs": [
    {
     "data": {
      "text/plain": [
       "1.8126090197961738e-17"
      ]
     },
     "execution_count": 120,
     "metadata": {},
     "output_type": "execute_result"
    }
   ],
   "source": [
    "np.mean(normalization(x_train[11]))"
   ]
  },
  {
   "cell_type": "code",
   "execution_count": 121,
   "metadata": {},
   "outputs": [
    {
     "data": {
      "text/plain": [
       "array([[-0.95541394, -0.95541394, -0.95541394, -0.95541394, -0.95541394,\n",
       "        -0.95541394, -0.95541394, -0.95541394, -0.95541394, -0.95541394,\n",
       "        -0.95541394, -0.95541394, -0.95541394, -0.95541394, -0.95541394,\n",
       "        -0.95541394, -0.95541394, -0.95541394, -0.95541394, -0.95541394,\n",
       "        -0.95541394, -0.95541394, -0.95541394, -0.95541394, -0.95541394,\n",
       "        -0.95541394, -0.95541394, -0.95541394],\n",
       "       [-0.95541394, -0.95541394, -0.95541394, -0.95541394, -0.95541394,\n",
       "        -0.95541394, -0.95541394, -0.95541394, -0.95541394, -0.95541394,\n",
       "        -0.95541394, -0.95541394, -0.95541394, -0.95541394, -0.95541394,\n",
       "        -0.95541394, -0.95541394, -0.95541394, -0.95541394, -0.95541394,\n",
       "        -0.95541394, -0.95541394, -0.95541394, -0.95541394, -0.95541394,\n",
       "        -0.95541394, -0.95541394, -0.95541394],\n",
       "       [-0.95541394, -0.95541394, -0.95541394, -0.95541394, -0.95541394,\n",
       "        -0.95541394, -0.95541394, -0.95541394, -0.95541394, -0.95541394,\n",
       "        -0.95541394, -0.95541394, -0.95541394, -0.95541394, -0.95541394,\n",
       "        -0.95541394, -0.95541394, -0.95541394, -0.95541394, -0.95541394,\n",
       "        -0.95541394, -0.95541394, -0.95541394, -0.95541394, -0.95541394,\n",
       "        -0.95541394, -0.95541394, -0.95541394],\n",
       "       [-0.95541394, -0.95541394, -0.95541394, -0.95541394, -0.95541394,\n",
       "        -0.95541394, -0.95541394, -0.95541394, -0.95541394, -0.95541394,\n",
       "        -0.95541394, -0.95541394, -0.94559002, -0.95541394, -0.95541394,\n",
       "        -0.82770296, -0.23826768, -0.95541394, -0.95541394, -0.94559002,\n",
       "        -0.91611825, -0.95541394, -0.95541394, -0.95541394, -0.95541394,\n",
       "        -0.94559002, -0.94559002, -0.95541394],\n",
       "       [-0.95541394, -0.95541394, -0.95541394, -0.95541394, -0.95541394,\n",
       "        -0.95541394, -0.95541394, -0.95541394, -0.95541394, -0.95541394,\n",
       "        -0.95541394, -0.95541394, -0.92594218, -0.95541394, -0.60175277,\n",
       "         0.38063936,  0.29222407, -0.34633082, -0.42492219, -0.95541394,\n",
       "        -0.95541394, -0.95541394, -0.94559002, -0.92594218, -0.91611825,\n",
       "        -0.95541394, -0.95541394, -0.92594218],\n",
       "       [-0.95541394, -0.95541394, -0.95541394, -0.95541394, -0.95541394,\n",
       "        -0.95541394, -0.95541394, -0.95541394, -0.95541394, -0.95541394,\n",
       "        -0.95541394, -0.95541394, -0.89647041, -0.95541394,  0.04662603,\n",
       "         1.04866601,  0.77359621,  0.36099152,  0.45923073,  0.25292838,\n",
       "        -0.72946375, -0.95541394, -0.95541394, -0.95541394, -0.95541394,\n",
       "        -0.83752688, -0.85717473, -0.95541394],\n",
       "       [-0.95541394, -0.95541394, -0.95541394, -0.95541394, -0.95541394,\n",
       "        -0.95541394, -0.95541394, -0.95541394, -0.95541394, -0.95541394,\n",
       "        -0.95541394, -0.95541394, -0.95541394, -0.95541394,  0.56729386,\n",
       "         1.36303149,  1.07813777,  0.79324405,  0.09574564,  0.57711779,\n",
       "         0.62623739,  0.11539348, -0.32668298, -0.72946375, -0.198972  ,\n",
       "         0.32169583, -0.2480916 , -0.80805512],\n",
       "       [-0.95541394, -0.95541394, -0.95541394, -0.95541394, -0.95541394,\n",
       "        -0.95541394, -0.95541394, -0.95541394, -0.95541394, -0.95541394,\n",
       "        -0.95541394, -0.94559002, -0.95541394, -0.27756337,  1.07813777,\n",
       "         1.23532051,  1.18620091,  1.16655307,  1.16655307,  0.64588524,\n",
       "         0.29222407,  0.23328054,  0.24310446,  0.47887857,  0.42975897,\n",
       "        -0.09090886,  0.73430053, -0.30703513],\n",
       "       [-0.95541394, -0.95541394, -0.95541394, -0.95541394, -0.95541394,\n",
       "        -0.95541394, -0.95541394, -0.95541394, -0.95541394, -0.94559002,\n",
       "        -0.94559002, -0.94559002, -0.95541394,  1.00937032,  1.32373581,\n",
       "         1.32373581,  1.33355973,  1.29426404,  1.23532051,  1.23532051,\n",
       "         1.15672914,  1.1370813 ,  0.65570916,  0.29222407,  0.25292838,\n",
       "         0.97007464,  1.29426404, -0.95541394],\n",
       "       [-0.95541394, -0.95541394, -0.95541394, -0.95541394, -0.95541394,\n",
       "        -0.95541394, -0.95541394, -0.95541394, -0.95541394, -0.95541394,\n",
       "        -0.95541394, -0.95541394, -0.95541394,  0.84236366,  1.25496836,\n",
       "         1.16655307,  1.23532051,  1.28444012,  1.35320757,  1.2746162 ,\n",
       "         1.24514444,  1.22549659,  1.24514444,  1.21567267,  1.23532051,\n",
       "         1.45144678,  0.74412445, -0.95541394],\n",
       "       [-0.95541394, -0.95541394, -0.95541394, -0.95541394, -0.95541394,\n",
       "        -0.95541394, -0.95541394, -0.95541394, -0.95541394, -0.95541394,\n",
       "        -0.95541394, -0.95541394, -0.95541394,  0.94060287,  1.28444012,\n",
       "         1.18620091,  1.1370813 ,  0.98972248,  0.8128919 ,  1.12725738,\n",
       "         1.10760954,  1.11743346,  1.1370813 ,  1.23532051,  1.20584875,\n",
       "         1.43179894,  1.02901817, -0.95541394],\n",
       "       [-0.95541394, -0.95541394, -0.95541394, -0.95541394, -0.95541394,\n",
       "        -0.95541394, -0.95541394, -0.95541394, -0.95541394, -0.94559002,\n",
       "        -0.92594218, -0.95541394, -0.83752688,  1.19602483,  1.20584875,\n",
       "         1.12725738,  1.18620091,  0.93077895,  0.70482876,  1.2746162 ,\n",
       "         1.08796169,  1.18620091,  1.24514444,  1.12725738,  1.26479228,\n",
       "         0.97989856,  1.09778562, -0.44457003],\n",
       "       [-0.95541394, -0.95541394, -0.95541394, -0.95541394, -0.95541394,\n",
       "        -0.95541394, -0.95541394, -0.95541394, -0.95541394, -0.95541394,\n",
       "        -0.89647041, -0.95541394,  0.01715427,  1.44162286,  1.22549659,\n",
       "         1.20584875,  1.18620091,  1.03884209,  0.98972248,  1.21567267,\n",
       "         1.15672914,  1.1370813 ,  1.22549659,  1.20584875,  1.45144678,\n",
       "         0.2136327 ,  0.68518092, -0.40527435],\n",
       "       [-0.95541394, -0.95541394, -0.95541394, -0.95541394, -0.95541394,\n",
       "        -0.95541394, -0.95541394, -0.95541394, -0.95541394, -0.91611825,\n",
       "        -0.95541394, -0.95541394, -0.41509827,  1.36303149,  1.28444012,\n",
       "         1.30408796,  1.28444012,  1.40232718,  1.32373581,  1.1370813 ,\n",
       "         1.18620091,  1.23532051,  1.34338365,  1.17637699,  1.17637699,\n",
       "         1.09778562, -0.05161318, -0.95541394],\n",
       "       [-0.95541394, -0.95541394, -0.94559002, -0.91611825, -0.89647041,\n",
       "        -0.88664649, -0.9357661 , -0.95541394, -0.95541394, -0.95541394,\n",
       "        -0.95541394, -0.95541394,  1.37285541,  1.26479228,  1.17637699,\n",
       "         1.23532051,  1.22549659,  1.19602483,  1.22549659,  1.21567267,\n",
       "         1.16655307,  1.23532051,  1.29426404,  1.15672914,  1.18620091,\n",
       "         1.549686  , -0.198972  , -0.95541394],\n",
       "       [-0.95541394, -0.92594218, -0.95541394, -0.95541394, -0.95541394,\n",
       "        -0.95541394, -0.95541394, -0.95541394, -0.95541394, -0.34633082,\n",
       "         0.46905465,  1.04866601,  1.28444012,  1.07813777,  1.1370813 ,\n",
       "         1.21567267,  1.18620091,  1.08796169,  1.11743346,  1.18620091,\n",
       "         1.24514444,  1.23532051,  1.19602483,  1.15672914,  1.24514444,\n",
       "         1.44162286,  0.60658955, -0.95541394],\n",
       "       [-0.95541394, -0.95541394, -0.95541394, -0.95541394, -0.77858336,\n",
       "        -0.5231614 , -0.14985239,  0.09574564,  0.90130719,  1.28444012,\n",
       "         1.20584875,  1.22549659,  1.17637699,  1.26479228,  1.00937032,\n",
       "         1.05848993,  1.11743346,  1.30408796,  1.24514444,  1.34338365,\n",
       "         0.77359621,  0.89148327,  1.50056639,  1.48091855,  1.33355973,\n",
       "         1.38267933,  1.15672914, -0.95541394],\n",
       "       [-0.95541394, -0.39545042,  0.88165935,  1.08796169,  1.24514444,\n",
       "         1.21567267,  1.24514444,  1.08796169,  1.04866601,  1.14690522,\n",
       "         1.08796169,  1.09778562,  1.00937032,  0.60658955,  1.45144678,\n",
       "         0.94060287,  1.06831385,  1.23532051,  1.549686  ,  1.549686  ,\n",
       "         1.21567267,  1.34338365,  1.21567267,  1.11743346,  1.20584875,\n",
       "         1.32373581,  1.4612707 , -0.95541394],\n",
       "       [-0.92594218,  1.02901817,  1.28444012,  1.24514444,  1.21567267,\n",
       "         1.11743346,  1.11743346,  1.14690522,  1.05848993,  1.05848993,\n",
       "         1.05848993,  1.20584875,  1.40232718, -0.16950023,  0.51817426,\n",
       "         1.549686  ,  1.29426404,  1.21567267,  0.89148327,  0.55746994,\n",
       "         0.92095503,  1.10760954,  1.04866601,  1.09778562,  1.22549659,\n",
       "         1.28444012,  1.25496836, -0.95541394],\n",
       "       [ 0.00733035,  1.33355973,  0.98972248,  1.10760954,  1.22549659,\n",
       "         1.29426404,  1.29426404,  1.34338365,  1.49074247,  1.20584875,\n",
       "         0.9504268 ,  1.15672914,  1.17637699,  1.4121511 , -0.31685905,\n",
       "        -0.23826768,  0.08592172,  0.19398485,  0.69500484,  1.19602483,\n",
       "         1.21567267,  1.15672914,  1.17637699,  1.23532051,  1.23532051,\n",
       "         1.24514444,  1.29426404, -0.67052022],\n",
       "       [-0.21861984,  1.04866601,  1.12725738,  1.04866601,  0.94060287,\n",
       "         1.05848993,  1.11743346,  1.25496836,  1.16655307,  0.8620115 ,\n",
       "         0.97989856,  1.06831385,  0.98972248,  1.1370813 ,  1.40232718,\n",
       "         0.96025072,  1.2746162 ,  1.45144678,  1.39250326,  1.23532051,\n",
       "         1.18620091,  1.12725738,  1.09778562,  1.22549659,  1.20584875,\n",
       "         1.21567267,  1.30408796, -0.29721121],\n",
       "       [-0.48386572,  1.03884209,  0.84236366,  0.9504268 ,  1.1370813 ,\n",
       "         0.97989856,  0.8620115 ,  0.91113111,  0.9504268 ,  0.93077895,\n",
       "         1.02901817,  1.14690522,  1.19602483,  1.21567267,  1.20584875,\n",
       "         1.36303149,  1.25496836,  1.16655307,  0.9995464 ,  1.06831385,\n",
       "         0.87183543,  0.82271582,  0.78342013,  0.73430053,  0.82271582,\n",
       "         1.05848993,  1.06831385,  0.17433701],\n",
       "       [-0.95541394,  0.24310446,  1.19602483,  0.94060287,  0.80306798,\n",
       "         0.72447661,  0.84236366,  0.97007464,  1.04866601,  1.10760954,\n",
       "         1.1370813 ,  1.07813777,  1.11743346,  1.10760954,  1.00937032,\n",
       "         0.97007464,  0.9504268 ,  0.92095503,  0.96025072,  0.92095503,\n",
       "         0.98972248,  0.93077895,  0.77359621,  0.57711779,  0.68518092,\n",
       "         0.78342013,  1.10760954, -0.05161318],\n",
       "       [-0.95541394, -0.95541394, -0.22844376,  0.90130719,  1.12725738,\n",
       "         0.92095503,  0.76377229,  0.73430053,  0.76377229,  0.82271582,\n",
       "         0.8620115 ,  0.89148327,  0.90130719,  0.89148327,  0.94060287,\n",
       "         0.98972248,  1.04866601,  1.09778562,  1.10760954,  1.10760954,\n",
       "         1.11743346,  0.89148327,  0.89148327,  0.9504268 ,  0.93077895,\n",
       "         1.16655307,  0.71465268, -0.95541394],\n",
       "       [-0.9357661 , -0.95541394, -0.95541394, -0.95541394, -0.30703513,\n",
       "         1.00937032,  1.22549659,  1.37285541,  1.39250326,  1.42197502,\n",
       "         1.4612707 ,  1.43179894,  1.44162286,  1.21567267,  1.20584875,\n",
       "         0.94060287,  0.92095503,  0.80306798,  0.83253974,  0.83253974,\n",
       "         0.82271582,  0.77359621,  0.675357  ,  0.69500484,  0.01715427,\n",
       "        -0.3856265 , -0.95541394, -0.95541394],\n",
       "       [-0.95541394, -0.95541394, -0.95541394, -0.95541394, -0.95541394,\n",
       "        -0.95541394, -0.95541394, -0.56245709, -0.35615474, -0.5231614 ,\n",
       "        -0.2480916 , -0.55263317, -0.61157669, -0.95541394, -0.95541394,\n",
       "        -0.95541394, -0.95541394, -0.95541394, -0.95541394, -0.95541394,\n",
       "        -0.95541394, -0.95541394, -0.95541394, -0.95541394, -0.95541394,\n",
       "        -0.95541394, -0.95541394, -0.95541394],\n",
       "       [-0.95541394, -0.95541394, -0.95541394, -0.95541394, -0.95541394,\n",
       "        -0.95541394, -0.95541394, -0.95541394, -0.95541394, -0.95541394,\n",
       "        -0.95541394, -0.95541394, -0.95541394, -0.95541394, -0.95541394,\n",
       "        -0.95541394, -0.95541394, -0.95541394, -0.95541394, -0.95541394,\n",
       "        -0.95541394, -0.95541394, -0.95541394, -0.95541394, -0.95541394,\n",
       "        -0.95541394, -0.95541394, -0.95541394],\n",
       "       [-0.95541394, -0.95541394, -0.95541394, -0.95541394, -0.95541394,\n",
       "        -0.95541394, -0.95541394, -0.95541394, -0.95541394, -0.95541394,\n",
       "        -0.95541394, -0.95541394, -0.95541394, -0.95541394, -0.95541394,\n",
       "        -0.95541394, -0.95541394, -0.95541394, -0.95541394, -0.95541394,\n",
       "        -0.95541394, -0.95541394, -0.95541394, -0.95541394, -0.95541394,\n",
       "        -0.95541394, -0.95541394, -0.95541394]])"
      ]
     },
     "execution_count": 121,
     "metadata": {},
     "output_type": "execute_result"
    }
   ],
   "source": [
    "z"
   ]
  },
  {
   "cell_type": "code",
   "execution_count": 122,
   "metadata": {},
   "outputs": [
    {
     "data": {
      "text/plain": [
       "(28, 28)"
      ]
     },
     "execution_count": 122,
     "metadata": {},
     "output_type": "execute_result"
    }
   ],
   "source": [
    "z.shape"
   ]
  },
  {
   "cell_type": "code",
   "execution_count": 123,
   "metadata": {},
   "outputs": [
    {
     "data": {
      "text/plain": [
       "28"
      ]
     },
     "execution_count": 123,
     "metadata": {},
     "output_type": "execute_result"
    }
   ],
   "source": [
    "z.shape[1]"
   ]
  },
  {
   "cell_type": "code",
   "execution_count": 124,
   "metadata": {},
   "outputs": [
    {
     "data": {
      "text/plain": [
       "array([0., 0., 0., 0., 0., 0., 0., 0., 0., 0., 0., 0., 0., 0., 0., 0., 0.,\n",
       "       0., 0., 0., 0., 0., 0., 0., 0., 0., 0., 0.])"
      ]
     },
     "execution_count": 124,
     "metadata": {},
     "output_type": "execute_result"
    }
   ],
   "source": [
    "np.zeros(z.shape[0])"
   ]
  },
  {
   "cell_type": "code",
   "execution_count": 125,
   "metadata": {},
   "outputs": [],
   "source": [
    "pad_array = np.empty(z.shape)"
   ]
  },
  {
   "cell_type": "code",
   "execution_count": 126,
   "metadata": {},
   "outputs": [
    {
     "data": {
      "text/plain": [
       "array([[ 9.97996037e-312,  9.97995257e-312,  3.06073668e-320,\n",
       "                     nan,  1.12646967e-321,  0.00000000e+000,\n",
       "         8.94213159e+130,  1.14372340e-071,  3.25266768e-086,\n",
       "         4.01458676e-057,  2.21582228e-052,  2.48103618e-091,\n",
       "         4.18204539e-062,  2.90701682e-033,  9.46795886e-096,\n",
       "         6.01347002e-154,  3.37861399e-057,  1.25767117e-076,\n",
       "         3.69628382e-033,  2.62895879e-052,  1.05177513e-153,\n",
       "         1.14372340e-071,  3.25266768e-086,  4.01458676e-057,\n",
       "         6.01347002e-154,  2.21582228e-052,  2.48103618e-091,\n",
       "         4.18204539e-062],\n",
       "       [ 2.90701682e-033,  9.46795886e-096,  3.37861399e-057,\n",
       "         1.25767117e-076,  3.69628382e-033,  6.01347002e-154,\n",
       "         2.62895879e-052,  1.05177513e-153,  1.14372340e-071,\n",
       "         3.25266768e-086,  4.01458676e-057,  2.21582228e-052,\n",
       "         2.48103618e-091,  4.18204539e-062,  6.01346953e-154,\n",
       "         2.90701682e-033,  9.46795886e-096,  3.37861399e-057,\n",
       "         1.25767117e-076,  3.69628382e-033,  2.62895879e-052,\n",
       "         1.05177513e-153,  1.14372340e-071,  6.01334510e-154,\n",
       "         3.25266753e-086,  4.01458676e-057,  2.21582228e-052,\n",
       "         2.48103618e-091],\n",
       "       [ 4.18204539e-062,  6.01334510e-154,  3.25284856e-086,\n",
       "         4.01458676e-057,  2.21582228e-052,  2.48103618e-091,\n",
       "         4.18204539e-062,  2.90701682e-033,  9.46795886e-096,\n",
       "         3.37861399e-057,  5.98149119e-154,  1.25766321e-076,\n",
       "         3.69628382e-033,  2.62895879e-052,  1.05177513e-153,\n",
       "         1.14372340e-071,  3.25266768e-086,  4.01458676e-057,\n",
       "         2.21582228e-052,  2.44005881e-154,  2.47379808e-091,\n",
       "         4.18204539e-062,  2.90701682e-033,  9.46795886e-096,\n",
       "         3.37861399e-057,  1.25767117e-076,  3.69628382e-033,\n",
       "         2.62895879e-052],\n",
       "       [ 1.14647456e-259,  6.01347002e-154,  1.14372340e-071,\n",
       "         3.25266768e-086,  4.01458676e-057,  2.21582228e-052,\n",
       "         2.48103618e-091,  4.18204539e-062,  2.90701682e-033,\n",
       "         9.46795886e-096,  6.01347002e-154,  3.37861399e-057,\n",
       "         1.25767117e-076,  3.69628382e-033,  2.62895879e-052,\n",
       "         1.05177513e-153,  1.14372340e-071,  3.25266768e-086,\n",
       "         4.01458676e-057,  6.01347002e-154,  2.21582228e-052,\n",
       "         2.48103618e-091,  4.18204539e-062,  2.90701682e-033,\n",
       "         9.63325292e+140,  6.01347002e-154,  2.21582228e-052,\n",
       "         2.48103618e-091],\n",
       "       [ 4.18204539e-062,  2.90701682e-033,  9.46795886e-096,\n",
       "         3.37861399e-057,  1.25767117e-076,  3.69628382e-033,\n",
       "         6.01347002e-154,  2.62895879e-052,  1.05177513e-153,\n",
       "         1.14372340e-071,  3.25266768e-086,  4.01458676e-057,\n",
       "         2.21582228e-052,  2.48103618e-091,  4.18204539e-062,\n",
       "         6.01346953e-154,  2.90701682e-033,  9.46795886e-096,\n",
       "         3.37861399e-057,  1.25767117e-076,  3.69628382e-033,\n",
       "         2.62895879e-052,  1.05177513e-153,  1.14372340e-071,\n",
       "         6.01334510e-154,  3.25266753e-086,  4.01458676e-057,\n",
       "         2.21582228e-052],\n",
       "       [ 2.48103618e-091,  4.18204539e-062,  2.90701682e-033,\n",
       "         9.46795886e-096,  3.37861399e-057,  5.98149119e-154,\n",
       "         1.25766321e-076,  3.69628382e-033,  2.62895879e-052,\n",
       "         1.05177513e-153,  1.14372340e-071,  3.25266768e-086,\n",
       "         4.01458676e-057,  2.21582228e-052,  2.44005881e-154,\n",
       "         2.47379808e-091,  4.18204539e-062,  2.90701682e-033,\n",
       "         9.46795886e-096,  3.37861399e-057,  2.44011711e-154,\n",
       "         3.32903917e-090,  4.18204539e-062,  2.90701682e-033,\n",
       "         9.46795886e-096,  3.37861399e-057,  1.25767117e-076,\n",
       "         3.69628382e-033],\n",
       "       [ 2.62895879e-052,  1.14647456e-259,  6.01347002e-154,\n",
       "         1.14372340e-071,  3.25266768e-086,  4.01458676e-057,\n",
       "         2.21582228e-052,  2.48103618e-091,  4.18204539e-062,\n",
       "         2.90701682e-033,  9.46795886e-096,  6.01347002e-154,\n",
       "         3.37861399e-057,  1.25767117e-076,  3.69628382e-033,\n",
       "         4.01147276e-057,  1.05147866e-153,  1.14372340e-071,\n",
       "         3.25266768e-086,  4.01458676e-057,  6.01347002e-154,\n",
       "         8.16988608e-043,  2.48104086e-091,  9.95310688e-043,\n",
       "         2.90701682e-033,  9.46795886e-096,  3.37861399e-057,\n",
       "         1.25767117e-076],\n",
       "       [ 1.40108605e-076,  6.01347002e-154,  1.42516141e-071,\n",
       "         1.05191683e-153,  1.14372340e-071,  3.25266768e-086,\n",
       "         4.01458676e-057,  2.21582228e-052,  2.48103618e-091,\n",
       "         4.18204539e-062,  6.01346953e-154,  2.90701682e-033,\n",
       "         8.51514336e-096,  2.21380063e-052,  1.25767117e-076,\n",
       "         3.69628382e-033,  6.01346953e-154,  2.90701715e-033,\n",
       "         9.46795886e-096,  3.37861399e-057,  1.25767117e-076,\n",
       "         3.69628382e-033,  2.62895879e-052,  1.05177513e-153,\n",
       "         1.14372340e-071,  6.01334510e-154,  3.25266753e-086,\n",
       "         4.01458676e-057],\n",
       "       [ 2.21582228e-052,  2.48103618e-091,  4.18204539e-062,\n",
       "         2.90701682e-033,  9.46795886e-096,  3.37861399e-057,\n",
       "         5.98149119e-154,  1.25766321e-076,  3.69628382e-033,\n",
       "         2.62895879e-052,  1.05177513e-153,  4.01583385e-057,\n",
       "         3.25266768e-086,  4.01458676e-057,  9.17546436e-072,\n",
       "         2.44006306e-154,  6.01347002e-154,  3.70003368e-033,\n",
       "         5.59867395e-067,  1.08560099e-095,  5.39747055e-062,\n",
       "         1.25767117e-076,  1.02986759e-071,  2.62895879e-052,\n",
       "         1.14647456e-259,  6.01347002e-154,  1.14372340e-071,\n",
       "         3.25266768e-086],\n",
       "       [ 4.01458676e-057,  2.11141741e-052,  2.48103142e-091,\n",
       "         7.50130117e-067,  2.90701682e-033,  9.92336075e-096,\n",
       "         6.01347002e-154,  3.37861399e-057,  1.25767117e-076,\n",
       "         3.69628382e-033,  9.33993784e-067,  5.47184982e-095,\n",
       "         6.01347002e-154,  3.37861399e-057,  1.25767117e-076,\n",
       "         3.69628382e-033,  2.62895879e-052,  1.05177513e-153,\n",
       "         1.14372340e-071,  3.25266768e-086,  4.01458676e-057,\n",
       "         6.01347002e-154,  2.21582228e-052,  2.48103618e-091,\n",
       "         4.18204539e-062,  2.90701682e-033,  9.46795886e-096,\n",
       "         3.37861399e-057],\n",
       "       [ 1.25767117e-076,  3.69628382e-033,  6.01347002e-154,\n",
       "         2.62895879e-052,  1.05177513e-153,  1.14372340e-071,\n",
       "         3.25266768e-086,  1.14261968e-071,  2.21582228e-052,\n",
       "         6.03106487e-154,  1.24609950e-047,  6.01346953e-154,\n",
       "         1.30371153e-076,  8.04701851e-096,  2.00621120e-052,\n",
       "         6.96320207e-077,  1.79822032e-052,  2.10693435e-052,\n",
       "         1.05162831e-153,  9.34576189e-067,  6.01334510e-154,\n",
       "         3.25266753e-086,  2.42219780e-052,  2.21582228e-052,\n",
       "         2.48103618e-091,  4.18204539e-062,  2.90701682e-033,\n",
       "         9.46795886e-096],\n",
       "       [ 3.37861399e-057,  5.98149119e-154,  1.25766321e-076,\n",
       "         6.52285474e-038,  2.52455392e-052,  1.05162832e-153,\n",
       "         1.14372340e-071,  5.98149210e-154,  1.26761505e-076,\n",
       "         3.69628382e-033,  2.62895879e-052,  1.05177513e-153,\n",
       "         1.14372340e-071,  3.25266768e-086,  4.01458676e-057,\n",
       "         2.21582228e-052,  2.44005881e-154,  2.47379808e-091,\n",
       "         4.18204539e-062,  2.90701682e-033,  9.46795886e-096,\n",
       "         3.37861399e-057,  1.25767117e-076,  3.69628382e-033,\n",
       "         2.62895879e-052,  1.14647456e-259,  6.01347002e-154,\n",
       "         1.14372340e-071],\n",
       "       [ 3.25266768e-086,  4.01458676e-057,  2.21582228e-052,\n",
       "         2.48103618e-091,  4.18204539e-062,  1.57588662e-052,\n",
       "         1.04024656e-095,  6.01347002e-154,  1.65915639e-076,\n",
       "         4.56340425e-072,  1.04032262e-042,  4.46438685e-033,\n",
       "         1.05191568e-153,  3.69723239e-057,  3.24245676e-086,\n",
       "         4.47116084e-033,  6.01347002e-154,  1.24609113e-047,\n",
       "         6.03109318e-154,  6.12578805e-062,  3.66917107e-062,\n",
       "         1.13406225e-095,  4.01397899e-057,  1.25767117e-076,\n",
       "         1.35859023e-153,  6.01347002e-154,  7.11441386e-067,\n",
       "         1.05162889e-153],\n",
       "       [ 3.12377102e-033,  3.25266768e-086,  6.38274365e-067,\n",
       "         6.01347002e-154,  2.62895879e-052,  1.05177513e-153,\n",
       "         1.14372340e-071,  3.25266768e-086,  4.01458676e-057,\n",
       "         2.21582228e-052,  2.48103618e-091,  4.18204539e-062,\n",
       "         6.01346953e-154,  2.90701682e-033,  9.46795886e-096,\n",
       "         3.37861399e-057,  1.25767117e-076,  3.69628382e-033,\n",
       "         2.62895879e-052,  1.05177513e-153,  1.14372340e-071,\n",
       "         6.01334510e-154,  3.25266753e-086,  4.01458676e-057,\n",
       "         2.11141741e-052,  2.48103142e-091,  4.18204539e-062,\n",
       "         5.59871073e-067],\n",
       "       [ 1.08614892e-095,  1.37055320e-071,  5.98149126e-154,\n",
       "         4.56335201e-072,  1.69095110e-052,  5.04887669e-038,\n",
       "         1.05133811e-153,  2.21461154e-052,  3.44353323e-086,\n",
       "         7.26434498e-043,  2.11019391e-052,  2.44005877e-154,\n",
       "         6.01347002e-154,  2.89880260e-057,  5.59867395e-067,\n",
       "         9.46062250e-096,  1.08690169e-071,  6.96320220e-077,\n",
       "         2.52823721e-052,  7.48533448e-067,  1.14695093e-259,\n",
       "         6.01347002e-154,  2.17531032e-076,  3.24245676e-086,\n",
       "         5.15057473e-062,  7.26429695e-043,  1.15298108e-259,\n",
       "         8.94213159e+130],\n",
       "       [ 1.14372340e-071,  3.25266768e-086,  4.01458676e-057,\n",
       "         2.21582228e-052,  2.48103618e-091,  4.18204539e-062,\n",
       "         2.90701682e-033,  9.46795886e-096,  6.01347002e-154,\n",
       "         3.37861399e-057,  1.25767117e-076,  3.69628382e-033,\n",
       "         2.62895879e-052,  1.05177513e-153,  1.14372340e-071,\n",
       "         3.25266768e-086,  6.00460124e-067,  6.01347002e-154,\n",
       "         2.11141741e-052,  2.48103142e-091,  2.17699182e-076,\n",
       "         2.90701682e-033,  9.46795886e-096,  6.12292079e-062,\n",
       "         4.56340413e-072,  6.23013800e-038,  6.01347002e-154,\n",
       "         7.11441952e-067],\n",
       "       [ 1.05133755e-153,  2.21338328e-052,  3.44353323e-086,\n",
       "         2.58143848e-057,  2.00415772e-052,  6.03104771e-154,\n",
       "         1.57178531e-076,  6.01346953e-154,  8.54400391e-072,\n",
       "         9.45337151e-096,  2.00358844e-076,  6.96320164e-077,\n",
       "         1.42560966e-071,  3.50142188e-033,  1.05220702e-153,\n",
       "         9.34576189e-067,  6.01334510e-154,  3.24245662e-086,\n",
       "         3.53729604e-057,  4.01395714e-057,  2.48103610e-091,\n",
       "         4.18204539e-062,  6.01334510e-154,  3.25284856e-086,\n",
       "         4.01458676e-057,  2.21582228e-052,  2.48103618e-091,\n",
       "         4.18204539e-062],\n",
       "       [ 2.90701682e-033,  9.46795886e-096,  3.37861399e-057,\n",
       "         5.98149119e-154,  1.25766321e-076,  3.69628382e-033,\n",
       "         2.62895879e-052,  1.05177513e-153,  1.14372340e-071,\n",
       "         3.25266768e-086,  4.01458676e-057,  2.21582228e-052,\n",
       "         2.44005881e-154,  2.47379808e-091,  4.18204539e-062,\n",
       "         2.90701682e-033,  9.46795886e-096,  3.37861399e-057,\n",
       "         6.96320215e-077,  1.31451914e-047,  1.89812620e-052,\n",
       "         1.14678843e-259,  6.01347002e-154,  2.21461154e-052,\n",
       "         3.44353323e-086,  1.19921336e-071,  3.85464795e-057,\n",
       "         6.03105331e-154],\n",
       "       [ 7.26257967e-043,  5.59939840e-067,  3.79125415e-096,\n",
       "         6.01347002e-154,  1.20009768e-071,  4.56340416e-072,\n",
       "         2.32023674e-052,  2.89631073e-057,  1.05177229e-153,\n",
       "         9.95831382e-043,  3.44353323e-086,  1.19921336e-071,\n",
       "         6.01347002e-154,  1.20009424e-071,  6.03108758e-154,\n",
       "         2.89818512e-057,  2.90701682e-033,  9.63325292e+140,\n",
       "         6.01347002e-154,  2.21582228e-052,  2.48103618e-091,\n",
       "         4.18204539e-062,  2.90701682e-033,  9.46795886e-096,\n",
       "         3.37861399e-057,  1.25767117e-076,  3.69628382e-033,\n",
       "         6.01347002e-154],\n",
       "       [ 2.62895879e-052,  1.05177513e-153,  1.14372340e-071,\n",
       "         3.25266768e-086,  4.01458676e-057,  2.21582228e-052,\n",
       "         2.48103618e-091,  4.18204539e-062,  6.01346953e-154,\n",
       "         2.90701682e-033,  9.46795886e-096,  3.37861399e-057,\n",
       "         1.25767117e-076,  3.69628382e-033,  4.01147263e-057,\n",
       "         1.05221157e-153,  3.21868011e-057,  6.01334510e-154,\n",
       "         3.44353309e-086,  1.42560360e-071,  8.60604025e-043,\n",
       "         6.03095093e-154,  6.75658490e-067,  4.43572649e-038,\n",
       "         3.79763713e-096,  8.60389793e-067,  5.98149128e-154,\n",
       "         4.56335201e-072],\n",
       "       [ 2.62978407e-052,  9.72378280e-072,  1.05206362e-153,\n",
       "         4.76534386e-038,  3.44353323e-086,  1.19921336e-071,\n",
       "         1.69094311e-052,  2.44006022e-154,  6.01347002e-154,\n",
       "         7.41019722e-038,  1.30371153e-076,  1.08578672e-095,\n",
       "         3.37861399e-057,  2.44011711e-154,  3.32903917e-090,\n",
       "         4.18204539e-062,  2.90701682e-033,  9.46795886e-096,\n",
       "         3.37861399e-057,  1.25767117e-076,  3.69628382e-033,\n",
       "         2.62895879e-052,  1.14647456e-259,  6.01347002e-154,\n",
       "         1.14372340e-071,  3.25266768e-086,  4.01458676e-057,\n",
       "         2.21582228e-052],\n",
       "       [ 2.48103618e-091,  4.18204539e-062,  2.90701682e-033,\n",
       "         8.51514336e-096,  6.01347002e-154,  4.08223674e-033,\n",
       "         1.25767118e-076,  3.69628382e-033,  5.87793513e-062,\n",
       "         1.05235725e-153,  6.01329460e-067,  3.44353323e-086,\n",
       "         2.42423380e-052,  6.01347002e-154,  8.15762474e-043,\n",
       "         6.03108749e-154,  1.39872593e-076,  2.90699771e-033,\n",
       "         9.93616238e-096,  5.93282049e-038,  4.56340420e-072,\n",
       "         8.23155684e-067,  6.01347002e-154,  4.75500310e-038,\n",
       "         1.05250177e-153,  1.57280131e-076,  3.44353323e-086,\n",
       "         3.21867037e-057],\n",
       "       [ 8.15762474e-043,  6.03108749e-154,  9.35300086e-067,\n",
       "         6.01346953e-154,  2.90699771e-033,  1.03970150e-095,\n",
       "         1.04137289e-042,  1.25767117e-076,  1.40041135e-076,\n",
       "         6.01346953e-154,  2.90701715e-033,  9.46795886e-096,\n",
       "         3.37861399e-057,  1.25767117e-076,  3.69628382e-033,\n",
       "         2.62895879e-052,  1.05177513e-153,  1.14372340e-071,\n",
       "         6.01334510e-154,  3.25266753e-086,  4.01458676e-057,\n",
       "         2.21582228e-052,  2.48103618e-091,  4.18204539e-062,\n",
       "         2.90701682e-033,  9.46795886e-096,  3.37861399e-057,\n",
       "         5.98149119e-154],\n",
       "       [ 1.25766321e-076,  2.58330056e-057,  2.62895879e-052,\n",
       "         1.05177513e-153,  1.79739191e-052,  3.44353323e-086,\n",
       "         1.65556288e-047,  1.89975285e-052,  2.44006590e-154,\n",
       "         6.01347002e-154,  5.94199511e-038,  8.54400391e-072,\n",
       "         8.06343449e-096,  7.11172728e-038,  6.96320228e-077,\n",
       "         2.89881476e-057,  1.02897627e-071,  1.14694906e-259,\n",
       "         6.01347002e-154,  8.60971627e-067,  3.44353323e-086,\n",
       "         1.43142441e-153,  1.89975285e-052,  6.03109323e-154,\n",
       "         5.94199511e-038,  2.40492330e-057,  1.13369934e-095,\n",
       "         6.01347002e-154],\n",
       "       [ 1.31318169e-047,  6.96320164e-077,  3.12376224e-033,\n",
       "         1.74281531e-076,  5.46966102e-095,  6.01347002e-154,\n",
       "         3.37861399e-057,  1.25767117e-076,  3.69628382e-033,\n",
       "         2.62895879e-052,  1.05177513e-153,  1.14372340e-071,\n",
       "         3.25266768e-086,  4.01458676e-057,  6.01347002e-154,\n",
       "         2.21582228e-052,  2.48103618e-091,  4.18204539e-062,\n",
       "         2.90701682e-033,  9.46795886e-096,  3.37861399e-057,\n",
       "         1.25767117e-076,  8.97336981e-067,  6.01347002e-154,\n",
       "         2.62895879e-052,  1.05177513e-153,  1.14372340e-071,\n",
       "         3.25266768e-086],\n",
       "       [ 8.16996135e-043,  5.39650249e-062,  6.03109321e-154,\n",
       "         1.74484474e-076,  6.01346953e-154,  3.66962174e-062,\n",
       "         1.04043229e-095,  3.22115469e-057,  4.56340413e-072,\n",
       "         1.31285238e-071,  7.11441952e-067,  1.05133755e-153,\n",
       "         4.76534386e-038,  6.01334510e-154,  3.44353309e-086,\n",
       "         1.42560360e-071,  2.00415772e-052,  6.03104771e-154,\n",
       "         5.88269414e-062,  8.54400391e-072,  1.18088186e-095,\n",
       "         5.40031180e-062,  5.98149130e-154,  4.56335201e-072,\n",
       "         1.45190344e-047,  1.68931494e-052,  1.05235326e-153,\n",
       "         1.14372340e-071],\n",
       "       [ 5.98149210e-154,  1.26761505e-076,  3.69628382e-033,\n",
       "         2.62895879e-052,  1.05177513e-153,  4.08447912e-033,\n",
       "         3.25266768e-086,  1.90220462e-052,  1.72558512e-047,\n",
       "         2.44005451e-154,  2.47379808e-091,  1.38294507e-047,\n",
       "         2.90701682e-033,  3.79033983e-096,  3.37861399e-057,\n",
       "         1.25767117e-076,  3.69628382e-033,  2.62895879e-052,\n",
       "         1.14647456e-259,  6.01347002e-154,  1.14372340e-071,\n",
       "         3.25266768e-086,  4.01458676e-057,  8.60532992e-067,\n",
       "         6.03104768e-154,  9.35300086e-067,  8.54400391e-072,\n",
       "         1.18088186e-095],\n",
       "       [ 6.01347002e-154,  5.15343075e-062,  4.56340411e-072,\n",
       "         2.32023674e-052,  3.30883183e-033,  1.05162889e-153,\n",
       "         3.89188017e-033,  3.44353323e-086,  9.95310012e-043,\n",
       "         6.01347002e-154,  1.51844586e-047,  6.03108174e-154,\n",
       "         1.57178531e-076,  5.59939840e-067,  9.45150712e-096,\n",
       "         9.95831372e-043,  4.56340416e-072,  3.11774666e-033,\n",
       "         6.01347002e-154,  3.37423830e-057,  1.04884749e-153,\n",
       "         1.13088699e-042,  3.25266768e-086,  4.01458676e-057,\n",
       "        -9.55413818e-001, -9.55413940e-001, -9.55413940e-001,\n",
       "        -9.55413940e-001]])"
      ]
     },
     "execution_count": 126,
     "metadata": {},
     "output_type": "execute_result"
    }
   ],
   "source": [
    "pad_array"
   ]
  },
  {
   "cell_type": "code",
   "execution_count": 127,
   "metadata": {},
   "outputs": [],
   "source": [
    "nrows = z.shape[0]"
   ]
  },
  {
   "cell_type": "code",
   "execution_count": 128,
   "metadata": {},
   "outputs": [],
   "source": [
    "ncols = z.shape[1]"
   ]
  },
  {
   "cell_type": "code",
   "execution_count": 129,
   "metadata": {},
   "outputs": [],
   "source": [
    "pad_size = 1"
   ]
  },
  {
   "cell_type": "code",
   "execution_count": 130,
   "metadata": {},
   "outputs": [],
   "source": [
    "pad_array = z.copy()\n",
    "\n",
    "for i in range(pad_size):\n",
    "    np.append(np.zeros(nrows), pad_array)"
   ]
  },
  {
   "cell_type": "code",
   "execution_count": 131,
   "metadata": {},
   "outputs": [
    {
     "data": {
      "text/plain": [
       "(28, 28)"
      ]
     },
     "execution_count": 131,
     "metadata": {},
     "output_type": "execute_result"
    }
   ],
   "source": [
    "pad_array.shape"
   ]
  },
  {
   "cell_type": "code",
   "execution_count": 133,
   "metadata": {},
   "outputs": [
    {
     "data": {
      "text/plain": [
       "(28, 28)"
      ]
     },
     "execution_count": 133,
     "metadata": {},
     "output_type": "execute_result"
    }
   ],
   "source": [
    "pad_array.shape"
   ]
  },
  {
   "cell_type": "code",
   "execution_count": 134,
   "metadata": {},
   "outputs": [],
   "source": [
    "arr = np.array([])\n",
    "arr = np.hstack((arr, np.array([1,2,3])))"
   ]
  },
  {
   "cell_type": "code",
   "execution_count": 135,
   "metadata": {},
   "outputs": [],
   "source": [
    "A = np.c_[np.zeros(nrows), pad_array]"
   ]
  },
  {
   "cell_type": "code",
   "execution_count": 136,
   "metadata": {},
   "outputs": [
    {
     "data": {
      "text/plain": [
       "(28, 29)"
      ]
     },
     "execution_count": 136,
     "metadata": {},
     "output_type": "execute_result"
    }
   ],
   "source": [
    "A.shape"
   ]
  },
  {
   "cell_type": "code",
   "execution_count": 137,
   "metadata": {},
   "outputs": [
    {
     "data": {
      "text/plain": [
       "array([ 0.        , -0.95541394, -0.95541394, -0.95541394, -0.95541394,\n",
       "       -0.95541394, -0.95541394, -0.95541394, -0.95541394, -0.95541394,\n",
       "       -0.95541394, -0.95541394, -0.95541394, -0.95541394, -0.95541394,\n",
       "       -0.95541394, -0.95541394, -0.95541394, -0.95541394, -0.95541394,\n",
       "       -0.95541394, -0.95541394, -0.95541394, -0.95541394, -0.95541394,\n",
       "       -0.95541394, -0.95541394, -0.95541394, -0.95541394])"
      ]
     },
     "execution_count": 137,
     "metadata": {},
     "output_type": "execute_result"
    }
   ],
   "source": [
    "A[0]"
   ]
  },
  {
   "cell_type": "code",
   "execution_count": 138,
   "metadata": {},
   "outputs": [
    {
     "data": {
      "text/plain": [
       "array([0., 0., 0., 0., 0., 0., 0., 0., 0., 0., 0., 0., 0., 0., 0., 0., 0.,\n",
       "       0., 0., 0., 0., 0., 0., 0., 0., 0., 0., 0.])"
      ]
     },
     "execution_count": 138,
     "metadata": {},
     "output_type": "execute_result"
    }
   ],
   "source": [
    "A[:,0]"
   ]
  },
  {
   "cell_type": "code",
   "execution_count": 139,
   "metadata": {},
   "outputs": [
    {
     "data": {
      "text/plain": [
       "array([[ 0.        , -0.95541394, -0.95541394, -0.95541394, -0.95541394,\n",
       "        -0.95541394, -0.95541394, -0.95541394, -0.95541394, -0.95541394,\n",
       "        -0.95541394, -0.95541394, -0.95541394, -0.95541394, -0.95541394,\n",
       "        -0.95541394, -0.95541394, -0.95541394, -0.95541394, -0.95541394,\n",
       "        -0.95541394, -0.95541394, -0.95541394, -0.95541394, -0.95541394,\n",
       "        -0.95541394, -0.95541394, -0.95541394, -0.95541394],\n",
       "       [ 0.        , -0.95541394, -0.95541394, -0.95541394, -0.95541394,\n",
       "        -0.95541394, -0.95541394, -0.95541394, -0.95541394, -0.95541394,\n",
       "        -0.95541394, -0.95541394, -0.95541394, -0.95541394, -0.95541394,\n",
       "        -0.95541394, -0.95541394, -0.95541394, -0.95541394, -0.95541394,\n",
       "        -0.95541394, -0.95541394, -0.95541394, -0.95541394, -0.95541394,\n",
       "        -0.95541394, -0.95541394, -0.95541394, -0.95541394],\n",
       "       [ 0.        , -0.95541394, -0.95541394, -0.95541394, -0.95541394,\n",
       "        -0.95541394, -0.95541394, -0.95541394, -0.95541394, -0.95541394,\n",
       "        -0.95541394, -0.95541394, -0.95541394, -0.95541394, -0.95541394,\n",
       "        -0.95541394, -0.95541394, -0.95541394, -0.95541394, -0.95541394,\n",
       "        -0.95541394, -0.95541394, -0.95541394, -0.95541394, -0.95541394,\n",
       "        -0.95541394, -0.95541394, -0.95541394, -0.95541394],\n",
       "       [ 0.        , -0.95541394, -0.95541394, -0.95541394, -0.95541394,\n",
       "        -0.95541394, -0.95541394, -0.95541394, -0.95541394, -0.95541394,\n",
       "        -0.95541394, -0.95541394, -0.95541394, -0.94559002, -0.95541394,\n",
       "        -0.95541394, -0.82770296, -0.23826768, -0.95541394, -0.95541394,\n",
       "        -0.94559002, -0.91611825, -0.95541394, -0.95541394, -0.95541394,\n",
       "        -0.95541394, -0.94559002, -0.94559002, -0.95541394],\n",
       "       [ 0.        , -0.95541394, -0.95541394, -0.95541394, -0.95541394,\n",
       "        -0.95541394, -0.95541394, -0.95541394, -0.95541394, -0.95541394,\n",
       "        -0.95541394, -0.95541394, -0.95541394, -0.92594218, -0.95541394,\n",
       "        -0.60175277,  0.38063936,  0.29222407, -0.34633082, -0.42492219,\n",
       "        -0.95541394, -0.95541394, -0.95541394, -0.94559002, -0.92594218,\n",
       "        -0.91611825, -0.95541394, -0.95541394, -0.92594218],\n",
       "       [ 0.        , -0.95541394, -0.95541394, -0.95541394, -0.95541394,\n",
       "        -0.95541394, -0.95541394, -0.95541394, -0.95541394, -0.95541394,\n",
       "        -0.95541394, -0.95541394, -0.95541394, -0.89647041, -0.95541394,\n",
       "         0.04662603,  1.04866601,  0.77359621,  0.36099152,  0.45923073,\n",
       "         0.25292838, -0.72946375, -0.95541394, -0.95541394, -0.95541394,\n",
       "        -0.95541394, -0.83752688, -0.85717473, -0.95541394],\n",
       "       [ 0.        , -0.95541394, -0.95541394, -0.95541394, -0.95541394,\n",
       "        -0.95541394, -0.95541394, -0.95541394, -0.95541394, -0.95541394,\n",
       "        -0.95541394, -0.95541394, -0.95541394, -0.95541394, -0.95541394,\n",
       "         0.56729386,  1.36303149,  1.07813777,  0.79324405,  0.09574564,\n",
       "         0.57711779,  0.62623739,  0.11539348, -0.32668298, -0.72946375,\n",
       "        -0.198972  ,  0.32169583, -0.2480916 , -0.80805512],\n",
       "       [ 0.        , -0.95541394, -0.95541394, -0.95541394, -0.95541394,\n",
       "        -0.95541394, -0.95541394, -0.95541394, -0.95541394, -0.95541394,\n",
       "        -0.95541394, -0.95541394, -0.94559002, -0.95541394, -0.27756337,\n",
       "         1.07813777,  1.23532051,  1.18620091,  1.16655307,  1.16655307,\n",
       "         0.64588524,  0.29222407,  0.23328054,  0.24310446,  0.47887857,\n",
       "         0.42975897, -0.09090886,  0.73430053, -0.30703513],\n",
       "       [ 0.        , -0.95541394, -0.95541394, -0.95541394, -0.95541394,\n",
       "        -0.95541394, -0.95541394, -0.95541394, -0.95541394, -0.95541394,\n",
       "        -0.94559002, -0.94559002, -0.94559002, -0.95541394,  1.00937032,\n",
       "         1.32373581,  1.32373581,  1.33355973,  1.29426404,  1.23532051,\n",
       "         1.23532051,  1.15672914,  1.1370813 ,  0.65570916,  0.29222407,\n",
       "         0.25292838,  0.97007464,  1.29426404, -0.95541394],\n",
       "       [ 0.        , -0.95541394, -0.95541394, -0.95541394, -0.95541394,\n",
       "        -0.95541394, -0.95541394, -0.95541394, -0.95541394, -0.95541394,\n",
       "        -0.95541394, -0.95541394, -0.95541394, -0.95541394,  0.84236366,\n",
       "         1.25496836,  1.16655307,  1.23532051,  1.28444012,  1.35320757,\n",
       "         1.2746162 ,  1.24514444,  1.22549659,  1.24514444,  1.21567267,\n",
       "         1.23532051,  1.45144678,  0.74412445, -0.95541394],\n",
       "       [ 0.        , -0.95541394, -0.95541394, -0.95541394, -0.95541394,\n",
       "        -0.95541394, -0.95541394, -0.95541394, -0.95541394, -0.95541394,\n",
       "        -0.95541394, -0.95541394, -0.95541394, -0.95541394,  0.94060287,\n",
       "         1.28444012,  1.18620091,  1.1370813 ,  0.98972248,  0.8128919 ,\n",
       "         1.12725738,  1.10760954,  1.11743346,  1.1370813 ,  1.23532051,\n",
       "         1.20584875,  1.43179894,  1.02901817, -0.95541394],\n",
       "       [ 0.        , -0.95541394, -0.95541394, -0.95541394, -0.95541394,\n",
       "        -0.95541394, -0.95541394, -0.95541394, -0.95541394, -0.95541394,\n",
       "        -0.94559002, -0.92594218, -0.95541394, -0.83752688,  1.19602483,\n",
       "         1.20584875,  1.12725738,  1.18620091,  0.93077895,  0.70482876,\n",
       "         1.2746162 ,  1.08796169,  1.18620091,  1.24514444,  1.12725738,\n",
       "         1.26479228,  0.97989856,  1.09778562, -0.44457003],\n",
       "       [ 0.        , -0.95541394, -0.95541394, -0.95541394, -0.95541394,\n",
       "        -0.95541394, -0.95541394, -0.95541394, -0.95541394, -0.95541394,\n",
       "        -0.95541394, -0.89647041, -0.95541394,  0.01715427,  1.44162286,\n",
       "         1.22549659,  1.20584875,  1.18620091,  1.03884209,  0.98972248,\n",
       "         1.21567267,  1.15672914,  1.1370813 ,  1.22549659,  1.20584875,\n",
       "         1.45144678,  0.2136327 ,  0.68518092, -0.40527435],\n",
       "       [ 0.        , -0.95541394, -0.95541394, -0.95541394, -0.95541394,\n",
       "        -0.95541394, -0.95541394, -0.95541394, -0.95541394, -0.95541394,\n",
       "        -0.91611825, -0.95541394, -0.95541394, -0.41509827,  1.36303149,\n",
       "         1.28444012,  1.30408796,  1.28444012,  1.40232718,  1.32373581,\n",
       "         1.1370813 ,  1.18620091,  1.23532051,  1.34338365,  1.17637699,\n",
       "         1.17637699,  1.09778562, -0.05161318, -0.95541394],\n",
       "       [ 0.        , -0.95541394, -0.95541394, -0.94559002, -0.91611825,\n",
       "        -0.89647041, -0.88664649, -0.9357661 , -0.95541394, -0.95541394,\n",
       "        -0.95541394, -0.95541394, -0.95541394,  1.37285541,  1.26479228,\n",
       "         1.17637699,  1.23532051,  1.22549659,  1.19602483,  1.22549659,\n",
       "         1.21567267,  1.16655307,  1.23532051,  1.29426404,  1.15672914,\n",
       "         1.18620091,  1.549686  , -0.198972  , -0.95541394],\n",
       "       [ 0.        , -0.95541394, -0.92594218, -0.95541394, -0.95541394,\n",
       "        -0.95541394, -0.95541394, -0.95541394, -0.95541394, -0.95541394,\n",
       "        -0.34633082,  0.46905465,  1.04866601,  1.28444012,  1.07813777,\n",
       "         1.1370813 ,  1.21567267,  1.18620091,  1.08796169,  1.11743346,\n",
       "         1.18620091,  1.24514444,  1.23532051,  1.19602483,  1.15672914,\n",
       "         1.24514444,  1.44162286,  0.60658955, -0.95541394],\n",
       "       [ 0.        , -0.95541394, -0.95541394, -0.95541394, -0.95541394,\n",
       "        -0.77858336, -0.5231614 , -0.14985239,  0.09574564,  0.90130719,\n",
       "         1.28444012,  1.20584875,  1.22549659,  1.17637699,  1.26479228,\n",
       "         1.00937032,  1.05848993,  1.11743346,  1.30408796,  1.24514444,\n",
       "         1.34338365,  0.77359621,  0.89148327,  1.50056639,  1.48091855,\n",
       "         1.33355973,  1.38267933,  1.15672914, -0.95541394],\n",
       "       [ 0.        , -0.95541394, -0.39545042,  0.88165935,  1.08796169,\n",
       "         1.24514444,  1.21567267,  1.24514444,  1.08796169,  1.04866601,\n",
       "         1.14690522,  1.08796169,  1.09778562,  1.00937032,  0.60658955,\n",
       "         1.45144678,  0.94060287,  1.06831385,  1.23532051,  1.549686  ,\n",
       "         1.549686  ,  1.21567267,  1.34338365,  1.21567267,  1.11743346,\n",
       "         1.20584875,  1.32373581,  1.4612707 , -0.95541394],\n",
       "       [ 0.        , -0.92594218,  1.02901817,  1.28444012,  1.24514444,\n",
       "         1.21567267,  1.11743346,  1.11743346,  1.14690522,  1.05848993,\n",
       "         1.05848993,  1.05848993,  1.20584875,  1.40232718, -0.16950023,\n",
       "         0.51817426,  1.549686  ,  1.29426404,  1.21567267,  0.89148327,\n",
       "         0.55746994,  0.92095503,  1.10760954,  1.04866601,  1.09778562,\n",
       "         1.22549659,  1.28444012,  1.25496836, -0.95541394],\n",
       "       [ 0.        ,  0.00733035,  1.33355973,  0.98972248,  1.10760954,\n",
       "         1.22549659,  1.29426404,  1.29426404,  1.34338365,  1.49074247,\n",
       "         1.20584875,  0.9504268 ,  1.15672914,  1.17637699,  1.4121511 ,\n",
       "        -0.31685905, -0.23826768,  0.08592172,  0.19398485,  0.69500484,\n",
       "         1.19602483,  1.21567267,  1.15672914,  1.17637699,  1.23532051,\n",
       "         1.23532051,  1.24514444,  1.29426404, -0.67052022],\n",
       "       [ 0.        , -0.21861984,  1.04866601,  1.12725738,  1.04866601,\n",
       "         0.94060287,  1.05848993,  1.11743346,  1.25496836,  1.16655307,\n",
       "         0.8620115 ,  0.97989856,  1.06831385,  0.98972248,  1.1370813 ,\n",
       "         1.40232718,  0.96025072,  1.2746162 ,  1.45144678,  1.39250326,\n",
       "         1.23532051,  1.18620091,  1.12725738,  1.09778562,  1.22549659,\n",
       "         1.20584875,  1.21567267,  1.30408796, -0.29721121],\n",
       "       [ 0.        , -0.48386572,  1.03884209,  0.84236366,  0.9504268 ,\n",
       "         1.1370813 ,  0.97989856,  0.8620115 ,  0.91113111,  0.9504268 ,\n",
       "         0.93077895,  1.02901817,  1.14690522,  1.19602483,  1.21567267,\n",
       "         1.20584875,  1.36303149,  1.25496836,  1.16655307,  0.9995464 ,\n",
       "         1.06831385,  0.87183543,  0.82271582,  0.78342013,  0.73430053,\n",
       "         0.82271582,  1.05848993,  1.06831385,  0.17433701],\n",
       "       [ 0.        , -0.95541394,  0.24310446,  1.19602483,  0.94060287,\n",
       "         0.80306798,  0.72447661,  0.84236366,  0.97007464,  1.04866601,\n",
       "         1.10760954,  1.1370813 ,  1.07813777,  1.11743346,  1.10760954,\n",
       "         1.00937032,  0.97007464,  0.9504268 ,  0.92095503,  0.96025072,\n",
       "         0.92095503,  0.98972248,  0.93077895,  0.77359621,  0.57711779,\n",
       "         0.68518092,  0.78342013,  1.10760954, -0.05161318],\n",
       "       [ 0.        , -0.95541394, -0.95541394, -0.22844376,  0.90130719,\n",
       "         1.12725738,  0.92095503,  0.76377229,  0.73430053,  0.76377229,\n",
       "         0.82271582,  0.8620115 ,  0.89148327,  0.90130719,  0.89148327,\n",
       "         0.94060287,  0.98972248,  1.04866601,  1.09778562,  1.10760954,\n",
       "         1.10760954,  1.11743346,  0.89148327,  0.89148327,  0.9504268 ,\n",
       "         0.93077895,  1.16655307,  0.71465268, -0.95541394],\n",
       "       [ 0.        , -0.9357661 , -0.95541394, -0.95541394, -0.95541394,\n",
       "        -0.30703513,  1.00937032,  1.22549659,  1.37285541,  1.39250326,\n",
       "         1.42197502,  1.4612707 ,  1.43179894,  1.44162286,  1.21567267,\n",
       "         1.20584875,  0.94060287,  0.92095503,  0.80306798,  0.83253974,\n",
       "         0.83253974,  0.82271582,  0.77359621,  0.675357  ,  0.69500484,\n",
       "         0.01715427, -0.3856265 , -0.95541394, -0.95541394],\n",
       "       [ 0.        , -0.95541394, -0.95541394, -0.95541394, -0.95541394,\n",
       "        -0.95541394, -0.95541394, -0.95541394, -0.56245709, -0.35615474,\n",
       "        -0.5231614 , -0.2480916 , -0.55263317, -0.61157669, -0.95541394,\n",
       "        -0.95541394, -0.95541394, -0.95541394, -0.95541394, -0.95541394,\n",
       "        -0.95541394, -0.95541394, -0.95541394, -0.95541394, -0.95541394,\n",
       "        -0.95541394, -0.95541394, -0.95541394, -0.95541394],\n",
       "       [ 0.        , -0.95541394, -0.95541394, -0.95541394, -0.95541394,\n",
       "        -0.95541394, -0.95541394, -0.95541394, -0.95541394, -0.95541394,\n",
       "        -0.95541394, -0.95541394, -0.95541394, -0.95541394, -0.95541394,\n",
       "        -0.95541394, -0.95541394, -0.95541394, -0.95541394, -0.95541394,\n",
       "        -0.95541394, -0.95541394, -0.95541394, -0.95541394, -0.95541394,\n",
       "        -0.95541394, -0.95541394, -0.95541394, -0.95541394],\n",
       "       [ 0.        , -0.95541394, -0.95541394, -0.95541394, -0.95541394,\n",
       "        -0.95541394, -0.95541394, -0.95541394, -0.95541394, -0.95541394,\n",
       "        -0.95541394, -0.95541394, -0.95541394, -0.95541394, -0.95541394,\n",
       "        -0.95541394, -0.95541394, -0.95541394, -0.95541394, -0.95541394,\n",
       "        -0.95541394, -0.95541394, -0.95541394, -0.95541394, -0.95541394,\n",
       "        -0.95541394, -0.95541394, -0.95541394, -0.95541394]])"
      ]
     },
     "execution_count": 139,
     "metadata": {},
     "output_type": "execute_result"
    }
   ],
   "source": [
    "A"
   ]
  },
  {
   "cell_type": "code",
   "execution_count": 140,
   "metadata": {},
   "outputs": [],
   "source": [
    "A = np.random.randn(3,3)"
   ]
  },
  {
   "cell_type": "code",
   "execution_count": 141,
   "metadata": {},
   "outputs": [
    {
     "data": {
      "text/plain": [
       "array([[ 0.0475375 ,  0.95578802,  0.87072381],\n",
       "       [ 1.48620196, -0.36978198, -1.44170594],\n",
       "       [ 0.54893324, -0.03475638, -0.02167835]])"
      ]
     },
     "execution_count": 141,
     "metadata": {},
     "output_type": "execute_result"
    }
   ],
   "source": [
    "A"
   ]
  },
  {
   "cell_type": "code",
   "execution_count": 143,
   "metadata": {},
   "outputs": [
    {
     "ename": "TypeError",
     "evalue": "'tuple' object cannot be interpreted as an integer",
     "output_type": "error",
     "traceback": [
      "\u001b[1;31m---------------------------------------------------------------------------\u001b[0m",
      "\u001b[1;31mTypeError\u001b[0m                                 Traceback (most recent call last)",
      "\u001b[1;32m<ipython-input-143-89662948991a>\u001b[0m in \u001b[0;36m<module>\u001b[1;34m()\u001b[0m\n\u001b[0;32m      3\u001b[0m \u001b[0mpad_array\u001b[0m \u001b[1;33m=\u001b[0m \u001b[0mA\u001b[0m\u001b[1;33m.\u001b[0m\u001b[0mcopy\u001b[0m\u001b[1;33m(\u001b[0m\u001b[1;33m)\u001b[0m\u001b[1;33m\u001b[0m\u001b[0m\n\u001b[0;32m      4\u001b[0m \u001b[0mnrows\u001b[0m \u001b[1;33m=\u001b[0m \u001b[0mA\u001b[0m\u001b[1;33m.\u001b[0m\u001b[0mshape\u001b[0m\u001b[1;33m\u001b[0m\u001b[0m\n\u001b[1;32m----> 5\u001b[1;33m \u001b[0mzero_col\u001b[0m \u001b[1;33m=\u001b[0m \u001b[0mnp\u001b[0m\u001b[1;33m.\u001b[0m\u001b[0mzeros\u001b[0m\u001b[1;33m(\u001b[0m\u001b[1;33m(\u001b[0m\u001b[0mnrows\u001b[0m\u001b[1;33m,\u001b[0m \u001b[1;36m1\u001b[0m\u001b[1;33m)\u001b[0m\u001b[1;33m)\u001b[0m\u001b[1;33m\u001b[0m\u001b[0m\n\u001b[0m\u001b[0;32m      6\u001b[0m \u001b[1;33m\u001b[0m\u001b[0m\n\u001b[0;32m      7\u001b[0m \u001b[1;32mfor\u001b[0m \u001b[0mi\u001b[0m \u001b[1;32min\u001b[0m \u001b[0mrange\u001b[0m\u001b[1;33m(\u001b[0m\u001b[0mpad_size\u001b[0m\u001b[1;33m)\u001b[0m\u001b[1;33m:\u001b[0m\u001b[1;33m\u001b[0m\u001b[0m\n",
      "\u001b[1;31mTypeError\u001b[0m: 'tuple' object cannot be interpreted as an integer"
     ]
    }
   ],
   "source": [
    "pad_size = 1\n",
    "pad_array = np.empty(A.shape)\n",
    "pad_array = A.copy()\n",
    "nrows = A.shape\n",
    "zero_col = np.zeros((nrows, 1))\n",
    "\n",
    "for i in range(pad_size):\n",
    "    pad_array = np.c_[zero_col, pad_array, zero_col]\n",
    "    \n",
    "ncols = pad_array.shape[1]\n",
    "\n",
    "zero_row = np.zeros((1, ncols))\n",
    "\n",
    "for i in range(pad_size):\n",
    "    pad_array = np.r_[zero_row, pad_array, zero_row]"
   ]
  },
  {
   "cell_type": "code",
   "execution_count": 144,
   "metadata": {},
   "outputs": [],
   "source": [
    "pad_size = 1\n",
    "pad_array = np.empty(A.shape)\n",
    "pad_array = A.copy()\n",
    "zero_col_shape = ()\n",
    "for i in range(len(A.shape) - 1):\n",
    "    zero_col_shape = zero_col_shape + (A.shape[i], )\n",
    "zero_col_shape = zero_col_shape + (1,)\n",
    "nrows = A.shape[0]\n",
    "zero_col = np.zeros(zero_col_shape)"
   ]
  },
  {
   "cell_type": "code",
   "execution_count": 145,
   "metadata": {},
   "outputs": [],
   "source": [
    "zero_col_shape = zero_col_shape + (1,)"
   ]
  },
  {
   "cell_type": "code",
   "execution_count": 146,
   "metadata": {},
   "outputs": [],
   "source": [
    "zero_col = np.zeros(zero_col_shape)"
   ]
  },
  {
   "cell_type": "code",
   "execution_count": 147,
   "metadata": {},
   "outputs": [
    {
     "data": {
      "text/plain": [
       "array([[[0.]],\n",
       "\n",
       "       [[0.]],\n",
       "\n",
       "       [[0.]]])"
      ]
     },
     "execution_count": 147,
     "metadata": {},
     "output_type": "execute_result"
    }
   ],
   "source": [
    "zero_col"
   ]
  },
  {
   "cell_type": "code",
   "execution_count": 148,
   "metadata": {},
   "outputs": [
    {
     "ename": "ValueError",
     "evalue": "all the input arrays must have same number of dimensions",
     "output_type": "error",
     "traceback": [
      "\u001b[1;31m---------------------------------------------------------------------------\u001b[0m",
      "\u001b[1;31mValueError\u001b[0m                                Traceback (most recent call last)",
      "\u001b[1;32m<ipython-input-148-f1635c979638>\u001b[0m in \u001b[0;36m<module>\u001b[1;34m()\u001b[0m\n\u001b[1;32m----> 1\u001b[1;33m \u001b[0mpad_array\u001b[0m \u001b[1;33m=\u001b[0m \u001b[0mnp\u001b[0m\u001b[1;33m.\u001b[0m\u001b[0mc_\u001b[0m\u001b[1;33m[\u001b[0m\u001b[0mzero_col\u001b[0m\u001b[1;33m,\u001b[0m \u001b[0mpad_array\u001b[0m\u001b[1;33m,\u001b[0m \u001b[0mzero_col\u001b[0m\u001b[1;33m]\u001b[0m\u001b[1;33m\u001b[0m\u001b[0m\n\u001b[0m",
      "\u001b[1;32mc:\\python36\\lib\\site-packages\\numpy\\lib\\index_tricks.py\u001b[0m in \u001b[0;36m__getitem__\u001b[1;34m(self, key)\u001b[0m\n\u001b[0;32m    333\u001b[0m                 \u001b[0mobjs\u001b[0m\u001b[1;33m[\u001b[0m\u001b[0mk\u001b[0m\u001b[1;33m]\u001b[0m \u001b[1;33m=\u001b[0m \u001b[0mobjs\u001b[0m\u001b[1;33m[\u001b[0m\u001b[0mk\u001b[0m\u001b[1;33m]\u001b[0m\u001b[1;33m.\u001b[0m\u001b[0mastype\u001b[0m\u001b[1;33m(\u001b[0m\u001b[0mfinal_dtype\u001b[0m\u001b[1;33m)\u001b[0m\u001b[1;33m\u001b[0m\u001b[0m\n\u001b[0;32m    334\u001b[0m \u001b[1;33m\u001b[0m\u001b[0m\n\u001b[1;32m--> 335\u001b[1;33m         \u001b[0mres\u001b[0m \u001b[1;33m=\u001b[0m \u001b[0mself\u001b[0m\u001b[1;33m.\u001b[0m\u001b[0mconcatenate\u001b[0m\u001b[1;33m(\u001b[0m\u001b[0mtuple\u001b[0m\u001b[1;33m(\u001b[0m\u001b[0mobjs\u001b[0m\u001b[1;33m)\u001b[0m\u001b[1;33m,\u001b[0m \u001b[0maxis\u001b[0m\u001b[1;33m=\u001b[0m\u001b[0maxis\u001b[0m\u001b[1;33m)\u001b[0m\u001b[1;33m\u001b[0m\u001b[0m\n\u001b[0m\u001b[0;32m    336\u001b[0m \u001b[1;33m\u001b[0m\u001b[0m\n\u001b[0;32m    337\u001b[0m         \u001b[1;32mif\u001b[0m \u001b[0mmatrix\u001b[0m\u001b[1;33m:\u001b[0m\u001b[1;33m\u001b[0m\u001b[0m\n",
      "\u001b[1;31mValueError\u001b[0m: all the input arrays must have same number of dimensions"
     ]
    }
   ],
   "source": [
    "pad_array = np.c_[zero_col, pad_array, zero_col]"
   ]
  },
  {
   "cell_type": "code",
   "execution_count": 149,
   "metadata": {},
   "outputs": [
    {
     "data": {
      "text/plain": [
       "array([[ 0.0475375 ,  0.95578802,  0.87072381],\n",
       "       [ 1.48620196, -0.36978198, -1.44170594],\n",
       "       [ 0.54893324, -0.03475638, -0.02167835]])"
      ]
     },
     "execution_count": 149,
     "metadata": {},
     "output_type": "execute_result"
    }
   ],
   "source": [
    "pad_array"
   ]
  },
  {
   "cell_type": "code",
   "execution_count": 150,
   "metadata": {},
   "outputs": [
    {
     "data": {
      "text/plain": [
       "2.718281828459045"
      ]
     },
     "execution_count": 150,
     "metadata": {},
     "output_type": "execute_result"
    }
   ],
   "source": [
    "np.exp(1)"
   ]
  },
  {
   "cell_type": "code",
   "execution_count": 151,
   "metadata": {},
   "outputs": [],
   "source": [
    "def sigmoid(x):\n",
    "    return 1 / (1 + np.exp(-x))"
   ]
  },
  {
   "cell_type": "code",
   "execution_count": 152,
   "metadata": {},
   "outputs": [
    {
     "data": {
      "text/plain": [
       "0.5"
      ]
     },
     "execution_count": 152,
     "metadata": {},
     "output_type": "execute_result"
    }
   ],
   "source": [
    "sigmoid(0)"
   ]
  },
  {
   "cell_type": "code",
   "execution_count": 153,
   "metadata": {},
   "outputs": [
    {
     "data": {
      "text/plain": [
       "4.5397868702434395e-05"
      ]
     },
     "execution_count": 153,
     "metadata": {},
     "output_type": "execute_result"
    }
   ],
   "source": [
    "sigmoid(-10)"
   ]
  },
  {
   "cell_type": "code",
   "execution_count": 154,
   "metadata": {},
   "outputs": [
    {
     "data": {
      "text/plain": [
       "0.9999546021312976"
      ]
     },
     "execution_count": 154,
     "metadata": {},
     "output_type": "execute_result"
    }
   ],
   "source": [
    "sigmoid(10)"
   ]
  },
  {
   "cell_type": "code",
   "execution_count": 288,
   "metadata": {},
   "outputs": [],
   "source": [
    "def ReLU(X):\n",
    "    zeros = np.zeros(X.shape)\n",
    "    return np.maximum(zeros, X)"
   ]
  },
  {
   "cell_type": "code",
   "execution_count": 156,
   "metadata": {},
   "outputs": [
    {
     "data": {
      "text/plain": [
       "10"
      ]
     },
     "execution_count": 156,
     "metadata": {},
     "output_type": "execute_result"
    }
   ],
   "source": [
    "ReLU(10)"
   ]
  },
  {
   "cell_type": "code",
   "execution_count": 157,
   "metadata": {},
   "outputs": [],
   "source": [
    "zeros = np.zeros(A.shape)"
   ]
  },
  {
   "cell_type": "code",
   "execution_count": 158,
   "metadata": {},
   "outputs": [],
   "source": [
    "B = np.maximum(zeros, A)"
   ]
  },
  {
   "cell_type": "code",
   "execution_count": 159,
   "metadata": {},
   "outputs": [
    {
     "data": {
      "text/plain": [
       "array([[0.21803097, 0.97764412, 0.93312583],\n",
       "       [1.21909883, 0.        , 0.        ],\n",
       "       [0.74090029, 0.        , 0.        ]])"
      ]
     },
     "execution_count": 159,
     "metadata": {},
     "output_type": "execute_result"
    }
   ],
   "source": [
    "np.sqrt(B)"
   ]
  },
  {
   "cell_type": "code",
   "execution_count": 160,
   "metadata": {},
   "outputs": [],
   "source": [
    "theta = np.random.randn(2, 5,1)"
   ]
  },
  {
   "cell_type": "code",
   "execution_count": 161,
   "metadata": {},
   "outputs": [
    {
     "data": {
      "text/plain": [
       "array([[[ 0.29852261],\n",
       "        [-2.03454445],\n",
       "        [ 0.01748552],\n",
       "        [ 0.30647061],\n",
       "        [-0.80437408]],\n",
       "\n",
       "       [[-1.67390837],\n",
       "        [-0.59113141],\n",
       "        [ 0.08657775],\n",
       "        [ 1.17935308],\n",
       "        [-1.04611447]]])"
      ]
     },
     "execution_count": 161,
     "metadata": {},
     "output_type": "execute_result"
    }
   ],
   "source": [
    "theta"
   ]
  },
  {
   "cell_type": "code",
   "execution_count": 162,
   "metadata": {},
   "outputs": [],
   "source": [
    "beta1 = 0.9\n",
    "beta2 = 0.999\n",
    "learn_rate = 0.01\n",
    "moment1 = np.zeros(theta.shape)\n",
    "moment2 = np.zeros(theta.shape)\n",
    "t = 0\n",
    "grad = np.random.randn(*theta.shape)\n",
    "epsilon = 1e-8"
   ]
  },
  {
   "cell_type": "code",
   "execution_count": 163,
   "metadata": {},
   "outputs": [],
   "source": [
    "t = 1"
   ]
  },
  {
   "cell_type": "code",
   "execution_count": 164,
   "metadata": {},
   "outputs": [],
   "source": [
    "moment1 = beta1 * moment1 + (1 - beta1) * grad\n",
    "moment2 = beta2 * moment2 + (1 - beta2) * grad * grad\n",
    "moment1hat = moment1 / (1 - beta1 ** t)\n",
    "moment2hat = moment2 / (1 - beta2 ** t)\n",
    "theta = theta - learn_rate * moment1hat / (np.sqrt(moment2hat + epsilon))"
   ]
  },
  {
   "cell_type": "code",
   "execution_count": 165,
   "metadata": {},
   "outputs": [
    {
     "data": {
      "text/plain": [
       "array([[[ 0.30852261],\n",
       "        [-2.02454445],\n",
       "        [ 0.02748552],\n",
       "        [ 0.29647061],\n",
       "        [-0.79437408]],\n",
       "\n",
       "       [[-1.68390837],\n",
       "        [-0.60113141],\n",
       "        [ 0.09657775],\n",
       "        [ 1.18935308],\n",
       "        [-1.05611447]]])"
      ]
     },
     "execution_count": 165,
     "metadata": {},
     "output_type": "execute_result"
    }
   ],
   "source": [
    "theta"
   ]
  },
  {
   "cell_type": "code",
   "execution_count": 166,
   "metadata": {},
   "outputs": [
    {
     "data": {
      "text/plain": [
       "array([[ 0.0475375 ,  0.95578802,  0.87072381],\n",
       "       [ 1.48620196, -0.36978198, -1.44170594],\n",
       "       [ 0.54893324, -0.03475638, -0.02167835]])"
      ]
     },
     "execution_count": 166,
     "metadata": {},
     "output_type": "execute_result"
    }
   ],
   "source": [
    "A"
   ]
  },
  {
   "cell_type": "code",
   "execution_count": 167,
   "metadata": {},
   "outputs": [
    {
     "data": {
      "text/plain": [
       "1.4862019585290471"
      ]
     },
     "execution_count": 167,
     "metadata": {},
     "output_type": "execute_result"
    }
   ],
   "source": [
    "np.max(A)"
   ]
  },
  {
   "cell_type": "code",
   "execution_count": 172,
   "metadata": {},
   "outputs": [],
   "source": [
    "numdims = len(A.shape)"
   ]
  },
  {
   "cell_type": "code",
   "execution_count": 173,
   "metadata": {},
   "outputs": [
    {
     "data": {
      "text/plain": [
       "2"
      ]
     },
     "execution_count": 173,
     "metadata": {},
     "output_type": "execute_result"
    }
   ],
   "source": [
    "numdims"
   ]
  },
  {
   "cell_type": "code",
   "execution_count": 234,
   "metadata": {},
   "outputs": [],
   "source": [
    "A = np.random.randn(3, 4, 5, 16, 16)"
   ]
  },
  {
   "cell_type": "code",
   "execution_count": 235,
   "metadata": {},
   "outputs": [],
   "source": [
    "numdims = len(A.shape)"
   ]
  },
  {
   "cell_type": "code",
   "execution_count": 236,
   "metadata": {},
   "outputs": [],
   "source": [
    "pool_shape = ()"
   ]
  },
  {
   "cell_type": "code",
   "execution_count": 237,
   "metadata": {},
   "outputs": [],
   "source": [
    "for i in range(numdims - 2):\n",
    "    pool_shape = pool_shape + (A.shape[i], )"
   ]
  },
  {
   "cell_type": "code",
   "execution_count": 238,
   "metadata": {},
   "outputs": [
    {
     "data": {
      "text/plain": [
       "(3, 4, 5)"
      ]
     },
     "execution_count": 238,
     "metadata": {},
     "output_type": "execute_result"
    }
   ],
   "source": [
    "pool_shape"
   ]
  },
  {
   "cell_type": "code",
   "execution_count": 239,
   "metadata": {},
   "outputs": [],
   "source": [
    "pool_shape = pool_shape + (A.shape[numdims - 2] // 2, )\n",
    "pool_shape = pool_shape + (A.shape[numdims - 1] // 2, )"
   ]
  },
  {
   "cell_type": "code",
   "execution_count": 240,
   "metadata": {},
   "outputs": [
    {
     "data": {
      "text/plain": [
       "(3, 4, 5, 8, 8)"
      ]
     },
     "execution_count": 240,
     "metadata": {},
     "output_type": "execute_result"
    }
   ],
   "source": [
    "pool_shape"
   ]
  },
  {
   "cell_type": "code",
   "execution_count": 241,
   "metadata": {},
   "outputs": [],
   "source": [
    "pool_arr = np.empty(pool_shape)"
   ]
  },
  {
   "cell_type": "code",
   "execution_count": 214,
   "metadata": {},
   "outputs": [
    {
     "data": {
      "text/plain": [
       "array([[[[[ 0.73955864]],\n",
       "\n",
       "         [[ 1.538586  ]]],\n",
       "\n",
       "\n",
       "        [[[-0.09943194]],\n",
       "\n",
       "         [[-0.0235906 ]]]],\n",
       "\n",
       "\n",
       "\n",
       "       [[[[ 0.67266877]],\n",
       "\n",
       "         [[ 0.67667699]]],\n",
       "\n",
       "\n",
       "        [[[ 1.47598901]],\n",
       "\n",
       "         [[ 0.00449074]]]]])"
      ]
     },
     "execution_count": 214,
     "metadata": {},
     "output_type": "execute_result"
    }
   ],
   "source": [
    "np.max(A, axis=(3, 4), keepdims=True)"
   ]
  },
  {
   "cell_type": "code",
   "execution_count": 230,
   "metadata": {},
   "outputs": [
    {
     "data": {
      "text/plain": [
       "(2, 3, 4)"
      ]
     },
     "execution_count": 230,
     "metadata": {},
     "output_type": "execute_result"
    }
   ],
   "source": [
    "axis_params = tuple(range(numdims))[numdims-2:numdims]"
   ]
  },
  {
   "cell_type": "code",
   "execution_count": 244,
   "metadata": {},
   "outputs": [
    {
     "data": {
      "text/plain": [
       "(3, 4, 5)"
      ]
     },
     "execution_count": 244,
     "metadata": {},
     "output_type": "execute_result"
    }
   ],
   "source": [
    "np.max(A, axis=tuple(range(numdims))[numdims-2:numdims]).shape"
   ]
  },
  {
   "cell_type": "code",
   "execution_count": 272,
   "metadata": {},
   "outputs": [],
   "source": [
    "pool_arr[...,0,0] = np.max(A[...,0:2,0:2], axis=(3,4))"
   ]
  },
  {
   "cell_type": "code",
   "execution_count": 270,
   "metadata": {},
   "outputs": [
    {
     "data": {
      "text/plain": [
       "array([[[-5.76836588e-02,  4.33585475e-01,  1.55751131e+00,\n",
       "          1.00866952e+00,  1.59715845e-01],\n",
       "        [ 1.13078120e+00,  2.30990260e+00, -5.68978429e-01,\n",
       "         -8.88699053e-02, -2.04608022e-01],\n",
       "        [ 1.49049002e+00, -4.31849403e-02,  9.86895766e-01,\n",
       "          7.71225181e-02,  1.39252856e+00],\n",
       "        [-7.06079384e-01,  6.09398573e-01,  8.49722801e-01,\n",
       "          3.69523182e-01,  1.27320346e+00]],\n",
       "\n",
       "       [[ 1.25423558e+00,  4.44685187e-01,  1.00218319e+00,\n",
       "          4.69873902e-01,  7.88706415e-01],\n",
       "        [ 1.41889457e+00, -4.39367084e-01,  2.01218912e+00,\n",
       "          4.25243944e-01,  1.04927120e+00],\n",
       "        [ 8.01379020e-01,  7.16935194e-01,  1.09151301e-01,\n",
       "          3.62985067e-01, -9.02179460e-02],\n",
       "        [ 1.70281664e+00,  6.28532672e-01,  4.99617465e-01,\n",
       "          9.09194115e-02,  7.06216983e-01]],\n",
       "\n",
       "       [[ 4.12873435e-01, -2.78687732e-03,  7.17371141e-01,\n",
       "          1.41059363e+00,  6.31836520e-01],\n",
       "        [ 1.39840167e+00,  7.65576822e-01,  1.05099600e+00,\n",
       "          2.71785467e-01,  6.99029649e-01],\n",
       "        [ 1.53432812e+00,  3.59963935e+00,  4.49755603e-01,\n",
       "          1.68680964e+00,  7.74377504e-01],\n",
       "        [ 1.01329969e+00,  7.60349815e-01,  1.20138620e+00,\n",
       "          9.42295398e-01,  2.67275386e-01]]])"
      ]
     },
     "execution_count": 270,
     "metadata": {},
     "output_type": "execute_result"
    }
   ],
   "source": [
    "pool_arr[:,:,:,0,0]"
   ]
  },
  {
   "cell_type": "code",
   "execution_count": 273,
   "metadata": {},
   "outputs": [
    {
     "data": {
      "text/plain": [
       "array([[[-5.76836588e-02,  4.33585475e-01,  1.55751131e+00,\n",
       "          1.00866952e+00,  1.59715845e-01],\n",
       "        [ 1.13078120e+00,  2.30990260e+00, -5.68978429e-01,\n",
       "         -8.88699053e-02, -2.04608022e-01],\n",
       "        [ 1.49049002e+00, -4.31849403e-02,  9.86895766e-01,\n",
       "          7.71225181e-02,  1.39252856e+00],\n",
       "        [-7.06079384e-01,  6.09398573e-01,  8.49722801e-01,\n",
       "          3.69523182e-01,  1.27320346e+00]],\n",
       "\n",
       "       [[ 1.25423558e+00,  4.44685187e-01,  1.00218319e+00,\n",
       "          4.69873902e-01,  7.88706415e-01],\n",
       "        [ 1.41889457e+00, -4.39367084e-01,  2.01218912e+00,\n",
       "          4.25243944e-01,  1.04927120e+00],\n",
       "        [ 8.01379020e-01,  7.16935194e-01,  1.09151301e-01,\n",
       "          3.62985067e-01, -9.02179460e-02],\n",
       "        [ 1.70281664e+00,  6.28532672e-01,  4.99617465e-01,\n",
       "          9.09194115e-02,  7.06216983e-01]],\n",
       "\n",
       "       [[ 4.12873435e-01, -2.78687732e-03,  7.17371141e-01,\n",
       "          1.41059363e+00,  6.31836520e-01],\n",
       "        [ 1.39840167e+00,  7.65576822e-01,  1.05099600e+00,\n",
       "          2.71785467e-01,  6.99029649e-01],\n",
       "        [ 1.53432812e+00,  3.59963935e+00,  4.49755603e-01,\n",
       "          1.68680964e+00,  7.74377504e-01],\n",
       "        [ 1.01329969e+00,  7.60349815e-01,  1.20138620e+00,\n",
       "          9.42295398e-01,  2.67275386e-01]]])"
      ]
     },
     "execution_count": 273,
     "metadata": {},
     "output_type": "execute_result"
    }
   ],
   "source": [
    "np.max(A[...,0:2,0:2], axis=(3,4))"
   ]
  },
  {
   "cell_type": "code",
   "execution_count": 274,
   "metadata": {},
   "outputs": [
    {
     "data": {
      "text/plain": [
       "(3, 4, 5, 2, 2)"
      ]
     },
     "execution_count": 274,
     "metadata": {},
     "output_type": "execute_result"
    }
   ],
   "source": [
    "A[...,0:2,0:2].shape"
   ]
  },
  {
   "cell_type": "code",
   "execution_count": 275,
   "metadata": {},
   "outputs": [
    {
     "data": {
      "text/plain": [
       "(3, 4, 5, 16, 16)"
      ]
     },
     "execution_count": 275,
     "metadata": {},
     "output_type": "execute_result"
    }
   ],
   "source": [
    "A.shape"
   ]
  },
  {
   "cell_type": "code",
   "execution_count": 276,
   "metadata": {},
   "outputs": [],
   "source": [
    "def pool_layer(X, pool_size=2):\n",
    "    num_dims = len(X.shape)\n",
    "    pool_shape = ()\n",
    "    for i in range(num_dims - 2):\n",
    "        pool_shape = pool_shape + (X.shape[i], )\n",
    "    pool_shape = pool_shape + (X.shape[num_dims - 2] // 2, )\n",
    "    pool_shape = pool_shape + (X.shape[num_dims - 1] // 2, )\n",
    "    pool_arr = np.empty(pool_shape)\n",
    "    axis_params = tuple(range(numdims))[numdims-2:numdims]\n",
    "    for i in range(pool_shape[num_dims - 2]):\n",
    "        for j in range(pool_shape[num_dims - 2]):\n",
    "            pool_arr[...,i,j] = np.max(A[...,2*i:2+2*i,2*j:2+2*j], axis=axis_params)\n",
    "    return pool_arr"
   ]
  },
  {
   "cell_type": "code",
   "execution_count": 278,
   "metadata": {},
   "outputs": [],
   "source": [
    "B = pool_layer(A, 2)"
   ]
  },
  {
   "cell_type": "code",
   "execution_count": 279,
   "metadata": {},
   "outputs": [
    {
     "data": {
      "text/plain": [
       "(3, 4, 5, 8, 8)"
      ]
     },
     "execution_count": 279,
     "metadata": {},
     "output_type": "execute_result"
    }
   ],
   "source": [
    "B.shape"
   ]
  },
  {
   "cell_type": "code",
   "execution_count": 280,
   "metadata": {},
   "outputs": [
    {
     "data": {
      "text/plain": [
       "0.9999546021312976"
      ]
     },
     "execution_count": 280,
     "metadata": {},
     "output_type": "execute_result"
    }
   ],
   "source": [
    "sigmoid(10)"
   ]
  },
  {
   "cell_type": "code",
   "execution_count": 281,
   "metadata": {},
   "outputs": [],
   "source": [
    "C = sigmoid(A)"
   ]
  },
  {
   "cell_type": "code",
   "execution_count": 282,
   "metadata": {},
   "outputs": [
    {
     "data": {
      "text/plain": [
       "(3, 4, 5, 16, 16)"
      ]
     },
     "execution_count": 282,
     "metadata": {},
     "output_type": "execute_result"
    }
   ],
   "source": [
    "C.shape"
   ]
  },
  {
   "cell_type": "code",
   "execution_count": 283,
   "metadata": {},
   "outputs": [
    {
     "data": {
      "text/plain": [
       "0"
      ]
     },
     "execution_count": 283,
     "metadata": {},
     "output_type": "execute_result"
    }
   ],
   "source": [
    "ReLU(-10)"
   ]
  },
  {
   "cell_type": "code",
   "execution_count": 289,
   "metadata": {},
   "outputs": [],
   "source": [
    "D = ReLU(A)"
   ]
  },
  {
   "cell_type": "code",
   "execution_count": 290,
   "metadata": {},
   "outputs": [
    {
     "data": {
      "text/plain": [
       "(3, 4, 5, 16, 16)"
      ]
     },
     "execution_count": 290,
     "metadata": {},
     "output_type": "execute_result"
    }
   ],
   "source": [
    "D.shape"
   ]
  },
  {
   "cell_type": "code",
   "execution_count": 293,
   "metadata": {},
   "outputs": [
    {
     "data": {
      "text/plain": [
       "array([[0.83782322, 1.52847233],\n",
       "       [0.        , 1.7948342 ]])"
      ]
     },
     "execution_count": 293,
     "metadata": {},
     "output_type": "execute_result"
    }
   ],
   "source": [
    "D[0,0,0,2:4,0:2]"
   ]
  },
  {
   "cell_type": "code",
   "execution_count": 297,
   "metadata": {},
   "outputs": [],
   "source": [
    "a = np.array([[1, 2, 3], [4, 5, 6], [7, 8, 9]])"
   ]
  },
  {
   "cell_type": "code",
   "execution_count": 301,
   "metadata": {},
   "outputs": [],
   "source": [
    "num_dims = len(a.shape)"
   ]
  },
  {
   "cell_type": "code",
   "execution_count": 305,
   "metadata": {},
   "outputs": [],
   "source": [
    "pool_shape = ()\n",
    "for i in range(num_dims - 2):\n",
    "    pool_shape = pool_shape + (a.shape[i], )"
   ]
  },
  {
   "cell_type": "code",
   "execution_count": 306,
   "metadata": {},
   "outputs": [
    {
     "data": {
      "text/plain": [
       "()"
      ]
     },
     "execution_count": 306,
     "metadata": {},
     "output_type": "execute_result"
    }
   ],
   "source": [
    "pool_shape"
   ]
  },
  {
   "cell_type": "code",
   "execution_count": 307,
   "metadata": {},
   "outputs": [],
   "source": [
    "pool_shape = pool_shape + (a.shape[num_dims - 2] // 2, )"
   ]
  },
  {
   "cell_type": "code",
   "execution_count": 308,
   "metadata": {},
   "outputs": [
    {
     "data": {
      "text/plain": [
       "(1,)"
      ]
     },
     "execution_count": 308,
     "metadata": {},
     "output_type": "execute_result"
    }
   ],
   "source": [
    "pool_shape"
   ]
  },
  {
   "cell_type": "code",
   "execution_count": 309,
   "metadata": {},
   "outputs": [],
   "source": [
    "pool_shape = pool_shape + (a.shape[num_dims - 2] // 2, )"
   ]
  },
  {
   "cell_type": "code",
   "execution_count": 312,
   "metadata": {},
   "outputs": [],
   "source": [
    "a = np.array([[1, 2, 3, 4], [5, 6, 7, 8], [9, 10, 11, 12], [13, 14, 15, 16]])"
   ]
  },
  {
   "cell_type": "code",
   "execution_count": 313,
   "metadata": {},
   "outputs": [
    {
     "data": {
      "text/plain": [
       "(4, 4)"
      ]
     },
     "execution_count": 313,
     "metadata": {},
     "output_type": "execute_result"
    }
   ],
   "source": [
    "a.shape"
   ]
  },
  {
   "cell_type": "code",
   "execution_count": 314,
   "metadata": {},
   "outputs": [
    {
     "ename": "ValueError",
     "evalue": "could not broadcast input array from shape (3,4,5) into shape ()",
     "output_type": "error",
     "traceback": [
      "\u001b[1;31m---------------------------------------------------------------------------\u001b[0m",
      "\u001b[1;31mValueError\u001b[0m                                Traceback (most recent call last)",
      "\u001b[1;32m<ipython-input-314-5030e9d72cae>\u001b[0m in \u001b[0;36m<module>\u001b[1;34m()\u001b[0m\n\u001b[1;32m----> 1\u001b[1;33m \u001b[0mpool_layer\u001b[0m\u001b[1;33m(\u001b[0m\u001b[0ma\u001b[0m\u001b[1;33m,\u001b[0m \u001b[1;36m2\u001b[0m\u001b[1;33m)\u001b[0m\u001b[1;33m\u001b[0m\u001b[0m\n\u001b[0m",
      "\u001b[1;32m<ipython-input-276-8798cd290f83>\u001b[0m in \u001b[0;36mpool_layer\u001b[1;34m(X, pool_size)\u001b[0m\n\u001b[0;32m     10\u001b[0m     \u001b[1;32mfor\u001b[0m \u001b[0mi\u001b[0m \u001b[1;32min\u001b[0m \u001b[0mrange\u001b[0m\u001b[1;33m(\u001b[0m\u001b[0mpool_shape\u001b[0m\u001b[1;33m[\u001b[0m\u001b[0mnum_dims\u001b[0m \u001b[1;33m-\u001b[0m \u001b[1;36m2\u001b[0m\u001b[1;33m]\u001b[0m\u001b[1;33m)\u001b[0m\u001b[1;33m:\u001b[0m\u001b[1;33m\u001b[0m\u001b[0m\n\u001b[0;32m     11\u001b[0m         \u001b[1;32mfor\u001b[0m \u001b[0mj\u001b[0m \u001b[1;32min\u001b[0m \u001b[0mrange\u001b[0m\u001b[1;33m(\u001b[0m\u001b[0mpool_shape\u001b[0m\u001b[1;33m[\u001b[0m\u001b[0mnum_dims\u001b[0m \u001b[1;33m-\u001b[0m \u001b[1;36m2\u001b[0m\u001b[1;33m]\u001b[0m\u001b[1;33m)\u001b[0m\u001b[1;33m:\u001b[0m\u001b[1;33m\u001b[0m\u001b[0m\n\u001b[1;32m---> 12\u001b[1;33m             \u001b[0mpool_arr\u001b[0m\u001b[1;33m[\u001b[0m\u001b[1;33m...\u001b[0m\u001b[1;33m,\u001b[0m\u001b[0mi\u001b[0m\u001b[1;33m,\u001b[0m\u001b[0mj\u001b[0m\u001b[1;33m]\u001b[0m \u001b[1;33m=\u001b[0m \u001b[0mnp\u001b[0m\u001b[1;33m.\u001b[0m\u001b[0mmax\u001b[0m\u001b[1;33m(\u001b[0m\u001b[0mA\u001b[0m\u001b[1;33m[\u001b[0m\u001b[1;33m...\u001b[0m\u001b[1;33m,\u001b[0m\u001b[1;36m2\u001b[0m\u001b[1;33m*\u001b[0m\u001b[0mi\u001b[0m\u001b[1;33m:\u001b[0m\u001b[1;36m2\u001b[0m\u001b[1;33m+\u001b[0m\u001b[1;36m2\u001b[0m\u001b[1;33m*\u001b[0m\u001b[0mi\u001b[0m\u001b[1;33m,\u001b[0m\u001b[1;36m2\u001b[0m\u001b[1;33m*\u001b[0m\u001b[0mj\u001b[0m\u001b[1;33m:\u001b[0m\u001b[1;36m2\u001b[0m\u001b[1;33m+\u001b[0m\u001b[1;36m2\u001b[0m\u001b[1;33m*\u001b[0m\u001b[0mj\u001b[0m\u001b[1;33m]\u001b[0m\u001b[1;33m,\u001b[0m \u001b[0maxis\u001b[0m\u001b[1;33m=\u001b[0m\u001b[0maxis_params\u001b[0m\u001b[1;33m)\u001b[0m\u001b[1;33m\u001b[0m\u001b[0m\n\u001b[0m\u001b[0;32m     13\u001b[0m     \u001b[1;32mreturn\u001b[0m \u001b[0mpool_arr\u001b[0m\u001b[1;33m\u001b[0m\u001b[0m\n",
      "\u001b[1;31mValueError\u001b[0m: could not broadcast input array from shape (3,4,5) into shape ()"
     ]
    }
   ],
   "source": [
    "pool_layer(a, 2)"
   ]
  },
  {
   "cell_type": "code",
   "execution_count": 319,
   "metadata": {},
   "outputs": [],
   "source": [
    "pool_shape = ()"
   ]
  },
  {
   "cell_type": "code",
   "execution_count": 321,
   "metadata": {},
   "outputs": [
    {
     "data": {
      "text/plain": [
       "array([[ 1,  2,  3,  4],\n",
       "       [ 5,  6,  7,  8],\n",
       "       [ 9, 10, 11, 12],\n",
       "       [13, 14, 15, 16]])"
      ]
     },
     "execution_count": 321,
     "metadata": {},
     "output_type": "execute_result"
    }
   ],
   "source": [
    "a"
   ]
  },
  {
   "cell_type": "code",
   "execution_count": 323,
   "metadata": {},
   "outputs": [
    {
     "data": {
      "text/plain": [
       "array([[ -1,  -2,  -3,  -4],\n",
       "       [ -5,  -6,  -7,  -8],\n",
       "       [ -9, -10, -11, -12],\n",
       "       [-13, -14, -15, -16]])"
      ]
     },
     "execution_count": 323,
     "metadata": {},
     "output_type": "execute_result"
    }
   ],
   "source": [
    "-a"
   ]
  },
  {
   "cell_type": "code",
   "execution_count": 324,
   "metadata": {},
   "outputs": [],
   "source": [
    "def sigmoid(X):\n",
    "    return 1 / (1 + np.exp(-X))"
   ]
  },
  {
   "cell_type": "code",
   "execution_count": 325,
   "metadata": {},
   "outputs": [
    {
     "data": {
      "text/plain": [
       "array([[0.73105858, 0.88079708, 0.95257413, 0.98201379],\n",
       "       [0.99330715, 0.99752738, 0.99908895, 0.99966465],\n",
       "       [0.99987661, 0.9999546 , 0.9999833 , 0.99999386],\n",
       "       [0.99999774, 0.99999917, 0.99999969, 0.99999989]])"
      ]
     },
     "execution_count": 325,
     "metadata": {},
     "output_type": "execute_result"
    }
   ],
   "source": [
    "sigmoid(a)"
   ]
  },
  {
   "cell_type": "code",
   "execution_count": 326,
   "metadata": {},
   "outputs": [],
   "source": [
    "a = np.random.randn(3,4)"
   ]
  },
  {
   "cell_type": "code",
   "execution_count": 337,
   "metadata": {},
   "outputs": [],
   "source": [
    "b = a.copy()"
   ]
  },
  {
   "cell_type": "code",
   "execution_count": 328,
   "metadata": {},
   "outputs": [],
   "source": [
    "d = 1"
   ]
  },
  {
   "cell_type": "code",
   "execution_count": 331,
   "metadata": {},
   "outputs": [],
   "source": [
    "d -= 1"
   ]
  },
  {
   "cell_type": "code",
   "execution_count": 332,
   "metadata": {},
   "outputs": [
    {
     "data": {
      "text/plain": [
       "-1"
      ]
     },
     "execution_count": 332,
     "metadata": {},
     "output_type": "execute_result"
    }
   ],
   "source": [
    "d"
   ]
  },
  {
   "cell_type": "code",
   "execution_count": 342,
   "metadata": {},
   "outputs": [],
   "source": [
    "b -= sigmoid(b) * (1 - sigmoid(b))"
   ]
  },
  {
   "cell_type": "code",
   "execution_count": 362,
   "metadata": {},
   "outputs": [
    {
     "data": {
      "text/plain": [
       "array([[ 1.3608237 ,  0.49928068, -0.49843212, -0.02395308],\n",
       "       [ 0.35374114, -1.04679165,  0.41454506, -0.99717422],\n",
       "       [ 0.79571165, -0.38942928,  1.00716465,  0.68198151]])"
      ]
     },
     "execution_count": 362,
     "metadata": {},
     "output_type": "execute_result"
    }
   ],
   "source": [
    "a"
   ]
  },
  {
   "cell_type": "code",
   "execution_count": 363,
   "metadata": {},
   "outputs": [],
   "source": [
    "b = sigmoid(a)"
   ]
  },
  {
   "cell_type": "code",
   "execution_count": 371,
   "metadata": {},
   "outputs": [],
   "source": [
    "for _ in range(100):\n",
    "    b -= 0.001 * sigmoid(b) * (1 - sigmoid(b))"
   ]
  },
  {
   "cell_type": "code",
   "execution_count": 365,
   "metadata": {},
   "outputs": [],
   "source": [
    "c1 = b.copy()"
   ]
  },
  {
   "cell_type": "code",
   "execution_count": 372,
   "metadata": {},
   "outputs": [
    {
     "name": "stdout",
     "output_type": "stream",
     "text": [
      "[[ 1.3608237   0.49928068 -0.49843212 -0.02395308]\n",
      " [ 0.35374114 -1.04679165  0.41454506 -0.99717422]\n",
      " [ 0.79571165 -0.38942928  1.00716465  0.68198151]] \n",
      "\n",
      " [[0.75270151 0.57652925 0.32944423 0.44668211]\n",
      " [0.54130799 0.21052999 0.55615003 0.22024272]\n",
      " [0.64422827 0.35561826 0.6882815  0.61899647]] \n",
      "\n",
      " [[0.77438356 0.59948596 0.35372812 0.47041174]\n",
      " [0.56448967 0.23522143 0.57923824 0.24490701]\n",
      " [0.66672311 0.37979106 0.71045642 0.64166782]]\n"
     ]
    }
   ],
   "source": [
    "print(a, '\\n\\n', b, '\\n\\n', c1)"
   ]
  },
  {
   "cell_type": "code",
   "execution_count": 373,
   "metadata": {},
   "outputs": [
    {
     "data": {
      "text/plain": [
       "array([[0.02168205, 0.02295671, 0.02428389, 0.02372963],\n",
       "       [0.02318168, 0.02469144, 0.02308821, 0.02466429],\n",
       "       [0.02249484, 0.02417281, 0.02217491, 0.02267135]])"
      ]
     },
     "execution_count": 373,
     "metadata": {},
     "output_type": "execute_result"
    }
   ],
   "source": [
    "c1 - b"
   ]
  },
  {
   "cell_type": "code",
   "execution_count": 374,
   "metadata": {},
   "outputs": [
    {
     "data": {
      "text/plain": [
       "(60000, 28, 28)"
      ]
     },
     "execution_count": 374,
     "metadata": {},
     "output_type": "execute_result"
    }
   ],
   "source": [
    "x_train.shape"
   ]
  },
  {
   "cell_type": "code",
   "execution_count": 375,
   "metadata": {},
   "outputs": [
    {
     "data": {
      "text/plain": [
       "(16, 28, 28)"
      ]
     },
     "execution_count": 375,
     "metadata": {},
     "output_type": "execute_result"
    }
   ],
   "source": [
    "x_train[0:16].shape"
   ]
  },
  {
   "cell_type": "code",
   "execution_count": 376,
   "metadata": {},
   "outputs": [],
   "source": [
    "a = np.random.randn(3, 4, 5)\n",
    "b = np.random.randn(2, 3, 4)\n",
    "weights = []"
   ]
  },
  {
   "cell_type": "code",
   "execution_count": 377,
   "metadata": {},
   "outputs": [],
   "source": [
    "weights.append(a)"
   ]
  },
  {
   "cell_type": "code",
   "execution_count": 379,
   "metadata": {},
   "outputs": [],
   "source": [
    "weights.append(b)"
   ]
  },
  {
   "cell_type": "code",
   "execution_count": 380,
   "metadata": {},
   "outputs": [
    {
     "data": {
      "text/plain": [
       "[array([[[-0.48350745,  1.17128563, -0.17735004, -1.08096665,\n",
       "           1.00808526],\n",
       "         [ 1.0046256 ,  1.59620879,  0.09414738,  0.66247482,\n",
       "          -0.12501088],\n",
       "         [-0.0600262 ,  0.1687481 ,  0.238036  , -0.85691149,\n",
       "          -1.67438909],\n",
       "         [-0.41478549, -0.78151052, -1.69873737,  0.73854679,\n",
       "           0.48060302]],\n",
       " \n",
       "        [[-1.30067777,  0.17015139,  0.48588304,  0.00559028,\n",
       "          -1.18543841],\n",
       "         [-0.85223433, -0.88941391,  0.22677518,  0.17034271,\n",
       "           0.82306589],\n",
       "         [ 0.50148   , -1.27940211, -0.50052734, -1.55570547,\n",
       "           0.65775797],\n",
       "         [ 0.37795138,  0.92828019, -0.3129694 ,  0.84663136,\n",
       "           0.87596036]],\n",
       " \n",
       "        [[-0.92752885, -0.02302206, -2.06458424,  0.53735819,\n",
       "          -0.08700535],\n",
       "         [-1.14267876,  0.57273057, -0.01889318, -0.2396461 ,\n",
       "           1.11086261],\n",
       "         [ 1.25672237, -1.56405583,  1.10660744,  0.55754642,\n",
       "          -0.64557798],\n",
       "         [-0.82895608, -0.79107765, -1.45228132,  0.21598531,\n",
       "           0.10628746]]]),\n",
       " array([[[ 0.52389616,  2.4979039 , -0.41607466,  0.28892445],\n",
       "         [ 0.69704403,  0.09897546, -1.32814587, -2.07425214],\n",
       "         [-0.13336638,  0.49516421, -0.17826413, -0.19713405]],\n",
       " \n",
       "        [[ 0.66710249, -1.07836947, -0.02126957, -1.36471415],\n",
       "         [ 1.11602567,  0.30871964, -1.75159729, -0.68397857],\n",
       "         [-0.13681868, -0.63449521, -0.44540665,  0.48868071]]])]"
      ]
     },
     "execution_count": 380,
     "metadata": {},
     "output_type": "execute_result"
    }
   ],
   "source": [
    "weights"
   ]
  },
  {
   "cell_type": "code",
   "execution_count": 382,
   "metadata": {},
   "outputs": [
    {
     "data": {
      "text/plain": [
       "array([[[-0.48350745,  1.17128563, -0.17735004, -1.08096665,\n",
       "          1.00808526],\n",
       "        [ 1.0046256 ,  1.59620879,  0.09414738,  0.66247482,\n",
       "         -0.12501088],\n",
       "        [-0.0600262 ,  0.1687481 ,  0.238036  , -0.85691149,\n",
       "         -1.67438909],\n",
       "        [-0.41478549, -0.78151052, -1.69873737,  0.73854679,\n",
       "          0.48060302]],\n",
       "\n",
       "       [[-1.30067777,  0.17015139,  0.48588304,  0.00559028,\n",
       "         -1.18543841],\n",
       "        [-0.85223433, -0.88941391,  0.22677518,  0.17034271,\n",
       "          0.82306589],\n",
       "        [ 0.50148   , -1.27940211, -0.50052734, -1.55570547,\n",
       "          0.65775797],\n",
       "        [ 0.37795138,  0.92828019, -0.3129694 ,  0.84663136,\n",
       "          0.87596036]],\n",
       "\n",
       "       [[-0.92752885, -0.02302206, -2.06458424,  0.53735819,\n",
       "         -0.08700535],\n",
       "        [-1.14267876,  0.57273057, -0.01889318, -0.2396461 ,\n",
       "          1.11086261],\n",
       "        [ 1.25672237, -1.56405583,  1.10660744,  0.55754642,\n",
       "         -0.64557798],\n",
       "        [-0.82895608, -0.79107765, -1.45228132,  0.21598531,\n",
       "          0.10628746]]])"
      ]
     },
     "execution_count": 382,
     "metadata": {},
     "output_type": "execute_result"
    }
   ],
   "source": [
    "weights[0]"
   ]
  },
  {
   "cell_type": "code",
   "execution_count": 384,
   "metadata": {},
   "outputs": [],
   "source": [
    "D_train = x_train.copy()"
   ]
  },
  {
   "cell_type": "code",
   "execution_count": 385,
   "metadata": {},
   "outputs": [
    {
     "data": {
      "text/plain": [
       "(60000, 28, 28)"
      ]
     },
     "execution_count": 385,
     "metadata": {},
     "output_type": "execute_result"
    }
   ],
   "source": [
    "D_train.shape"
   ]
  },
  {
   "cell_type": "code",
   "execution_count": 390,
   "metadata": {},
   "outputs": [],
   "source": [
    "# Add this to the preprocess\n",
    "# np.random.permutation(D_train)[0] == D_train[0]"
   ]
  },
  {
   "cell_type": "code",
   "execution_count": 394,
   "metadata": {},
   "outputs": [
    {
     "data": {
      "text/plain": [
       "(1, 3, 1)"
      ]
     },
     "execution_count": 394,
     "metadata": {},
     "output_type": "execute_result"
    }
   ],
   "source": [
    "np.random.uniform(0,1,(1,3,1)).shape"
   ]
  },
  {
   "cell_type": "code",
   "execution_count": 395,
   "metadata": {},
   "outputs": [],
   "source": [
    "A = np.random.randn(2, 3, 4)"
   ]
  },
  {
   "cell_type": "code",
   "execution_count": 403,
   "metadata": {},
   "outputs": [],
   "source": [
    "B = np.random.randn(2, 3, 4)"
   ]
  },
  {
   "cell_type": "code",
   "execution_count": 404,
   "metadata": {},
   "outputs": [
    {
     "ename": "TypeError",
     "evalue": "multi_dot() takes 1 positional argument but 2 were given",
     "output_type": "error",
     "traceback": [
      "\u001b[1;31m---------------------------------------------------------------------------\u001b[0m",
      "\u001b[1;31mTypeError\u001b[0m                                 Traceback (most recent call last)",
      "\u001b[1;32m<ipython-input-404-91d940776b03>\u001b[0m in \u001b[0;36m<module>\u001b[1;34m()\u001b[0m\n\u001b[1;32m----> 1\u001b[1;33m \u001b[0mnp\u001b[0m\u001b[1;33m.\u001b[0m\u001b[0mlinalg\u001b[0m\u001b[1;33m.\u001b[0m\u001b[0mmulti_dot\u001b[0m\u001b[1;33m(\u001b[0m\u001b[0mA\u001b[0m\u001b[1;33m,\u001b[0m \u001b[0mB\u001b[0m\u001b[1;33m)\u001b[0m\u001b[1;33m\u001b[0m\u001b[0m\n\u001b[0m",
      "\u001b[1;31mTypeError\u001b[0m: multi_dot() takes 1 positional argument but 2 were given"
     ]
    }
   ],
   "source": [
    "np.linalg.multi_dot(A, B)"
   ]
  },
  {
   "cell_type": "code",
   "execution_count": 407,
   "metadata": {},
   "outputs": [
    {
     "data": {
      "text/plain": [
       "array([[[[ 0.42250633,  2.90893903, -1.70360479],\n",
       "         [-2.27382187, -3.78495729,  0.31707459]],\n",
       "\n",
       "        [[ 0.85463494,  1.44119309,  2.60925059],\n",
       "         [-0.89633275, -1.06979908,  1.07469706]],\n",
       "\n",
       "        [[-1.08798006, -1.04433965,  4.71683136],\n",
       "         [ 2.60052632,  5.65455013, -1.24457217]]],\n",
       "\n",
       "\n",
       "       [[[-0.42520696,  0.71047438,  1.85127888],\n",
       "         [-1.51063004, -0.52650876,  3.63923163]],\n",
       "\n",
       "        [[-1.44884479,  0.14312553,  4.84407323],\n",
       "         [ 0.45069769,  3.7175844 ,  2.26848909]],\n",
       "\n",
       "        [[-0.04975405, -0.28666538,  2.34851048],\n",
       "         [ 0.64086339,  1.5966412 ,  0.21532628]]]])"
      ]
     },
     "execution_count": 407,
     "metadata": {},
     "output_type": "execute_result"
    }
   ],
   "source": [
    "np.inner(A, B)"
   ]
  },
  {
   "cell_type": "code",
   "execution_count": 445,
   "metadata": {},
   "outputs": [],
   "source": [
    "A = np.random.randn(3, 3, 3)\n",
    "B = np.random.randn(3, 3, 3)"
   ]
  },
  {
   "cell_type": "code",
   "execution_count": 446,
   "metadata": {},
   "outputs": [
    {
     "data": {
      "text/plain": [
       "-1.2900424575272966"
      ]
     },
     "execution_count": 446,
     "metadata": {},
     "output_type": "execute_result"
    }
   ],
   "source": [
    "np.vdot(A, B)"
   ]
  },
  {
   "cell_type": "code",
   "execution_count": 447,
   "metadata": {},
   "outputs": [],
   "source": [
    "c = 0\n",
    "for i in range(3):\n",
    "    for j in range(3):\n",
    "        for k in range(3):\n",
    "            c += A[i,j,k] * B[i,j,k]"
   ]
  },
  {
   "cell_type": "code",
   "execution_count": 448,
   "metadata": {},
   "outputs": [
    {
     "data": {
      "text/plain": [
       "-1.2900424575272966"
      ]
     },
     "execution_count": 448,
     "metadata": {},
     "output_type": "execute_result"
    }
   ],
   "source": [
    "c"
   ]
  },
  {
   "cell_type": "code",
   "execution_count": 427,
   "metadata": {},
   "outputs": [],
   "source": [
    "D = np.ones_like(A, dtype=int)"
   ]
  },
  {
   "cell_type": "code",
   "execution_count": 428,
   "metadata": {},
   "outputs": [],
   "source": [
    "C = ReLU(A)"
   ]
  },
  {
   "cell_type": "code",
   "execution_count": 429,
   "metadata": {},
   "outputs": [
    {
     "name": "stdout",
     "output_type": "stream",
     "text": [
      "[[1.2495768  1.28980583 0.        ]\n",
      " [0.         0.         0.03925537]\n",
      " [0.55879453 0.         0.00329814]] \n",
      "\n",
      " [[1 1 1]\n",
      " [1 1 1]\n",
      " [1 1 1]]\n"
     ]
    }
   ],
   "source": [
    "print(C, '\\n\\n', D)"
   ]
  },
  {
   "cell_type": "code",
   "execution_count": 432,
   "metadata": {},
   "outputs": [],
   "source": [
    "E = (C > 0)"
   ]
  },
  {
   "cell_type": "code",
   "execution_count": 436,
   "metadata": {},
   "outputs": [
    {
     "data": {
      "text/plain": [
       "array([[1., 1., 0.],\n",
       "       [0., 0., 1.],\n",
       "       [1., 0., 1.]])"
      ]
     },
     "execution_count": 436,
     "metadata": {},
     "output_type": "execute_result"
    }
   ],
   "source": [
    "E.astype(float)"
   ]
  },
  {
   "cell_type": "code",
   "execution_count": 437,
   "metadata": {},
   "outputs": [],
   "source": [
    "A = np.random.randn(3,3,3)"
   ]
  },
  {
   "cell_type": "code",
   "execution_count": 438,
   "metadata": {},
   "outputs": [],
   "source": [
    "grad = (A > 0)"
   ]
  },
  {
   "cell_type": "code",
   "execution_count": 439,
   "metadata": {},
   "outputs": [],
   "source": [
    "grad = grad.astype(float)"
   ]
  },
  {
   "cell_type": "code",
   "execution_count": 440,
   "metadata": {},
   "outputs": [
    {
     "data": {
      "text/plain": [
       "array([[[1., 0., 0.],\n",
       "        [1., 0., 0.],\n",
       "        [1., 1., 1.]],\n",
       "\n",
       "       [[0., 0., 1.],\n",
       "        [1., 0., 0.],\n",
       "        [1., 1., 1.]],\n",
       "\n",
       "       [[0., 1., 1.],\n",
       "        [0., 1., 0.],\n",
       "        [1., 1., 0.]]])"
      ]
     },
     "execution_count": 440,
     "metadata": {},
     "output_type": "execute_result"
    }
   ],
   "source": [
    "grad"
   ]
  },
  {
   "cell_type": "code",
   "execution_count": 453,
   "metadata": {},
   "outputs": [],
   "source": [
    "A = np.zeros((3, 3, 3))\n",
    "B = np.random.randn(3, 3)\n",
    "C = np.random.randn(3, 3)\n",
    "D = np.random.randn(3, 3)"
   ]
  },
  {
   "cell_type": "code",
   "execution_count": 455,
   "metadata": {},
   "outputs": [],
   "source": [
    "A[0]"
   ]
  },
  {
   "cell_type": "code",
   "execution_count": 456,
   "metadata": {},
   "outputs": [
    {
     "data": {
      "text/plain": [
       "array([[[-1.38044154, -0.90250451,  1.21491994],\n",
       "        [ 0.84418431,  0.56798953,  0.21044208],\n",
       "        [ 0.70522098, -1.74193258, -0.05374989]],\n",
       "\n",
       "       [[ 0.        ,  0.        ,  0.        ],\n",
       "        [ 0.        ,  0.        ,  0.        ],\n",
       "        [ 0.        ,  0.        ,  0.        ]],\n",
       "\n",
       "       [[ 0.        ,  0.        ,  0.        ],\n",
       "        [ 0.        ,  0.        ,  0.        ],\n",
       "        [ 0.        ,  0.        ,  0.        ]]])"
      ]
     },
     "execution_count": 456,
     "metadata": {},
     "output_type": "execute_result"
    }
   ],
   "source": []
  },
  {
   "cell_type": "code",
   "execution_count": 457,
   "metadata": {},
   "outputs": [],
   "source": [
    "B[0,0] = 0"
   ]
  },
  {
   "cell_type": "code",
   "execution_count": 458,
   "metadata": {},
   "outputs": [
    {
     "data": {
      "text/plain": [
       "array([[[-1.38044154, -0.90250451,  1.21491994],\n",
       "        [ 0.84418431,  0.56798953,  0.21044208],\n",
       "        [ 0.70522098, -1.74193258, -0.05374989]],\n",
       "\n",
       "       [[ 0.        ,  0.        ,  0.        ],\n",
       "        [ 0.        ,  0.        ,  0.        ],\n",
       "        [ 0.        ,  0.        ,  0.        ]],\n",
       "\n",
       "       [[ 0.        ,  0.        ,  0.        ],\n",
       "        [ 0.        ,  0.        ,  0.        ],\n",
       "        [ 0.        ,  0.        ,  0.        ]]])"
      ]
     },
     "execution_count": 458,
     "metadata": {},
     "output_type": "execute_result"
    }
   ],
   "source": [
    "A"
   ]
  },
  {
   "cell_type": "code",
   "execution_count": 459,
   "metadata": {},
   "outputs": [
    {
     "data": {
      "text/plain": [
       "(60000, 28, 28)"
      ]
     },
     "execution_count": 459,
     "metadata": {},
     "output_type": "execute_result"
    }
   ],
   "source": [
    "x_train.shape"
   ]
  },
  {
   "cell_type": "code",
   "execution_count": 461,
   "metadata": {},
   "outputs": [
    {
     "data": {
      "text/plain": [
       "3750"
      ]
     },
     "execution_count": 461,
     "metadata": {},
     "output_type": "execute_result"
    }
   ],
   "source": [
    "60000 // 16"
   ]
  },
  {
   "cell_type": "code",
   "execution_count": 474,
   "metadata": {},
   "outputs": [],
   "source": [
    "a = np.arange(3*4*5).reshape(3,4,5)\n",
    "b = np.arange(4*5).reshape(4,5)"
   ]
  },
  {
   "cell_type": "code",
   "execution_count": 475,
   "metadata": {},
   "outputs": [],
   "source": [
    "c = np.tensordot(a, b)"
   ]
  },
  {
   "cell_type": "code",
   "execution_count": 477,
   "metadata": {},
   "outputs": [
    {
     "data": {
      "text/plain": [
       "array([ 2470,  6270, 10070])"
      ]
     },
     "execution_count": 477,
     "metadata": {},
     "output_type": "execute_result"
    }
   ],
   "source": [
    "c"
   ]
  },
  {
   "cell_type": "code",
   "execution_count": 479,
   "metadata": {},
   "outputs": [
    {
     "data": {
      "text/plain": [
       "6270"
      ]
     },
     "execution_count": 479,
     "metadata": {},
     "output_type": "execute_result"
    }
   ],
   "source": [
    "np.vdot(a[1], b)"
   ]
  },
  {
   "cell_type": "code",
   "execution_count": 542,
   "metadata": {},
   "outputs": [],
   "source": [
    "def conv2dlayer(X, step_size, filter):\n",
    "    conv_array = np.empty_like(X)\n",
    "    padded = pad(X, step_size)\n",
    "    m = filter.shape\n",
    "    for i in range(padded.shape[1]):\n",
    "        for j in range(padded.shape[2]):\n",
    "            conv_array[i,j] = np.tensordot(padded[i:m[0]+i,j+m[1]+j], filter)\n",
    "    return conv_array"
   ]
  },
  {
   "cell_type": "code",
   "execution_count": 524,
   "metadata": {},
   "outputs": [],
   "source": [
    "def pad(X, pad_size):\n",
    "    pad_array = X.copy()\n",
    "    \n",
    "    zero_col_shape = ()\n",
    "    for i in range(len(X.shape) - 1):\n",
    "        zero_col_shape = zero_col_shape + (X.shape[i], )\n",
    "    zero_col_shape = zero_col_shape + (1, )\n",
    "    zero_col = np.zeros(zero_col_shape)\n",
    "    \n",
    "    for i in range(pad_size):\n",
    "        pad_array = np.c_[zero_col, pad_array, zero_col]\n",
    "    \n",
    "    zero_row_shape = ()\n",
    "    n = len(pad_array.shape) - 1\n",
    "    for i in range(n - 1):\n",
    "        zero_row_shape = zero_row_shape + (pad_array.shape[i], )\n",
    "    zero_row_shape = zero_row_shape + (1, )\n",
    "    zero_row_shape = zero_row_shape + (pad_array.shape[n], )\n",
    "    zero_row = np.zeros(zero_row_shape)\n",
    "    \n",
    "    for i in range(pad_size):\n",
    "        pad_array = np.r_['-2', zero_row, pad_array, zero_row]\n",
    "    return pad_array"
   ]
  },
  {
   "cell_type": "code",
   "execution_count": 493,
   "metadata": {},
   "outputs": [],
   "source": [
    "test = x_train[0:16]"
   ]
  },
  {
   "cell_type": "code",
   "execution_count": 518,
   "metadata": {},
   "outputs": [],
   "source": [
    "X = test"
   ]
  },
  {
   "cell_type": "code",
   "execution_count": 529,
   "metadata": {},
   "outputs": [],
   "source": [
    "A = pad(X, 1)"
   ]
  },
  {
   "cell_type": "code",
   "execution_count": 575,
   "metadata": {},
   "outputs": [],
   "source": [
    "F = np.array([[1, 1, 1], [1, 0, 1], [0, 0, 0]])"
   ]
  },
  {
   "cell_type": "code",
   "execution_count": 543,
   "metadata": {},
   "outputs": [
    {
     "ename": "ValueError",
     "evalue": "shape-mismatch for sum",
     "output_type": "error",
     "traceback": [
      "\u001b[1;31m---------------------------------------------------------------------------\u001b[0m",
      "\u001b[1;31mValueError\u001b[0m                                Traceback (most recent call last)",
      "\u001b[1;32m<ipython-input-543-389e42b076e4>\u001b[0m in \u001b[0;36m<module>\u001b[1;34m()\u001b[0m\n\u001b[1;32m----> 1\u001b[1;33m \u001b[0mconv2dlayer\u001b[0m\u001b[1;33m(\u001b[0m\u001b[0mX\u001b[0m\u001b[1;33m,\u001b[0m \u001b[1;36m1\u001b[0m\u001b[1;33m,\u001b[0m \u001b[0mF\u001b[0m\u001b[1;33m)\u001b[0m\u001b[1;33m\u001b[0m\u001b[0m\n\u001b[0m",
      "\u001b[1;32m<ipython-input-542-bf7a19967325>\u001b[0m in \u001b[0;36mconv2dlayer\u001b[1;34m(X, step_size, filter)\u001b[0m\n\u001b[0;32m      5\u001b[0m     \u001b[1;32mfor\u001b[0m \u001b[0mi\u001b[0m \u001b[1;32min\u001b[0m \u001b[0mrange\u001b[0m\u001b[1;33m(\u001b[0m\u001b[0mpadded\u001b[0m\u001b[1;33m.\u001b[0m\u001b[0mshape\u001b[0m\u001b[1;33m[\u001b[0m\u001b[1;36m1\u001b[0m\u001b[1;33m]\u001b[0m\u001b[1;33m)\u001b[0m\u001b[1;33m:\u001b[0m\u001b[1;33m\u001b[0m\u001b[0m\n\u001b[0;32m      6\u001b[0m         \u001b[1;32mfor\u001b[0m \u001b[0mj\u001b[0m \u001b[1;32min\u001b[0m \u001b[0mrange\u001b[0m\u001b[1;33m(\u001b[0m\u001b[0mpadded\u001b[0m\u001b[1;33m.\u001b[0m\u001b[0mshape\u001b[0m\u001b[1;33m[\u001b[0m\u001b[1;36m2\u001b[0m\u001b[1;33m]\u001b[0m\u001b[1;33m)\u001b[0m\u001b[1;33m:\u001b[0m\u001b[1;33m\u001b[0m\u001b[0m\n\u001b[1;32m----> 7\u001b[1;33m             \u001b[0mconv_array\u001b[0m\u001b[1;33m[\u001b[0m\u001b[0mi\u001b[0m\u001b[1;33m,\u001b[0m\u001b[0mj\u001b[0m\u001b[1;33m]\u001b[0m \u001b[1;33m=\u001b[0m \u001b[0mnp\u001b[0m\u001b[1;33m.\u001b[0m\u001b[0mtensordot\u001b[0m\u001b[1;33m(\u001b[0m\u001b[0mpadded\u001b[0m\u001b[1;33m[\u001b[0m\u001b[0mi\u001b[0m\u001b[1;33m:\u001b[0m\u001b[0mm\u001b[0m\u001b[1;33m[\u001b[0m\u001b[1;36m0\u001b[0m\u001b[1;33m]\u001b[0m\u001b[1;33m+\u001b[0m\u001b[0mi\u001b[0m\u001b[1;33m,\u001b[0m\u001b[0mj\u001b[0m\u001b[1;33m+\u001b[0m\u001b[0mm\u001b[0m\u001b[1;33m[\u001b[0m\u001b[1;36m1\u001b[0m\u001b[1;33m]\u001b[0m\u001b[1;33m+\u001b[0m\u001b[0mj\u001b[0m\u001b[1;33m]\u001b[0m\u001b[1;33m,\u001b[0m \u001b[0mfilter\u001b[0m\u001b[1;33m)\u001b[0m\u001b[1;33m\u001b[0m\u001b[0m\n\u001b[0m\u001b[0;32m      8\u001b[0m     \u001b[1;32mreturn\u001b[0m \u001b[0mconv_array\u001b[0m\u001b[1;33m\u001b[0m\u001b[0m\n",
      "\u001b[1;32mc:\\python36\\lib\\site-packages\\numpy\\core\\numeric.py\u001b[0m in \u001b[0;36mtensordot\u001b[1;34m(a, b, axes)\u001b[0m\n\u001b[0;32m   1290\u001b[0m                 \u001b[0maxes_b\u001b[0m\u001b[1;33m[\u001b[0m\u001b[0mk\u001b[0m\u001b[1;33m]\u001b[0m \u001b[1;33m+=\u001b[0m \u001b[0mndb\u001b[0m\u001b[1;33m\u001b[0m\u001b[0m\n\u001b[0;32m   1291\u001b[0m     \u001b[1;32mif\u001b[0m \u001b[1;32mnot\u001b[0m \u001b[0mequal\u001b[0m\u001b[1;33m:\u001b[0m\u001b[1;33m\u001b[0m\u001b[0m\n\u001b[1;32m-> 1292\u001b[1;33m         \u001b[1;32mraise\u001b[0m \u001b[0mValueError\u001b[0m\u001b[1;33m(\u001b[0m\u001b[1;34m\"shape-mismatch for sum\"\u001b[0m\u001b[1;33m)\u001b[0m\u001b[1;33m\u001b[0m\u001b[0m\n\u001b[0m\u001b[0;32m   1293\u001b[0m \u001b[1;33m\u001b[0m\u001b[0m\n\u001b[0;32m   1294\u001b[0m     \u001b[1;31m# Move the axes to sum over to the end of \"a\"\u001b[0m\u001b[1;33m\u001b[0m\u001b[1;33m\u001b[0m\u001b[0m\n",
      "\u001b[1;31mValueError\u001b[0m: shape-mismatch for sum"
     ]
    }
   ],
   "source": [
    "conv2dlayer(X, 1, F)"
   ]
  },
  {
   "cell_type": "code",
   "execution_count": 537,
   "metadata": {},
   "outputs": [
    {
     "data": {
      "text/plain": [
       "(16, 28, 28)"
      ]
     },
     "execution_count": 537,
     "metadata": {},
     "output_type": "execute_result"
    }
   ],
   "source": [
    "X.shape"
   ]
  },
  {
   "cell_type": "code",
   "execution_count": 545,
   "metadata": {},
   "outputs": [],
   "source": [
    "conv_array = np.empty_like()"
   ]
  },
  {
   "cell_type": "code",
   "execution_count": 576,
   "metadata": {},
   "outputs": [],
   "source": [
    "padded = pad(X, 1)"
   ]
  },
  {
   "cell_type": "code",
   "execution_count": 547,
   "metadata": {},
   "outputs": [],
   "source": [
    "m = F.shape"
   ]
  },
  {
   "cell_type": "code",
   "execution_count": 548,
   "metadata": {},
   "outputs": [
    {
     "data": {
      "text/plain": [
       "(3, 3)"
      ]
     },
     "execution_count": 548,
     "metadata": {},
     "output_type": "execute_result"
    }
   ],
   "source": [
    "m"
   ]
  },
  {
   "cell_type": "code",
   "execution_count": 583,
   "metadata": {},
   "outputs": [],
   "source": [
    "step_size = 1\n",
    "padded = pad(X, step_size)\n",
    "conv_array = np.empty_like(X)\n",
    "m = F.shape"
   ]
  },
  {
   "cell_type": "code",
   "execution_count": 582,
   "metadata": {},
   "outputs": [
    {
     "data": {
      "text/plain": [
       "(16, 28, 28)"
      ]
     },
     "execution_count": 582,
     "metadata": {},
     "output_type": "execute_result"
    }
   ],
   "source": [
    "X.shape"
   ]
  },
  {
   "cell_type": "code",
   "execution_count": 584,
   "metadata": {},
   "outputs": [],
   "source": [
    "for i in range(X.shape[1]):\n",
    "    for j in range(X.shape[2]):\n",
    "        conv_array[...,i,j] = np.tensordot(padded[...,i:m[0]+i,j:m[1]+j], F)"
   ]
  },
  {
   "cell_type": "code",
   "execution_count": 571,
   "metadata": {},
   "outputs": [],
   "source": [
    "A = np.tensordot(padded[...,0:m[0], 0:m[1]], F)"
   ]
  },
  {
   "cell_type": "code",
   "execution_count": 585,
   "metadata": {},
   "outputs": [
    {
     "data": {
      "text/plain": [
       "(16, 28, 28)"
      ]
     },
     "execution_count": 585,
     "metadata": {},
     "output_type": "execute_result"
    }
   ],
   "source": [
    "conv_array.shape"
   ]
  },
  {
   "cell_type": "code",
   "execution_count": 587,
   "metadata": {},
   "outputs": [
    {
     "data": {
      "text/plain": [
       "array([[[ 55, 200,   3,  74],\n",
       "        [  0, 162, 225,   7],\n",
       "        [  0,   5, 146, 200],\n",
       "        [ 85, 148,   3,   8]],\n",
       "\n",
       "       [[ 93, 132, 140, 152],\n",
       "        [ 54,  92,   0,   4],\n",
       "        [145,  59,   5,   7],\n",
       "        [ 29,  10,   4,   4]],\n",
       "\n",
       "       [[ 98, 162, 178, 199],\n",
       "        [119, 186, 108, 170],\n",
       "        [ 82,  12,  47,  29],\n",
       "        [ 43,  45, 122, 132]],\n",
       "\n",
       "       [[ 10,  78,  94, 255],\n",
       "        [177,  24,  35, 252],\n",
       "        [247,  81,  25,   7],\n",
       "        [ 76,  21,  21,   2]]], dtype=uint8)"
      ]
     },
     "execution_count": 587,
     "metadata": {},
     "output_type": "execute_result"
    }
   ],
   "source": [
    "conv_array[12:16,12:16,12:16]"
   ]
  },
  {
   "cell_type": "code",
   "execution_count": 588,
   "metadata": {},
   "outputs": [],
   "source": [
    "def pool_layer(X, pool_size=2):\n",
    "  \"\"\"\n",
    "  The pooling layer of a neural network. This takes in an array of arbitrary\n",
    "  shape. This function requires numpy to be\n",
    "  imported as np:\n",
    "  >>> import numpy as np\n",
    "  Note: Currently, this only works if the last two layers are divisible by 2.\n",
    "  This is an issue to be examined in the future. \n",
    "  Parameters\n",
    "  ----------\n",
    "  X : an ndarray from numpy.\n",
    "  pool_size : The size of the square array to be pooled over the previous\n",
    "  weights of the neural network. By default, this is set to 2.\n",
    "  Returns\n",
    "  -------\n",
    "  pool_arr : an ndarray which collects the max value of the pool_size x\n",
    "  pool_size array.\n",
    "  Example\n",
    "  -------\n",
    "  >>> a = np.array([[1, 2, 3, 4],\n",
    "                    [5, 6, 7, 8],\n",
    "                    [9, 10, 11, 12],\n",
    "                    [13, 14, 15, 16]])\n",
    "  >>> pool_layer(a, 2)\n",
    "  array([[ 6.,  8.],\n",
    "         [14., 16.]])\n",
    "  \n",
    "  \"\"\"\n",
    "\n",
    "  num_dims = len(X.shape)\n",
    "  # initialization of pool array by first initialization the shape of the\n",
    "  # array.\n",
    "  pool_shape = ()\n",
    "  for i in range(num_dims - 2):\n",
    "    pool_shape = pool_shape + (X.shape[i], )\n",
    "  pool_shape = pool_shape + (X.shape[num_dims - 2] // 2, )\n",
    "  pool_shape = pool_shape + (X.shape[num_dims - 1] // 2, )\n",
    "  pool_arr = np.empty(pool_shape) # Initialization of the pool array\n",
    "  # The parameters which np.max is taken over.\n",
    "  axis_params = tuple(range(num_dims))[num_dims-2:num_dims]\n",
    "  for i in range(pool_shape[num_dims - 2]):\n",
    "    for j in range(pool_shape[num_dims - 1]):\n",
    "      pool_arr[...,i,j] = np.max(X[...,2*i:2+2*i,2*j:2+2*j], axis=axis_params)\n",
    "  return pool_arr"
   ]
  },
  {
   "cell_type": "code",
   "execution_count": 590,
   "metadata": {},
   "outputs": [
    {
     "data": {
      "text/plain": [
       "(16, 14, 14)"
      ]
     },
     "execution_count": 590,
     "metadata": {},
     "output_type": "execute_result"
    }
   ],
   "source": [
    "pool_layer(X, 2).shape"
   ]
  },
  {
   "cell_type": "code",
   "execution_count": 591,
   "metadata": {},
   "outputs": [
    {
     "data": {
      "text/plain": [
       "(16, 28, 28)"
      ]
     },
     "execution_count": 591,
     "metadata": {},
     "output_type": "execute_result"
    }
   ],
   "source": [
    "X.shape"
   ]
  },
  {
   "cell_type": "code",
   "execution_count": null,
   "metadata": {},
   "outputs": [],
   "source": []
  }
 ],
 "metadata": {
  "kernelspec": {
   "display_name": "Python 3",
   "language": "python",
   "name": "python3"
  },
  "language_info": {
   "codemirror_mode": {
    "name": "ipython",
    "version": 3
   },
   "file_extension": ".py",
   "mimetype": "text/x-python",
   "name": "python",
   "nbconvert_exporter": "python",
   "pygments_lexer": "ipython3",
   "version": "3.6.5rc1"
  }
 },
 "nbformat": 4,
 "nbformat_minor": 2
}
